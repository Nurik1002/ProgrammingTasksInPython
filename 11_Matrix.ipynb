{
 "cells": [
  {
   "cell_type": "markdown",
   "id": "08063268",
   "metadata": {},
   "source": [
    "# Matrix"
   ]
  },
  {
   "cell_type": "markdown",
   "id": "3f0bcfec",
   "metadata": {},
   "source": [
    "**`Tub sonlar matrix`**"
   ]
  },
  {
   "cell_type": "code",
   "execution_count": 42,
   "id": "bd19ec0a",
   "metadata": {
    "scrolled": false
   },
   "outputs": [
    {
     "name": "stdout",
     "output_type": "stream",
     "text": [
      "n = 1000\n",
      "Sanagich :  999 \n",
      " 2 3 5 7 11 13 17 19 23 29 31 37 41 43 47 53 59 61 67 71 73 79 83 89 97 101 103 107 109 113 127 131 137 139 149 151 157 163 167 173 179 181 191 193 197 199 211 223 227 229 233 239 241 251 257 263 269 271 277 281 283 293 307 311 313 317 331 337 347 349 353 359 367 373 379 383 389 397 401 409 419 421 431 433 439 443 449 457 461 463 467 479 487 491 499 503 509 521 523 541 547 557 563 569 571 577 587 593 599 601 607 613 617 619 631 641 643 647 653 659 661 673 677 683 691 701 709 719 727 733 739 743 751 757 761 769 773 787 797 809 811 821 823 827 829 839 853 857 859 863 877 881 883 887 907 911 919 929 937 941 947 953 967 971 977 983 991 997\n",
      "168\n"
     ]
    }
   ],
   "source": [
    "n = int(input(\"n = \"))\n",
    "sana = 0\n",
    "tub_sonlar = [3,5,7]\n",
    "for i in range(11,n+1,2):\n",
    "    #sana += 1\n",
    "    if i%3==0 or i%5==0 or i%7==0:\n",
    "        sana+=1\n",
    "        continue\n",
    "    j = 3 if len(tub_sonlar)>3 else 0\n",
    "    while tub_sonlar[j]<=int(i**0.5):\n",
    "        sana+=1\n",
    "        if i%tub_sonlar[j]==0:\n",
    "            break\n",
    "        j += 1\n",
    "    else:\n",
    "        tub_sonlar.append(i)\n",
    "\n",
    "tub_sonlar.insert(0,2)\n",
    "print(\"Sanagich : \", sana, \"\\n\", *tub_sonlar)\n",
    "print(len(tub_sonlar))"
   ]
  },
  {
   "cell_type": "markdown",
   "id": "6198f697",
   "metadata": {},
   "source": [
    "**`Matrix * Matrix`**"
   ]
  },
  {
   "cell_type": "code",
   "execution_count": 53,
   "id": "d57d03fe",
   "metadata": {},
   "outputs": [
    {
     "name": "stdout",
     "output_type": "stream",
     "text": [
      "m = 5\n",
      "n = 5\n",
      "a : \n",
      "5 4 4 10 9\n",
      "6 9 9 10 8\n",
      "6 4 8 2 5\n",
      "3 8 1 1 2\n",
      "2 6 8 4 5\n",
      "b : \n",
      "5 4 4 10 9\n",
      "6 9 9 10 8\n",
      "6 4 8 2 5\n",
      "3 8 1 1 2\n",
      "2 6 8 4 5\n",
      "a*b  :\n",
      "177 134 199 253 176\n",
      "221 185 257 306 267\n",
      "96 103 155 191 172\n",
      "91 70 87 71 106\n",
      "118 119 147 173 166\n"
     ]
    }
   ],
   "source": [
    "\n",
    "from random import randint\n",
    "m = int(input(\"m = \"))\n",
    "n = int(input(\"n = \"))\n",
    "a = [[randint(1,10) for j in range(n)] for i in range(m)]\n",
    "b = [[randint(1,10) for j in range(m)] for i in range(n)]\n",
    "c = []\n",
    "print(\"a : \")\n",
    "for i in a:\n",
    "    print(*i)\n",
    "    \n",
    "print(\"b : \")\n",
    "for i in a:\n",
    "    print(*i)\n",
    "    \n",
    "m = len(a[0])\n",
    "n = len(a)\n",
    "\n",
    "for i in range(n):\n",
    "    array = []\n",
    "    for j in range(n):\n",
    "        s = 0\n",
    "        for k in range(m):\n",
    "            s += a[i][k]*b[k][j]\n",
    "        array.append(s)\n",
    "    c.append(array)\n",
    "        \n",
    "print(\"a*b  :\")\n",
    "for i in c:\n",
    "    print(*i)"
   ]
  },
  {
   "cell_type": "code",
   "execution_count": null,
   "id": "70d4b92c",
   "metadata": {},
   "outputs": [],
   "source": [
    "# 1\n",
    "def matritsa(m,n):\n",
    "    from random import randint\n",
    "    matrix = [[1 for i in range(n)] for _ in range(m)]\n",
    "    return matrix\n",
    "\n",
    "m = int(input(\"m = \"))\n",
    "n = int(input(\"n = \"))\n",
    "matrix = matritsa(m,n)\n",
    "print(matrix)\n",
    "for i in range(m):\n",
    "    for j in range(n):\n",
    "        matrix[i][j] *= 10*i\n",
    "        \n",
    "print(matrix)"
   ]
  },
  {
   "cell_type": "code",
   "execution_count": 8,
   "id": "15537a51",
   "metadata": {},
   "outputs": [
    {
     "name": "stdout",
     "output_type": "stream",
     "text": [
      "m = 3\n",
      "n = 3\n",
      "[[1, 1, 1], [1, 1, 1], [1, 1, 1]]\n",
      "[[0, 0, 0], [5, 5, 5], [10, 10, 10]]\n"
     ]
    }
   ],
   "source": [
    "# 2\n",
    "def matritsa(m,n):\n",
    "    from random import randint\n",
    "    matrix = [[1 for i in range(n)] for _ in range(m)]\n",
    "    return matrix\n",
    "\n",
    "m = int(input(\"m = \"))\n",
    "n = int(input(\"n = \"))\n",
    "matrix = matritsa(m,n)\n",
    "print(matrix)\n",
    "for j in range(n):\n",
    "    for i in range(m):\n",
    "        matrix[j][i] *= 5*j\n",
    "        \n",
    "print(matrix)\n"
   ]
  },
  {
   "cell_type": "code",
   "execution_count": 10,
   "id": "de23bc9c",
   "metadata": {},
   "outputs": [
    {
     "name": "stdout",
     "output_type": "stream",
     "text": [
      "m = 3\n",
      "n = 3\n",
      "[9, 7, 3]\n",
      "[[9, 9, 9], [7, 7, 7], [3, 3, 3]]\n"
     ]
    }
   ],
   "source": [
    "# 3\n",
    "from random import randint\n",
    "m = int(input(\"m = \"))\n",
    "n = int(input(\"n = \"))\n",
    "m1 = [randint(0,10) for i in range(m)]\n",
    "print(m1)\n",
    "matrix = [[m1[i] for j in range(n)] for i in range(m)]\n",
    "print(matrix)"
   ]
  },
  {
   "cell_type": "code",
   "execution_count": 12,
   "id": "ea45dad9",
   "metadata": {},
   "outputs": [
    {
     "name": "stdout",
     "output_type": "stream",
     "text": [
      "m = 3\n",
      "n = 3\n",
      "[1, 8, 0]\n",
      "[[1, 8, 0], [1, 8, 0], [1, 8, 0]]\n"
     ]
    }
   ],
   "source": [
    "# 4\n",
    "from random import randint\n",
    "m = int(input(\"m = \"))\n",
    "n = int(input(\"n = \"))\n",
    "n1 = [randint(0,10) for i in range(n)]\n",
    "print(n1)\n",
    "matrix = [[i for i in n1] for j in range(m)]\n",
    "print(matrix)"
   ]
  },
  {
   "cell_type": "code",
   "execution_count": 19,
   "id": "b0dd1eb2",
   "metadata": {},
   "outputs": [
    {
     "name": "stdout",
     "output_type": "stream",
     "text": [
      "m = 3\n",
      "n = 3\n",
      "[9, 10, 1]\n",
      "d = 9\n",
      "[[9, 18, 27], [10, 19, 28], [1, 10, 19]]\n"
     ]
    }
   ],
   "source": [
    "# 5\n",
    "from random import randint\n",
    "m = int(input(\"m = \"))\n",
    "n = int(input(\"n = \"))\n",
    "n1 = [randint(0,10) for i in range(m)]\n",
    "print(n1)\n",
    "d = int(input(\"d = \"))\n",
    "matrix = [ [i] for i in n1 ]\n",
    "for i in range(m):\n",
    "    for j in range(n-1):\n",
    "        matrix[i].append(matrix[i][j]+d)\n",
    "        \n",
    "print(matrix)\n"
   ]
  },
  {
   "cell_type": "code",
   "execution_count": 20,
   "id": "8fc77485",
   "metadata": {},
   "outputs": [
    {
     "name": "stdout",
     "output_type": "stream",
     "text": [
      "m = 3\n",
      "n = 3\n",
      "[2, 9, 4]\n",
      "q = 2\n",
      "[[2, 4, 8], [9, 18, 36], [4, 8, 16]]\n"
     ]
    }
   ],
   "source": [
    "# 6\n",
    "from random import randint\n",
    "m = int(input(\"m = \"))\n",
    "n = int(input(\"n = \"))\n",
    "n1 = [randint(0,10) for i in range(m)]\n",
    "print(n1)\n",
    "d = int(input(\"q = \"))\n",
    "matrix = [ [i] for i in n1 ]\n",
    "for i in range(m):\n",
    "    for j in range(n-1):\n",
    "        matrix[i].append(matrix[i][j]*d)\n",
    "        \n",
    "print(matrix)"
   ]
  },
  {
   "cell_type": "code",
   "execution_count": 23,
   "id": "58e96b4c",
   "metadata": {},
   "outputs": [
    {
     "name": "stdout",
     "output_type": "stream",
     "text": [
      "m = 3\n",
      "n = 3\n",
      "[[12, 16, 14], [5, 0, 18], [8, 1, 17]]\n",
      "k = 2\n",
      "[5, 0, 18]\n"
     ]
    }
   ],
   "source": [
    "# 7\n",
    "def matritsa(m,n):\n",
    "    from random import randint\n",
    "    matrix = [[randint(0,20) for i in range(n)] for _ in range(m)]\n",
    "    return matrix\n",
    "\n",
    "m = int(input(\"m = \"))\n",
    "n = int(input(\"n = \"))\n",
    "matrix = matritsa(m,n)\n",
    "print(matrix)\n",
    "k = int(input(\"k = \"))\n",
    "print(matrix[k-1])"
   ]
  },
  {
   "cell_type": "code",
   "execution_count": 27,
   "id": "ed040b65",
   "metadata": {},
   "outputs": [
    {
     "name": "stdout",
     "output_type": "stream",
     "text": [
      "m = 3\n",
      "n = 3\n",
      "[[0, 18, 3], [3, 12, 1], [4, 12, 11]]\n",
      "k = 1\n",
      "0 3 4 "
     ]
    }
   ],
   "source": [
    "# 8\n",
    "def matritsa(m,n):\n",
    "    from random import randint\n",
    "    matrix = [[randint(0,20) for i in range(n)] for _ in range(m)]\n",
    "    return matrix\n",
    "\n",
    "m = int(input(\"m = \"))\n",
    "n = int(input(\"n = \"))\n",
    "matrix = matritsa(m,n)\n",
    "print(matrix)\n",
    "k = int(input(\"k = \"))\n",
    "for _ in range(m):\n",
    "    print(matrix[_][k-1], end=' ')\n",
    "    "
   ]
  },
  {
   "cell_type": "code",
   "execution_count": 33,
   "id": "c9f2194f",
   "metadata": {},
   "outputs": [
    {
     "name": "stdout",
     "output_type": "stream",
     "text": [
      "m = 6\n",
      "n = 2\n",
      "[[15, 2], [1, 16], [6, 4], [14, 15], [8, 3], [5, 4]]\n",
      "[6, 4]\n",
      "[8, 3]\n"
     ]
    }
   ],
   "source": [
    "# 9\n",
    "def matritsa(m,n):\n",
    "    from random import randint\n",
    "    matrix = [[randint(0,20) for i in range(n)] for _ in range(m)]\n",
    "    return matrix\n",
    "\n",
    "m = int(input(\"m = \"))\n",
    "n = int(input(\"n = \"))\n",
    "matrix = matritsa(m,n)\n",
    "print(matrix)\n",
    "for i in range(2,m,2):\n",
    "    print(matrix[i])"
   ]
  },
  {
   "cell_type": "code",
   "execution_count": 35,
   "id": "2f683083",
   "metadata": {},
   "outputs": [
    {
     "name": "stdout",
     "output_type": "stream",
     "text": [
      "m = 5\n",
      "n = 5\n",
      "[[1, 11, 14, 18, 13], [9, 14, 16, 17, 16], [16, 18, 4, 1, 16], [10, 5, 13, 15, 20], [5, 16, 15, 13, 16]]\n",
      "11 18 \n",
      "14 17 \n",
      "18 1 \n",
      "5 15 \n",
      "16 13 \n"
     ]
    }
   ],
   "source": [
    "# 10\n",
    "def matritsa(m,n):\n",
    "    from random import randint\n",
    "    matrix = [[randint(0,20) for i in range(n)] for _ in range(m)]\n",
    "    return matrix\n",
    "\n",
    "m = int(input(\"m = \"))\n",
    "n = int(input(\"n = \"))\n",
    "matrix = matritsa(m,n)\n",
    "print(matrix)\n",
    "\n",
    "for i in range(m):\n",
    "    for j in range(1,n-1,2):\n",
    "        print(matrix[i][j], end=\" \")\n",
    "    print()\n"
   ]
  },
  {
   "cell_type": "code",
   "execution_count": 2,
   "id": "5441cae8",
   "metadata": {},
   "outputs": [
    {
     "name": "stdout",
     "output_type": "stream",
     "text": [
      "m = 3\n",
      "n = 3\n",
      "[[3, 3, 2], [19, 5, 2], [17, 11, 11]]\n",
      "[3, 3, 2]\n",
      "[2, 5, 19]\n",
      "[17, 11, 11]\n"
     ]
    }
   ],
   "source": [
    "# 11\n",
    "def matritsa(m,n):\n",
    "    from random import randint\n",
    "    matrix = [[randint(0,20) for i in range(n)] for _ in range(m)]\n",
    "    return matrix\n",
    "\n",
    "m = int(input(\"m = \"))\n",
    "n = int(input(\"n = \"))\n",
    "matrix = matritsa(m,n)\n",
    "print(matrix)\n",
    "\n",
    "for i in range(m):\n",
    "    if i%2==1:\n",
    "        matrix[i].reverse()\n",
    "    print(matrix[i])\n",
    "    "
   ]
  },
  {
   "cell_type": "code",
   "execution_count": 1,
   "id": "fb7345ea",
   "metadata": {
    "scrolled": false
   },
   "outputs": [
    {
     "name": "stdout",
     "output_type": "stream",
     "text": [
      "m = 3\n",
      "n = 3\n",
      "[[13, 13, 9], [1, 1, 6], [20, 6, 2]]\n",
      "13\n",
      "1\n",
      "20\n",
      "\n",
      "6\n",
      "1\n",
      "13\n",
      "\n",
      "9\n",
      "6\n",
      "2\n",
      "\n"
     ]
    }
   ],
   "source": [
    "# 12\n",
    "def matritsa(m,n):\n",
    "    from random import randint\n",
    "    matrix = [[randint(0,20) for i in range(n)] for _ in range(m)]\n",
    "    return matrix\n",
    "\n",
    "m = int(input(\"m = \"))\n",
    "n = int(input(\"n = \"))\n",
    "matrix = matritsa(m,n)\n",
    "print(matrix)\n",
    "\n",
    "for i in range(n):\n",
    "    for j in range(m):\n",
    "        if i%2!=0:\n",
    "            j =n-j-1\n",
    "        print(matrix[j][i])\n",
    "    \n",
    "    print()"
   ]
  },
  {
   "cell_type": "code",
   "execution_count": 76,
   "id": "e3998b7f",
   "metadata": {},
   "outputs": [
    {
     "name": "stdout",
     "output_type": "stream",
     "text": [
      "m = 5\n",
      "7 5 8 9 4\n",
      "8 1 8 3 8\n",
      "10 4 10 1 5\n",
      "2 7 2 1 9\n",
      "9 3 4 6 1\n",
      "\n",
      "7 5 8 9 4 8 5 9 1 \n",
      "8 1 8 3 1 1 6 \n",
      "10 4 10 2 4 \n",
      "2 7 3 \n",
      "9 \n"
     ]
    }
   ],
   "source": [
    "# 13\n",
    "from random import randint\n",
    "m = int(input(\"m = \"))\n",
    "matrix = [[randint(1,10) for j in range(m)] for i in range(m)]\n",
    "for i in matrix:\n",
    "    print(*i)\n",
    "print()\n",
    "k = m + 2\n",
    "for i in range(m):\n",
    "    for j in range(m-i):\n",
    "        print(matrix[i][j], end=\" \")\n",
    "    for j in range(1,m-i):\n",
    "        print(matrix[j+i][m-1-i], end=\" \")\n",
    "    print()"
   ]
  },
  {
   "cell_type": "code",
   "execution_count": 86,
   "id": "6925f78f",
   "metadata": {},
   "outputs": [
    {
     "name": "stdout",
     "output_type": "stream",
     "text": [
      "m = 4\n",
      "3 4 7 1\n",
      "9 8 5 6\n",
      "6 6 8 9\n",
      "4 4 7 9\n",
      "\n",
      "9 7 4 4 6 9 3 \n",
      "9 8 6 8 4 \n",
      "6 5 7 \n",
      "1 \n"
     ]
    }
   ],
   "source": [
    "# 14\n",
    "from random import randint\n",
    "m = int(input(\"m = \"))\n",
    "matrix = [[randint(1,10) for j in range(m)] for i in range(m)]\n",
    "for i in matrix:\n",
    "    print(*i)\n",
    "print()\n",
    "k = m + 2\n",
    "for i in range(m):\n",
    "    for j in range(m-i):\n",
    "        print(matrix[m-1-i][m-1-j], end=\" \")\n",
    "    for j in range(1,m-i):\n",
    "        print(matrix[m-1-(j+i)][i], end=\" \")\n",
    "    print()"
   ]
  },
  {
   "cell_type": "code",
   "execution_count": 3,
   "id": "47fe8e30",
   "metadata": {},
   "outputs": [
    {
     "name": "stdout",
     "output_type": "stream",
     "text": [
      "n = 6\n",
      "1 2 3 4 5 6\n",
      "20 21 22 23 24 7\n",
      "19 32 33 34 25 8\n",
      "18 31 36 35 26 9\n",
      "17 30 29 28 27 10\n",
      "16 15 14 13 12 11\n"
     ]
    }
   ],
   "source": [
    "# 15\n",
    "n = int(input(\"n = \"))\n",
    "matrix = [[0 for j in range(n)] for i in range(n)]\n",
    "satr = 0; ustun = n-1; ustunchap = 0; satrpast = n-1 \n",
    "son = 1\n",
    "while satr <= ustun:\n",
    "    for i in range(ustunchap, ustun):\n",
    "        matrix[satr][i] = son\n",
    "        son += 1        \n",
    "    for i in range(satr, satrpast):\n",
    "        matrix[i][ustun] = son\n",
    "        son += 1\n",
    "    for i in range(ustun, ustunchap,-1):\n",
    "        matrix[satrpast][i] = son\n",
    "        son += 1\n",
    "    for i in range(satrpast, satr, -1):\n",
    "        matrix[i][ustunchap] = son\n",
    "        son += 1\n",
    "    \n",
    "    satr += 1; ustun -= 1; satrpast -= 1; ustunchap +=1\n",
    "\n",
    "if n%2==1:\n",
    "    matrix[n//2][n//2] = son\n",
    "for i in matrix:\n",
    "    print(*i)\n",
    "    "
   ]
  },
  {
   "cell_type": "code",
   "execution_count": 6,
   "id": "3af924e3",
   "metadata": {},
   "outputs": [
    {
     "name": "stdout",
     "output_type": "stream",
     "text": [
      "n = 5\n",
      "1 16 15 14 13\n",
      "2 17 24 23 12\n",
      "3 18 25 22 11\n",
      "4 19 20 21 10\n",
      "5 6 7 8 9\n"
     ]
    }
   ],
   "source": [
    "# 16\n",
    "n = int(input(\"n = \"))\n",
    "matrix = [[0 for j in range(n)] for i in range(n)]\n",
    "pastga = 0; ongga = 0; tepaga = n-1; chapga = n-1\n",
    "son = 1\n",
    "for j in range(n//2):\n",
    "    for i in range(pastga, tepaga):\n",
    "        matrix[i][pastga] = son\n",
    "        son += 1\n",
    "        \n",
    "    for i in range(ongga, chapga):\n",
    "        matrix[n-1-j][i] = son\n",
    "        son += 1\n",
    "        \n",
    "    for i in range(tepaga, pastga,-1):\n",
    "        matrix[i][tepaga] = son \n",
    "        son += 1\n",
    "        \n",
    "    for i in range(chapga, ongga, -1):\n",
    "        matrix[pastga][i] = son\n",
    "        son += 1\n",
    "        \n",
    "    pastga += 1; ongga+= 1; tepaga -= 1; chapga -= 1\n",
    "        \n",
    "if n%2==1:\n",
    "    matrix[n//2][n//2]=n**2\n",
    "    \n",
    "for i in matrix:\n",
    "    print(*i)"
   ]
  },
  {
   "cell_type": "code",
   "execution_count": 4,
   "id": "0a66b1d9",
   "metadata": {},
   "outputs": [
    {
     "name": "stdout",
     "output_type": "stream",
     "text": [
      "00 01 02 03 04 \n",
      "10 11 12 13 14 \n",
      "20 21 22 23 24 \n",
      "30 31 32 33 34 \n",
      "40 41 42 43 44 \n"
     ]
    }
   ],
   "source": [
    "n = 5\n",
    "matrix = [[i for i in range(n)] for i in range(n)]\n",
    "for i in range(n):\n",
    "    for j in range(n):\n",
    "        print(f\"{i}{j}\", end=\" \")\n",
    "        \n",
    "    print()\n",
    "    "
   ]
  },
  {
   "cell_type": "code",
   "execution_count": null,
   "id": "1d491840",
   "metadata": {},
   "outputs": [],
   "source": [
    "# 17\n",
    "from random import randint\n",
    "m = int(input(\"m = \"))\n",
    "n = int(input(\"n = \"))\n",
    "matrix = [[randint(0,10) for j in range(n)] for i in range(m)]\n",
    "print(matrix)\n",
    "k = int(input(\"k = \"))\n",
    "p = 1; s = 0\n",
    "for i in matrix[k]:\n",
    "    s += i; p *= i\n",
    "    \n",
    "print(\"p = \", p, \"s = \",s)\n"
   ]
  },
  {
   "cell_type": "code",
   "execution_count": 12,
   "id": "19bde589",
   "metadata": {},
   "outputs": [
    {
     "name": "stdout",
     "output_type": "stream",
     "text": [
      "m = 3\n",
      "n = 3\n",
      "[[5, 4, 6], [7, 3, 1], [1, 10, 10]]\n",
      "k = 1\n",
      "p =  120 s =  17\n"
     ]
    }
   ],
   "source": [
    "# 18\n",
    "from random import randint\n",
    "m = int(input(\"m = \"))\n",
    "n = int(input(\"n = \"))\n",
    "matrix = [[randint(0,10) for j in range(n)] for i in range(m)]\n",
    "print(matrix)\n",
    "k = int(input(\"k = \"))\n",
    "p = 1\n",
    "s = 0\n",
    "for i in range(m):\n",
    "    p *= matrix[i][k]\n",
    "    s += matrix[i][k]\n",
    "    \n",
    "print(\"p = \", p, \"s = \",s)\n"
   ]
  },
  {
   "cell_type": "code",
   "execution_count": 14,
   "id": "d6e09af9",
   "metadata": {},
   "outputs": [
    {
     "name": "stdout",
     "output_type": "stream",
     "text": [
      "m = 3\n",
      "n = 3\n",
      "[[8, 2, 9], [9, 4, 2], [6, 7, 7]]\n",
      "s0 =  19\n",
      "s1 =  15\n",
      "s2 =  20\n"
     ]
    }
   ],
   "source": [
    "# 19\n",
    "from random import randint\n",
    "m = int(input(\"m = \"))\n",
    "n = int(input(\"n = \"))\n",
    "matrix = [[randint(0,10) for j in range(n)] for i in range(m)]\n",
    "print(matrix)\n",
    "s = []\n",
    "for i in range(m):\n",
    "    s.append(sum(matrix[i]))\n",
    "    print(f\"s{i} = \", s[-1])\n",
    "    "
   ]
  },
  {
   "cell_type": "code",
   "execution_count": 17,
   "id": "052fa355",
   "metadata": {},
   "outputs": [
    {
     "name": "stdout",
     "output_type": "stream",
     "text": [
      "m = 2\n",
      "n = 2\n",
      "[[8, 0], [4, 9]]\n",
      "p0 =  32\n",
      "p1 =  0\n"
     ]
    }
   ],
   "source": [
    "# 20\n",
    "from random import randint\n",
    "m = int(input(\"m = \"))\n",
    "n = int(input(\"n = \"))\n",
    "matrix = [[randint(0,10) for j in range(n)] for i in range(m)]\n",
    "print(matrix)\n",
    "p = []\n",
    "for i in range(n):\n",
    "    p1 = 1\n",
    "    for j in range(m):\n",
    "        p1 *= matrix[j][i]\n",
    "    p.append(p1)\n",
    "    print(f\"p{i} = \", p[-1])\n",
    "    "
   ]
  },
  {
   "cell_type": "code",
   "execution_count": 28,
   "id": "a1c35961",
   "metadata": {
    "scrolled": true
   },
   "outputs": [
    {
     "name": "stdout",
     "output_type": "stream",
     "text": [
      "m = 3\n",
      "n = 4\n",
      "[[3, 9, 4, 8], [5, 4, 5, 3], [10, 7, 3, 1]]\n",
      "O'A1 =  6.666666666666667\n",
      "O'A1 =  4.0\n"
     ]
    }
   ],
   "source": [
    "# 21\n",
    "from random import randint\n",
    "m = int(input(\"m = \"))\n",
    "n = int(input(\"n = \"))\n",
    "matrix = [[randint(0,10) for j in range(n)] for i in range(m)]\n",
    "print(matrix)\n",
    "\n",
    "for i in range(1,n,2):\n",
    "    s = 0; j = 0\n",
    "    for j in range(m):\n",
    "        s += matrix[j][i]\n",
    "        j += 1\n",
    "    print(f\"O'A{1} = \", s/j)\n",
    "      "
   ]
  },
  {
   "cell_type": "code",
   "execution_count": 6,
   "id": "a79db7f8",
   "metadata": {},
   "outputs": [
    {
     "name": "stdout",
     "output_type": "stream",
     "text": [
      "m = 7\n",
      "n = 3\n",
      "[[7, 5, 7], [9, 0, 4], [3, 1, 1], [9, 4, 1], [0, 7, 0], [6, 1, 7], [9, 8, 5]]\n",
      "S2 =  5\n",
      "S4 =  7\n",
      "S6 =  22\n"
     ]
    }
   ],
   "source": [
    "# 22\n",
    "from random import randint\n",
    "m = int(input(\"m = \"))\n",
    "n = int(input(\"n = \"))\n",
    "matrix = [[randint(0,10) for j in range(n)] for _ in range(m)]\n",
    "print(matrix)\n",
    "for i in range(2,m,2):\n",
    "    print(f\"S{i} = \", sum(matrix[i]))"
   ]
  },
  {
   "cell_type": "code",
   "execution_count": 7,
   "id": "31c3e20a",
   "metadata": {},
   "outputs": [
    {
     "name": "stdout",
     "output_type": "stream",
     "text": [
      "m = 7\n",
      "n = 3\n",
      "[[10, 5, 0], [7, 10, 9], [2, 0, 7], [7, 4, 8], [8, 9, 6], [4, 4, 0], [9, 5, 0]]\n",
      "min 0 =  0\n",
      "min 1 =  7\n",
      "min 2 =  0\n",
      "min 3 =  4\n",
      "min 4 =  6\n",
      "min 5 =  0\n",
      "min 6 =  0\n"
     ]
    }
   ],
   "source": [
    "# 23\n",
    "from random import randint\n",
    "m = int(input(\"m = \"))\n",
    "n = int(input(\"n = \"))\n",
    "matrix = [[randint(0,10) for j in range(n)] for _ in range(m)]\n",
    "print(matrix)\n",
    "for i in range(0,m):\n",
    "    print(f\"min {i} = \", min(matrix[i]))"
   ]
  },
  {
   "cell_type": "code",
   "execution_count": 8,
   "id": "75c1c1f0",
   "metadata": {},
   "outputs": [
    {
     "name": "stdout",
     "output_type": "stream",
     "text": [
      "m = 3\n",
      "n = 3\n",
      "[[0, 4, 8], [8, 4, 1], [2, 4, 1]]\n",
      "maxi 0 =  8\n",
      "maxi 1 =  4\n",
      "maxi 2 =  8\n"
     ]
    }
   ],
   "source": [
    "# 24\n",
    "from random import randint\n",
    "m = int(input(\"m = \"))\n",
    "n = int(input(\"n = \"))\n",
    "matrix = [[randint(0,10) for j in range(n)] for _ in range(m)]\n",
    "print(matrix)\n",
    "\n",
    "for i in range(n):\n",
    "    flag = True\n",
    "    for j in range(m):\n",
    "        if flag:\n",
    "            maxi = matrix[j][i]\n",
    "            flag = False\n",
    "        if maxi<matrix[j][i]:\n",
    "            maxi = matrix[j][i]\n",
    "            \n",
    "    print(f\"maxi {i} = \", maxi)\n"
   ]
  },
  {
   "cell_type": "code",
   "execution_count": 10,
   "id": "66bbc9c0",
   "metadata": {},
   "outputs": [
    {
     "name": "stdout",
     "output_type": "stream",
     "text": [
      "m = 7\n",
      "n = 2\n",
      "[[0, 3], [7, 9], [0, 8], [4, 0], [5, 4], [9, 2], [7, 7]]\n",
      "Index =  1 Summ =  16\n"
     ]
    }
   ],
   "source": [
    "# 25\n",
    "from random import randint\n",
    "m = int(input(\"m = \"))\n",
    "n = int(input(\"n = \"))\n",
    "matrix = [[randint(0,10) for j in range(n)] for _ in range(m)]\n",
    "print(matrix)\n",
    "flag = True\n",
    "for i in range(m):\n",
    "    if flag:\n",
    "        maxi = sum(matrix[i])\n",
    "        index = i\n",
    "        flag = False\n",
    "    if maxi < sum(matrix[i]):\n",
    "        maxi = sum(matrix[i])\n",
    "        index = i\n",
    "        \n",
    "print(\"Index = \", index, \"Summ = \", maxi)"
   ]
  },
  {
   "cell_type": "code",
   "execution_count": 22,
   "id": "8418b332",
   "metadata": {},
   "outputs": [
    {
     "name": "stdout",
     "output_type": "stream",
     "text": [
      "m = 3\n",
      "n = 2\n",
      "[[3, 5], [9, 4], [0, 8]]\n",
      "index =  0 p =  0\n"
     ]
    }
   ],
   "source": [
    "# 26\n",
    "from random import randint\n",
    "m = int(input(\"m = \"))\n",
    "n = int(input(\"n = \"))\n",
    "matrix = [[randint(0,10) for j in range(n)] for _ in range(m)]\n",
    "print(matrix)\n",
    "flag = True\n",
    "p_mini = 1\n",
    "p = 0\n",
    "for i in range(n):   \n",
    "    for j in range(m):\n",
    "        p_mini*= matrix[j][i]\n",
    "        \n",
    "    if flag:\n",
    "        p = p_mini\n",
    "        index = i\n",
    "        flag = False\n",
    "        \n",
    "    if p<p_mini:\n",
    "        p = p_mini\n",
    "        index = i\n",
    "        \n",
    "print(\"index = \", index, \"p = \", p)\n",
    "        \n",
    "            \n",
    "            "
   ]
  },
  {
   "cell_type": "code",
   "execution_count": 26,
   "id": "76827129",
   "metadata": {},
   "outputs": [
    {
     "name": "stdout",
     "output_type": "stream",
     "text": [
      "m = 3\n",
      "n = 3\n",
      "[[2, 7, 0], [10, 8, 8], [4, 2, 4]]\n",
      "Max =  7\n"
     ]
    }
   ],
   "source": [
    "# 27\n",
    "from random import randint\n",
    "m = int(input(\"m = \"))\n",
    "n = int(input(\"n = \"))\n",
    "matrix = [[randint(0,10) for j in range(n)] for _ in range(m)]\n",
    "print(matrix)\n",
    "flag = True\n",
    "for i in range(m):\n",
    "    if flag:\n",
    "        s_mini = sum(matrix[i])\n",
    "        maxi = max(matrix[i])\n",
    "        flag = False\n",
    "        continue\n",
    "    if s_mini>sum(matrix[i]):\n",
    "        s_mini = sum(matrix[i])\n",
    "        maxi = max(matrix[i])\n",
    "        \n",
    "print(\"Max = \", maxi)\n",
    "    "
   ]
  },
  {
   "cell_type": "code",
   "execution_count": 6,
   "id": "61ae7144",
   "metadata": {},
   "outputs": [
    {
     "name": "stdout",
     "output_type": "stream",
     "text": [
      "m = 3\n",
      "n = 3\n",
      "[[9, 5, 4], [8, 1, 5], [1, 7, 8]]\n",
      "[0, 0] 9\n"
     ]
    }
   ],
   "source": [
    "# 28\n",
    "from random import randint\n",
    "m = int(input(\"m = \"))\n",
    "n = int(input(\"n = \"))\n",
    "matrix = [[randint(0,10) for j in range(n)] for _ in range(m)]\n",
    "print(matrix)\n",
    "flag = True; flag1 = True\n",
    "for i in range(n):\n",
    "    s = 0\n",
    "    for j in range(m):\n",
    "        s += matrix[j][i]\n",
    "        if flag1:\n",
    "            mini = [j,i]\n",
    "            flag1 = False\n",
    "        if matrix[mini[0]][mini[1]] < matrix[j][i]:\n",
    "            mini = [j,i]\n",
    "        \n",
    "    if flag:\n",
    "        s_max = s\n",
    "        mini_1 = mini.copy()\n",
    "        \n",
    "    if s_max < s:\n",
    "        s_max = s\n",
    "        mini_1 = mini.copy()\n",
    "        \n",
    "print(mini_1,matrix[mini_1[0]][mini_1[1]])"
   ]
  },
  {
   "cell_type": "code",
   "execution_count": null,
   "id": "e8c069fe",
   "metadata": {},
   "outputs": [],
   "source": [
    "Dexster"
   ]
  },
  {
   "cell_type": "code",
   "execution_count": 10,
   "id": "fd2092ef",
   "metadata": {},
   "outputs": [
    {
     "name": "stdout",
     "output_type": "stream",
     "text": [
      "m = 3\n",
      "n = 4\n",
      "[[2, 6, 2, 0], [7, 9, 0, 2], [6, 6, 0, 5]]\n",
      "s 0 :  3\n",
      "s 1 :  2\n",
      "s 2 :  1\n"
     ]
    }
   ],
   "source": [
    "# 29\n",
    "from random import randint\n",
    "m = int(input(\"m = \"))\n",
    "n = int(input(\"n = \"))\n",
    "matrix = [[randint(0,10) for j in range(n)] for _ in range(m)]\n",
    "print(matrix)\n",
    "for i in range(m):\n",
    "    s = 0\n",
    "    for j in range(n):\n",
    "        if sum(matrix[i])/n > matrix[i][j]:\n",
    "            s += 1\n",
    "    print(f\"s {i} : \", s )"
   ]
  },
  {
   "cell_type": "code",
   "execution_count": 14,
   "id": "d09c2830",
   "metadata": {},
   "outputs": [
    {
     "name": "stdout",
     "output_type": "stream",
     "text": [
      "m = 3\n",
      "n = 3\n",
      "[[6, 6, 9], [8, 8, 8], [9, 5, 2]]\n",
      "s0 :  2\n",
      "s1 :  1\n",
      "s2 :  2\n"
     ]
    }
   ],
   "source": [
    "# 30\n",
    "from random import randint\n",
    "m = int(input(\"m = \"))\n",
    "n = int(input(\"n = \"))\n",
    "matrix = [[randint(0,10) for j in range(n)] for _ in range(m)]\n",
    "print(matrix)\n",
    "for i in range(n):\n",
    "    s = 0\n",
    "    for j in range(m):\n",
    "        s+=matrix[j][i]\n",
    "    s /= n\n",
    "    s1 = 0\n",
    "    for j in range(m):\n",
    "        if s < matrix[j][i]:\n",
    "            s1 += 1\n",
    "            \n",
    "    print(f\"s{i} : \", s1)"
   ]
  },
  {
   "cell_type": "code",
   "execution_count": 6,
   "id": "33a52787",
   "metadata": {},
   "outputs": [
    {
     "name": "stdout",
     "output_type": "stream",
     "text": [
      "satr = 3\n",
      "ustun = 3\n",
      "4 1 5\n",
      "3 7 9\n",
      "2 3 8\n",
      "O'rta arifmetrigi :  4.666666666666667\n",
      "2 sart : 4.333333333333333 \n",
      "1 ustun : 4.666666666666667\n"
     ]
    }
   ],
   "source": [
    "# 31\n",
    "from random import randint\n",
    "m = int(input('satr = '))\n",
    "n = int(input(\"ustun = \"))\n",
    "matrix = [[randint(1,10) for j in range(n)] for i in range(m)]\n",
    "OA = 0\n",
    "for i in matrix:\n",
    "    OA += sum(i)/n\n",
    "    print(*i)\n",
    "OA /= m\n",
    "print(\"O'rta arifmetrigi : \",OA)\n",
    "satr = sum(matrix[0])/n\n",
    "index_s = 0\n",
    "s = 0\n",
    "ustun = 0; flag = True\n",
    "for i in range(m):\n",
    "    if abs(OA - satr) > abs(OA - sum(matrix[i])/n):\n",
    "        satr = sum(matrix[i])/n\n",
    "        index_s = i\n",
    "    for j in range(n):\n",
    "        s += matrix[j][i]\n",
    "    s /= m    \n",
    "    \n",
    "    if flag:\n",
    "        ustun = s\n",
    "        index_u = i\n",
    "        flag = False\n",
    "        \n",
    "    if abs(OA-ustun)>abs(OA-s):\n",
    "        ustun = s\n",
    "        index_u = i\n",
    "        \n",
    "print(f\"{i} sart : {satr} \\n{index_u} ustun : {ustun}\")"
   ]
  },
  {
   "cell_type": "code",
   "execution_count": 9,
   "id": "91d9ceec",
   "metadata": {},
   "outputs": [
    {
     "name": "stdout",
     "output_type": "stream",
     "text": [
      "satr = 4\n",
      "ustun = 4\n",
      "-5 2 1 -9\n",
      "5 -2 -1 -7\n",
      "-3 0 -6 2\n",
      "2 -2 0 2\n",
      "osha satr -->  -5 2 1 -9\n"
     ]
    }
   ],
   "source": [
    "# 32\n",
    "from random import randint\n",
    "m = int(input('satr = '))\n",
    "n = int(input(\"ustun = \"))\n",
    "matrix = [[randint(-10,10) for j in range(n)] for i in range(m)]\n",
    "for i in matrix:\n",
    "    print(*i)\n",
    "    \n",
    "for i in matrix:\n",
    "    manfiy = [-1 for j in range(n) if i[j]<0]\n",
    "    musbat = [1 for j in range(n) if i[j]>0]\n",
    "    if len(musbat)==len(manfiy):\n",
    "        print(f\"{i} satr --> \", *i)\n",
    "        break\n",
    "        \n",
    "else:\n",
    "    print(\"Bunday satr yo'q\")\n",
    "    \n"
   ]
  },
  {
   "cell_type": "code",
   "execution_count": 11,
   "id": "4665064f",
   "metadata": {},
   "outputs": [
    {
     "name": "stdout",
     "output_type": "stream",
     "text": [
      "satr = 4\n",
      "ustun = 4\n",
      "4 5 -10 -3\n",
      "-8 -6 9 -2\n",
      "-8 -1 0 7\n",
      "3 -9 -1 9\n",
      "O'sha ustun -->  4 -8 -8 3\n"
     ]
    }
   ],
   "source": [
    "# 33\n",
    "from random import randint\n",
    "m = int(input('satr = '))\n",
    "n = int(input(\"ustun = \"))\n",
    "matrix = [[randint(-10,10) for j in range(n)] for i in range(m)]\n",
    "for i in matrix:\n",
    "    print(*i)\n",
    "    \n",
    "for i in range(n):\n",
    "    musbat = [1 for j in range(m) if matrix[j][i] > 0]\n",
    "    manfiy = [-1 for j in range(m) if matrix[j][i] < 0]\n",
    "    if len(musbat) == len(manfiy):\n",
    "        print(f\"{i} ustun --> \", *[matrix[j][i] for j in range(m)])\n",
    "        break\n",
    "        \n",
    "else:\n",
    "    print(\"Bunday ustun yo'q\")"
   ]
  },
  {
   "cell_type": "code",
   "execution_count": 15,
   "id": "8090e07d",
   "metadata": {},
   "outputs": [
    {
     "name": "stdout",
     "output_type": "stream",
     "text": [
      "satr = 2\n",
      "ustun = 2\n",
      "8 4\n",
      "0 9\n",
      "O'sha satr --> 8 4\n"
     ]
    }
   ],
   "source": [
    "# 34\n",
    "from random import randint\n",
    "m = int(input('satr = '))\n",
    "n = int(input(\"ustun = \"))\n",
    "matrix = [[randint(0,10) for j in range(n)] for i in range(m)]\n",
    "for i in matrix:\n",
    "    print(*i)\n",
    "    \n",
    "def juft(array):\n",
    "    for i in array:\n",
    "        if i%2==1:\n",
    "            return False\n",
    "            break\n",
    "    else:\n",
    "        return True\n",
    "    \n",
    "for i in range(m-1,-1,-1):\n",
    "    if juft(matrix[i]):\n",
    "        print(f\"{i} satr -->\", *matrix[i])\n",
    "        break\n",
    "        \n",
    "else:\n",
    "    print(\"Bunday satr yo'q\")\n",
    "    \n",
    "    "
   ]
  },
  {
   "cell_type": "code",
   "execution_count": 22,
   "id": "76f81c1a",
   "metadata": {},
   "outputs": [
    {
     "name": "stdout",
     "output_type": "stream",
     "text": [
      "satr = 3\n",
      "ustun = 3\n",
      "9 10 5\n",
      "7 9 6\n",
      "1 5 4\n",
      "0 ustun -->  9 7 1\n"
     ]
    }
   ],
   "source": [
    "# 35\n",
    "from random import randint\n",
    "m = int(input('satr = '))\n",
    "n = int(input(\"ustun = \"))\n",
    "matrix = [[randint(0,10) for j in range(n)] for i in range(m)]\n",
    "for i in matrix:\n",
    "    print(*i)\n",
    "\n",
    "flag = False\n",
    "for i in range(n):\n",
    "    for j in range(m):\n",
    "        if matrix[j][i]%2==0:\n",
    "            break\n",
    "    else:\n",
    "        flag = True\n",
    "        print(f\"{i} ustun --> \", *[matrix[j][i] for j in range(n)])\n",
    "    if flag:\n",
    "        break\n",
    "else:\n",
    "    print(\"Bunday ustun yo'q\")"
   ]
  },
  {
   "cell_type": "code",
   "execution_count": 30,
   "id": "f0952d3c",
   "metadata": {},
   "outputs": [
    {
     "name": "stdout",
     "output_type": "stream",
     "text": [
      "satr = 2\n",
      "ustun = 2\n",
      "1 0\n",
      "1 0\n",
      "1\n"
     ]
    }
   ],
   "source": [
    "# 36\n",
    "from random import randint\n",
    "m = int(input('satr = '))\n",
    "n = int(input(\"ustun = \"))\n",
    "matrix = [[randint(0,2) for j in range(n)] for i in range(m)]\n",
    "for i in matrix:\n",
    "    print(*i)\n",
    "    \n",
    "satr = matrix[0].sort()\n",
    "soni = -1\n",
    "for i in matrix:\n",
    "    if satr == i.sort():\n",
    "        soni += 1\n",
    "        \n",
    "print(soni)"
   ]
  },
  {
   "cell_type": "code",
   "execution_count": 34,
   "id": "00910a41",
   "metadata": {},
   "outputs": [
    {
     "name": "stdout",
     "output_type": "stream",
     "text": [
      "satr = 3\n",
      "ustun = 3\n",
      "1 1 2\n",
      "0 2 1\n",
      "1 1 2\n",
      "0\n"
     ]
    }
   ],
   "source": [
    "# 37\n",
    "from random import randint\n",
    "m = int(input('satr = '))\n",
    "n = int(input(\"ustun = \"))\n",
    "matrix = [[randint(0,2) for j in range(n)] for i in range(m)]\n",
    "for i in matrix:\n",
    "    print(*i)\n",
    "    \n",
    "ustun = [matrix[j][0] for j in range(m)]\n",
    "s = 0\n",
    "for i in range(1,n):\n",
    "    ustun_i = [matrix[j][i] forj in range(m)]\n",
    "    if ustun == ustun_i:\n",
    "        s+=1\n",
    "print(s)"
   ]
  },
  {
   "cell_type": "code",
   "execution_count": 5,
   "id": "89920415",
   "metadata": {},
   "outputs": [
    {
     "name": "stdout",
     "output_type": "stream",
     "text": [
      "satr = 3\n",
      "ustun = 3\n",
      "2 0 1\n",
      "2 1 1\n",
      "2 1 2\n",
      "3\n"
     ]
    }
   ],
   "source": [
    "# 38\n",
    "from random import randint\n",
    "m = int(input('satr = '))\n",
    "n = int(input(\"ustun = \"))\n",
    "matrix = [[randint(0,2) for j in range(n)] for i in range(m)]\n",
    "for i in matrix:\n",
    "    print(*i)\n",
    "    \n",
    "satr = matrix[0]\n",
    "soni = 1\n",
    "for i in matrix:\n",
    "    if satr != i:\n",
    "        soni += 1\n",
    "        \n",
    "print(soni)"
   ]
  },
  {
   "cell_type": "code",
   "execution_count": 8,
   "id": "1d85e2aa",
   "metadata": {},
   "outputs": [
    {
     "name": "stdout",
     "output_type": "stream",
     "text": [
      "satr = 3\n",
      "ustun = 3\n",
      "1 2 1\n",
      "1 2 2\n",
      "2 2 0\n",
      "3\n"
     ]
    }
   ],
   "source": [
    "# 39\n",
    "from random import randint\n",
    "m = int(input('satr = '))\n",
    "n = int(input(\"ustun = \"))\n",
    "matrix = [[randint(0,2) for j in range(n)] for i in range(m)]\n",
    "for i in matrix:\n",
    "    print(*i)\n",
    "    \n",
    "ustun = [matrix[j][0] for j in range(m)]\n",
    "s = 1\n",
    "for i in range(1,n):\n",
    "    ustun_i = [matrix[j][i] for j in range(m)]\n",
    "    if ustun != ustun_i:\n",
    "        s+=1\n",
    "print(s)"
   ]
  },
  {
   "cell_type": "code",
   "execution_count": 34,
   "id": "d306d32d",
   "metadata": {},
   "outputs": [
    {
     "name": "stdout",
     "output_type": "stream",
     "text": [
      "satr = 4\n",
      "ustun = 4\n",
      "8 2 9 7\n",
      "3 1 4 9\n",
      "0 8 0 3\n",
      "10 2 6 0\n",
      "0 2\n"
     ]
    }
   ],
   "source": [
    "# 40\n",
    "from random import randint\n",
    "m = int(input('satr = '))\n",
    "n = int(input(\"ustun = \"))\n",
    "matrix = [[randint(0,10) for j in range(n)] for i in range(m)]\n",
    "for i in matrix:\n",
    "    print(*i)\n",
    "\n",
    "flag =True; sana = 0; max_soni = 0\n",
    "\n",
    "for i in range(m-1,-1,-1):\n",
    "    for j in range(n):\n",
    "        sana = matrix[i].count(matrix[i][j])\n",
    "        if flag:\n",
    "            max_soni = sana\n",
    "            index = [i,j]\n",
    "            flag = False\n",
    "        \n",
    "        if sana > max_soni:\n",
    "            max_soni = sana\n",
    "            index = [i,j]\n",
    "            \n",
    "            \n",
    "            \n",
    "            \n",
    "print(matrix[index[0]][index[-1]], max_soni)    \n"
   ]
  },
  {
   "cell_type": "code",
   "execution_count": 35,
   "id": "6c796670",
   "metadata": {},
   "outputs": [
    {
     "name": "stdout",
     "output_type": "stream",
     "text": [
      "satr = 3\n",
      "ustun = 3\n",
      "10 2 6\n",
      "8 5 6\n",
      "6 10 9\n",
      "6 2\n"
     ]
    }
   ],
   "source": [
    "# 41\n",
    "from random import randint\n",
    "m = int(input('satr = '))\n",
    "n = int(input(\"ustun = \"))\n",
    "matrix = [[randint(0,10) for j in range(n)] for i in range(m)]\n",
    "for i in matrix:\n",
    "    print(*i)\n",
    "    \n",
    "flag = True; sana = 0; max_son = 0\n",
    "for i in range(n):\n",
    "    array = []\n",
    "    for j in range(m):\n",
    "        array.append(matrix[j][i])\n",
    "    \n",
    "    for j in range(n):\n",
    "        sana = array.count(array[j])\n",
    "        \n",
    "        if flag:\n",
    "            max_son = sana\n",
    "            index = [j,i]\n",
    "            flag = False\n",
    "            \n",
    "        if max_son < sana:\n",
    "            max_son = sana\n",
    "            index = [j,i]\n",
    "            \n",
    "print(matrix[index[0]][index[-1]], max_son)\n",
    "    \n",
    "    "
   ]
  },
  {
   "cell_type": "code",
   "execution_count": 17,
   "id": "81cff375",
   "metadata": {},
   "outputs": [
    {
     "name": "stdout",
     "output_type": "stream",
     "text": [
      "satr = 7\n",
      "ustun = 2\n",
      "46 98\n",
      "87 37\n",
      "45 34\n",
      "19 46\n",
      "48 74\n",
      "80 3\n",
      "3 88\n",
      "4\n"
     ]
    }
   ],
   "source": [
    "# 42\n",
    "from random import randint\n",
    "m = int(input('satr = '))\n",
    "n = int(input(\"ustun = \"))\n",
    "matrix = [[randint(0,100) for j in range(n)] for i in range(m)]\n",
    "for i in matrix:\n",
    "    print(*i)\n",
    "sana = 0\n",
    "for i in range(m):\n",
    "    i_0 = matrix[i][0]\n",
    "    for j in range(1,n):\n",
    "        if i_0<matrix[i][j]:\n",
    "            i_0 = matrix[i][j]\n",
    "        else:\n",
    "            break\n",
    "         \n",
    "    else:\n",
    "        sana += 1\n",
    "        \n",
    "print(sana)\n",
    "        "
   ]
  },
  {
   "cell_type": "code",
   "execution_count": 22,
   "id": "9c97a1bd",
   "metadata": {},
   "outputs": [
    {
     "name": "stdout",
     "output_type": "stream",
     "text": [
      "satr = 3\n",
      "ustun = 3\n",
      "6 8 6\n",
      "4 5 5\n",
      "7 8 4\n",
      "1\n"
     ]
    }
   ],
   "source": [
    "# 43\n",
    "from random import randint\n",
    "m = int(input('satr = '))\n",
    "n = int(input(\"ustun = \"))\n",
    "matrix = [[randint(0,10) for j in range(n)] for i in range(m)]\n",
    "for i in matrix:\n",
    "    print(*i)\n",
    "\n",
    "sana = 0\n",
    "for i in range(n):\n",
    "    i_0 = matrix[i][0]\n",
    "    for j in range(1,m):\n",
    "        if i_0>matrix[j][i]:\n",
    "            i_0 = matrix[j][i]\n",
    "        else:\n",
    "            break\n",
    "    else:\n",
    "        sana += 1\n",
    "        \n",
    "print(sana)\n",
    "    "
   ]
  },
  {
   "cell_type": "code",
   "execution_count": 24,
   "id": "e55e81da",
   "metadata": {},
   "outputs": [
    {
     "name": "stdout",
     "output_type": "stream",
     "text": [
      "satr = 3\n",
      "ustun = 3\n",
      "50 83 10\n",
      "27 83 92\n",
      "93 49 40\n",
      "O'sish yoki kamayish tartibidagi satrlar soni :  2  Eng kichigi :  27\n"
     ]
    }
   ],
   "source": [
    "# 44\n",
    "from random import randint\n",
    "m = int(input('satr = '))\n",
    "n = int(input(\"ustun = \"))\n",
    "matrix = [[randint(0,100) for j in range(n)] for i in range(m)]\n",
    "for i in matrix:\n",
    "    print(*i)\n",
    "sana = 0; flag = 1; mini = 0\n",
    "for i in range(m):\n",
    "    i_0 = matrix[i][0]\n",
    "    for j in range(1,n-1):\n",
    "        if i_0<=matrix[i][j]<=matrix[i][j+1]:\n",
    "            i_0 = matrix[i][j]\n",
    "        elif i_0>=matrix[i][j]>=matrix[i][j+1]:\n",
    "            i_0 = matrix[i][j]\n",
    "        else:\n",
    "            break\n",
    "         \n",
    "    else:\n",
    "        if flag:\n",
    "            mini = min(matrix[i])\n",
    "            flag = 0\n",
    "        if mini>min(matrix[i]):\n",
    "            mini = min(matrix[i])\n",
    "        sana += 1\n",
    "         \n",
    "print(\"O'sish yoki kamayish tartibidagi satrlar soni : \", sana, \" Eng kichigi : \", mini)"
   ]
  },
  {
   "cell_type": "code",
   "execution_count": 36,
   "id": "bc362b6f",
   "metadata": {},
   "outputs": [
    {
     "name": "stdout",
     "output_type": "stream",
     "text": [
      "satr = 3\n",
      "ustun = 3\n",
      "2 5 1\n",
      "2 5 5\n",
      "4 3 2\n",
      "O'sish yoki kamayish tartibidagi ustunlar soni :  1  Eng kattasi :  5\n"
     ]
    }
   ],
   "source": [
    "# 45\n",
    "from random import randint\n",
    "m = int(input('satr = '))\n",
    "n = int(input(\"ustun = \"))\n",
    "matrix = [[randint(0,5) for j in range(n)] for i in range(m)]\n",
    "for i in matrix:\n",
    "    print(*i)\n",
    "\n",
    "sana = 0; flag = flag_1 = 1; maxi = \"Yo'q\"\n",
    "for i in range(n-1):\n",
    "    i_0 = matrix[i][0]\n",
    "    flag_1 = 1\n",
    "    for j in range(1,m):\n",
    "        if flag_1:\n",
    "            maxi1 = matrix[j][i]\n",
    "            flag_1 = 0\n",
    "        if maxi1<matrix[j][i]:\n",
    "            maxi1 = matrix[j][i]\n",
    "            \n",
    "        if i_0>=matrix[j][i]>=matrix[j][i+1]:\n",
    "            i_0 = matrix[j][i]\n",
    "        elif i_0<=matrix[j][i]<=matrix[j][i+1]:\n",
    "            i_0 = matrix[j][i]\n",
    "        else:\n",
    "            maxi1 = \"NO\"\n",
    "            break\n",
    "    else:\n",
    "        if flag and maxi1 != \"NO\":\n",
    "            maxi = maxi1\n",
    "            flag = 0\n",
    "        if maxi1 != \"NO\" and maxi<maxi1:\n",
    "            maxi = maxi1\n",
    "        sana += 1\n",
    "        \n",
    "print(\"O'sish yoki kamayish tartibidagi ustunlar soni : \", sana, \" Eng kattasi : \", maxi)\n",
    "    "
   ]
  },
  {
   "cell_type": "code",
   "execution_count": 55,
   "id": "3792e6e6",
   "metadata": {
    "scrolled": true
   },
   "outputs": [
    {
     "name": "stdout",
     "output_type": "stream",
     "text": [
      "satr = 4\n",
      "ustun = 4\n",
      "1 3 5 5\n",
      "3 0 4 0\n",
      "4 2 5 3\n",
      "1 3 3 4\n",
      "Satrdagi eng katta son :  5 Ustundagi eng kichik son 3\n",
      "Satrdagi eng katta son :  5 Ustundagi eng kichik son 0\n",
      "Satrdagi eng katta son :  4 Ustundagi eng kichik son 3\n",
      "Satrdagi eng katta son :  5 Ustundagi eng kichik son 3\n",
      "Satrdagi eng katta son :  4 Ustundagi eng kichik son 0\n"
     ]
    }
   ],
   "source": [
    "# 46 \n",
    "from random import randint\n",
    "m = int(input('satr = '))\n",
    "n = int(input(\"ustun = \"))\n",
    "matrix = [[randint(0,5) for j in range(n)] for i in range(m)]\n",
    "for i in matrix:\n",
    "    print(*i)\n",
    "    \n",
    "for i in range(m):\n",
    "    maxi = max(matrix[i])\n",
    "    soni = matrix[i].count(maxi)\n",
    "    nusxa = matrix[i].copy()\n",
    "    while soni != 0:\n",
    "        index = nusxa.index(maxi)\n",
    "        nusxa[index] = True\n",
    "        array = []\n",
    "        for j in range(n):\n",
    "            array.append(matrix[j][index])\n",
    "        mini = min(array)\n",
    "        print(\"Satrdagi eng katta son : \", maxi, \"Ustundagi eng kichik son\", mini)\n",
    "        soni -= 1\n",
    "               "
   ]
  },
  {
   "cell_type": "code",
   "execution_count": 54,
   "id": "5d7a2c5e",
   "metadata": {},
   "outputs": [
    {
     "name": "stdout",
     "output_type": "stream",
     "text": [
      "1 0 1\n",
      "1 5 4\n",
      "1 3 4\n",
      "Satrdagi eng katta son :  1 Ustundagi eng kichik son 1\n",
      "Satrdagi eng katta son :  1 Ustundagi eng kichik son 1\n",
      "Satrdagi eng katta son :  5 Ustundagi eng kichik son 0\n",
      "Satrdagi eng katta son :  4 Ustundagi eng kichik son 1\n"
     ]
    }
   ],
   "source": [
    "# 46 \n",
    "# from random import randint\n",
    "# m = int(input('satr = '))\n",
    "# n = int(input(\"ustun = \"))\n",
    "# matrix = [[randint(0,5) for j in range(n)] for i in range(m)]\n",
    "for i in matrix:\n",
    "    print(*i)\n",
    "    \n",
    "for i in range(m):\n",
    "    maxi = max(matrix[i])\n",
    "    soni = matrix[i].count(maxi)\n",
    "    if soni<2:\n",
    "        index = matrix[i].index(maxi)\n",
    "        array = []\n",
    "        for j in range(n):\n",
    "            array.append(matrix[j][index])\n",
    "        mini = min(array)\n",
    "        print(\"Satrdagi eng katta son : \", maxi, \"Ustundagi eng kichik son\", mini)\n",
    "    else:\n",
    "        nusxa = matrix[i].copy()\n",
    "        while soni != 0:\n",
    "            index = nusxa.index(maxi)\n",
    "            nusxa[index] = True\n",
    "            array = []\n",
    "            for j in range(n):\n",
    "                array.append(matrix[j][index])\n",
    "            mini = min(array)\n",
    "            print(\"Satrdagi eng katta son : \", maxi, \"Ustundagi eng kichik son\", mini)\n",
    "            soni -= 1\n",
    "               "
   ]
  },
  {
   "cell_type": "code",
   "execution_count": 53,
   "id": "1a299afc",
   "metadata": {},
   "outputs": [
    {
     "name": "stdout",
     "output_type": "stream",
     "text": [
      "satr = 3\n",
      "ustun = 3\n",
      "0 2 3\n",
      "4 5 4\n",
      "1 5 5\n",
      "k1 = 0\n",
      "k2 = 2\n",
      "1 5 5\n",
      "4 5 4\n",
      "0 2 3\n"
     ]
    }
   ],
   "source": [
    "# 47\n",
    "from random import randint\n",
    "m = int(input('satr = '))\n",
    "n = int(input(\"ustun = \"))\n",
    "matrix = [[randint(0,5) for j in range(n)] for i in range(m)]\n",
    "for i in matrix:\n",
    "    print(*i)\n",
    "    \n",
    "k1 = int(input(\"k1 = \"))\n",
    "k2 = int(input(\"k2 = \"))\n",
    "matrix[k1], matrix[k2] = matrix[k2], matrix[k1]\n",
    "\n",
    "for i in matrix:\n",
    "    print(*i)"
   ]
  },
  {
   "cell_type": "code",
   "execution_count": 54,
   "id": "ace07d06",
   "metadata": {},
   "outputs": [
    {
     "name": "stdout",
     "output_type": "stream",
     "text": [
      "satr = 3\n",
      "ustun = 3\n",
      "0 5 0\n",
      "5 2 0\n",
      "3 2 0\n",
      "k1 = 0\n",
      "k2 = 2\n",
      "0 5 0\n",
      "0 2 5\n",
      "0 2 3\n"
     ]
    }
   ],
   "source": [
    "# 48\n",
    "from random import randint\n",
    "m = int(input('satr = '))\n",
    "n = int(input(\"ustun = \"))\n",
    "matrix = [[randint(0,5) for j in range(n)] for i in range(m)]\n",
    "for i in matrix:\n",
    "    print(*i)\n",
    "    \n",
    "k1 = int(input(\"k1 = \"))\n",
    "k2 = int(input(\"k2 = \"))\n",
    "\n",
    "for i in range(n):\n",
    "    matrix[i][k1], matrix[i][k2] = matrix[i][k2], matrix[i][k1]\n",
    "    \n",
    "for i in matrix:\n",
    "    print(*i)   "
   ]
  },
  {
   "cell_type": "code",
   "execution_count": 10,
   "id": "5072858d",
   "metadata": {},
   "outputs": [
    {
     "name": "stdout",
     "output_type": "stream",
     "text": [
      "satr = 4\n",
      "ustun = 4\n",
      "1 5 2 1\n",
      "5 4 5 5\n",
      "2 2 5 3\n",
      "4 5 0 0\n",
      "Almashtirilgan matrirsa : \n",
      "5 1 2 1\n",
      "4 5 5 5\n",
      "5 2 2 3\n",
      "4 0 5 0\n"
     ]
    }
   ],
   "source": [
    "# 49\n",
    "from random import randint\n",
    "m = int(input('satr = '))\n",
    "n = int(input(\"ustun = \"))\n",
    "matrix = [[randint(0,5) for j in range(n)] for i in range(m)]\n",
    "for i in matrix:\n",
    "    print(*i)\n",
    "\n",
    "for i in range(m):\n",
    "    max_index = matrix[i].index(max(matrix[i]))\n",
    "    min_index = matrix[i].index(min(matrix[i]))\n",
    "    matrix[i][max_index], matrix[i][min_index] = matrix[i][min_index], matrix[i][max_index]\n",
    "    \n",
    "print(\"Almashtirilgan matrirsa : \")\n",
    "for i in matrix:\n",
    "    print(*i)\n"
   ]
  },
  {
   "cell_type": "markdown",
   "id": "38e1ba8f",
   "metadata": {},
   "source": [
    "## "
   ]
  },
  {
   "cell_type": "code",
   "execution_count": 3,
   "id": "5ce83e2e",
   "metadata": {},
   "outputs": [
    {
     "name": "stdout",
     "output_type": "stream",
     "text": [
      "satr = 3\n",
      "ustun = 3\n",
      "4 5 5\n",
      "1 4 2\n",
      "1 4 2\n",
      "Almashtirilgan matrirsa : \n",
      "1 4 2\n",
      "4 5 5\n",
      "1 4 2\n"
     ]
    }
   ],
   "source": [
    "# 50\n",
    "from random import randint\n",
    "m = int(input('satr = '))\n",
    "n = int(input(\"ustun = \"))\n",
    "matrix  = [[randint(0,5) for j in range(n)] for i in range(m)]\n",
    "for i in matrix:\n",
    "    print(*i)\n",
    "    \n",
    "\n",
    "for i in range(n):\n",
    "    flag = True\n",
    "    for j in range(n):\n",
    "        if flag:\n",
    "            index_min = j; index_max = j\n",
    "            flag = False\n",
    "        if matrix[index_min][i] > matrix[j][i]:\n",
    "            index_min = j\n",
    "        if matrix[index_max][i]<matrix[j][i]:\n",
    "            index_max = j\n",
    "            \n",
    "    matrix[index_max][i], matrix[index_min][i] = matrix[index_min][i], matrix[index_max][i]\n",
    "\n",
    "print(\"Almashtirilgan matrirsa : \")\n",
    "for i in matrix:\n",
    "    print(*i)"
   ]
  },
  {
   "cell_type": "code",
   "execution_count": 7,
   "id": "ec7b91e3",
   "metadata": {},
   "outputs": [
    {
     "name": "stdout",
     "output_type": "stream",
     "text": [
      "satr = 3\n",
      "ustun = 3\n",
      "7 3 3\n",
      "5 10 1\n",
      "4 8 6\n",
      "Almashtirilgan matrirsa : \n",
      "7 3 3\n",
      "5 10 1\n",
      "4 8 6\n"
     ]
    }
   ],
   "source": [
    "# 51\n",
    "from random import randint\n",
    "m = int(input('satr = '))\n",
    "n = int(input(\"ustun = \"))\n",
    "matrix  = [[randint(0,10) for j in range(n)] for i in range(m)]\n",
    "for i in matrix:\n",
    "    print(*i)\n",
    "    \n",
    "flag = True\n",
    "for i in range(m):\n",
    "    if flag:\n",
    "        index_max = index_min = i\n",
    "        flag = False\n",
    "    if max(matrix[index_max])<max(matrix[i]):\n",
    "        index_max = i\n",
    "    if min(matrix[index_min])>min(matrix[i]):\n",
    "        index_min = i\n",
    "        \n",
    "if index_max!=index_min:        \n",
    "    matrix[index_max], matrix[index_min] = matrix[index_min], matrix[index_max]\n",
    "print(\"Almashtirilgan matrirsa : \")\n",
    "for i in matrix:\n",
    "    print(*i)"
   ]
  },
  {
   "cell_type": "code",
   "execution_count": 10,
   "id": "3a3b1884",
   "metadata": {},
   "outputs": [
    {
     "name": "stdout",
     "output_type": "stream",
     "text": [
      "satr = 3\n",
      "ustun = 3\n",
      "3 3 2\n",
      "0 4 8\n",
      "3 5 4\n",
      "Almashtirilgan matrirsa : \n",
      "2 3 3\n",
      "8 4 0\n",
      "4 5 3\n"
     ]
    }
   ],
   "source": [
    "# 52\n",
    "from random import randint\n",
    "m = int(input('satr = '))\n",
    "n = int(input(\"ustun = \"))\n",
    "matrix  = [[randint(0,10) for j in range(n)] for i in range(m)]\n",
    "for i in matrix:\n",
    "    print(*i)\n",
    "\n",
    "flag = True\n",
    "for j in range(n):\n",
    "    for i in range(m):\n",
    "        if flag:\n",
    "            mini = maxi = matrix[i][j]\n",
    "            index_min = index_max = j\n",
    "            flag = False\n",
    "        if mini > matrix[i][j]:\n",
    "            mini = matrix[i][j]\n",
    "            index_min = j\n",
    "        if maxi< matrix[i][j]:\n",
    "            maxi = matrix[i][j]\n",
    "            index_max = j\n",
    "\n",
    "if index_min != index_max:\n",
    "    for i in range(n):\n",
    "        matrix[i][index_max], matrix[i][index_min] = matrix[i][index_min], matrix[i][index_max]\n",
    "print(\"Almashtirilgan matrirsa : \")\n",
    "for i in matrix:\n",
    "    print(*i)"
   ]
  },
  {
   "cell_type": "code",
   "execution_count": 15,
   "id": "1b1029c5",
   "metadata": {},
   "outputs": [
    {
     "name": "stdout",
     "output_type": "stream",
     "text": [
      "satr = 4\n",
      "ustun = 4\n",
      "2 -3 -8 -7\n",
      "-3 -2 10 2\n",
      "4 -7 -5 -1\n",
      "-8 8 -5 -3\n",
      "Almashtirilgan matrirsa : \n",
      "2 -3 -8 -7\n",
      "-3 -2 10 2\n",
      "4 -7 -5 -1\n",
      "-8 8 -5 -3\n"
     ]
    }
   ],
   "source": [
    "# 53\n",
    "from random import randint\n",
    "m = int(input('satr = '))\n",
    "n = int(input(\"ustun = \"))\n",
    "matrix  = [[randint(-10,10) for j in range(n)] for i in range(m)]\n",
    "for i in matrix:\n",
    "    print(*i)\n",
    "index = -1\n",
    "for j in range(n-1,0,-1):\n",
    "    for i in range(m):\n",
    "        if matrix[i][j] < 0:\n",
    "            break\n",
    "    else:\n",
    "        index = j\n",
    "        break\n",
    "if index!= -1:\n",
    "    for i in range(n):\n",
    "        matrix[i][0], matrix[i][index] = matrix[i][index], matrix[i][0]\n",
    "        \n",
    "    print(\"Almashtirilgan matrirsa : \")\n",
    "    \n",
    "for i in matrix:\n",
    "    print(*i)   \n"
   ]
  },
  {
   "cell_type": "code",
   "execution_count": 14,
   "id": "c9cbb856",
   "metadata": {
    "scrolled": true
   },
   "outputs": [
    {
     "name": "stdout",
     "output_type": "stream",
     "text": [
      "satr = 3\n",
      "ustun = 3\n",
      "8 -5 8\n",
      "0 8 -8\n",
      "-6 8 -2\n",
      "Almashtirilgan matrirsa : \n",
      "8 -5 8\n",
      "0 8 -8\n",
      "-6 8 -2\n"
     ]
    }
   ],
   "source": [
    "# 54\n",
    "from random import randint\n",
    "m = int(input('satr = '))\n",
    "n = int(input(\"ustun = \"))\n",
    "matrix  = [[randint(-10,10) for j in range(n)] for i in range(m)]\n",
    "for i in matrix:\n",
    "    print(*i)\n",
    "index = -1\n",
    "for j in range(n-1,0,-1):\n",
    "    for i in range(m):\n",
    "        if matrix[i][j] > 0:\n",
    "            break\n",
    "    else:\n",
    "        index = j\n",
    "        break\n",
    "if index!= -1:\n",
    "    for i in range(n):\n",
    "        matrix[i][0], matrix[i][index] = matrix[i][index], matrix[i][0]\n",
    "        \n",
    "    print(\"Almashtirilgan matrirsa : \")\n",
    "for i in matrix:\n",
    "    print(*i)       \n"
   ]
  },
  {
   "cell_type": "code",
   "execution_count": 19,
   "id": "aa7ad81f",
   "metadata": {},
   "outputs": [
    {
     "name": "stdout",
     "output_type": "stream",
     "text": [
      "satr = 4\n",
      "ustun = 2\n",
      "5 7\n",
      "4 7\n",
      "5 2\n",
      "5 0\n",
      "Almashtirilgan matrirsa : \n",
      "5 2\n",
      "5 0\n",
      "5 7\n",
      "4 7\n"
     ]
    }
   ],
   "source": [
    "# 55\n",
    "from random import randint\n",
    "m = int(input('satr = '))\n",
    "n = int(input(\"ustun = \"))\n",
    "matrix  = [[randint(0,10) for j in range(n)] for i in range(m)]\n",
    "for i in matrix:\n",
    "    print(*i)\n",
    "    \n",
    "for i in range(m//2):\n",
    "    matrix[i], matrix[m//2+i] = matrix[m//2+i], matrix[i]\n",
    "    \n",
    "print(\"Almashtirilgan matrirsa : \")\n",
    "for i in matrix:\n",
    "    print(*i)"
   ]
  },
  {
   "cell_type": "code",
   "execution_count": 21,
   "id": "616feeff",
   "metadata": {},
   "outputs": [
    {
     "name": "stdout",
     "output_type": "stream",
     "text": [
      "satr = 4\n",
      "ustun = 4\n",
      "6 3 8 8\n",
      "1 4 7 5\n",
      "10 2 6 10\n",
      "8 9 6 10\n",
      "Almashtirilgan matrirsa : \n",
      "8 8 6 3\n",
      "7 5 1 4\n",
      "6 10 10 2\n",
      "6 10 8 9\n"
     ]
    }
   ],
   "source": [
    "# 56\n",
    "from random import randint\n",
    "m = int(input('satr = '))\n",
    "n = int(input(\"ustun = \"))\n",
    "matrix  = [[randint(0,10) for j in range(n)] for i in range(m)]\n",
    "for i in matrix:\n",
    "    print(*i)\n",
    "    \n",
    "for j in range(n//2):\n",
    "    for i in range(m):\n",
    "        matrix[i][j],matrix[i][n//2+j] = matrix[i][n//2+j],matrix[i][j]\n",
    "    \n",
    "print(\"Almashtirilgan matrirsa : \")\n",
    "for i in matrix:\n",
    "    print(*i)"
   ]
  },
  {
   "cell_type": "code",
   "execution_count": 22,
   "id": "da27bc7a",
   "metadata": {},
   "outputs": [
    {
     "name": "stdout",
     "output_type": "stream",
     "text": [
      "satr = 4\n",
      "ustun = 4\n",
      "7 4 5 10\n",
      "4 4 4 3\n",
      "8 2 6 2\n",
      "8 7 6 3\n",
      "Almashtirilgan matrirsa : \n",
      "6 2 5 10\n",
      "6 3 4 3\n",
      "8 2 7 4\n",
      "8 7 4 4\n"
     ]
    }
   ],
   "source": [
    "# 57\n",
    "from random import randint\n",
    "m = int(input('satr = '))\n",
    "n = int(input(\"ustun = \"))\n",
    "matrix  = [[randint(0,10) for j in range(n)] for i in range(m)]\n",
    "for i in matrix:\n",
    "    print(*i)\n",
    "    \n",
    "for j in range(n//2):\n",
    "    for i in range(m//2):\n",
    "        matrix[i][j],matrix[m//2+i][n//2+j] = matrix[m//2+i][n//2+j],matrix[i][j]\n",
    "    \n",
    "print(\"Almashtirilgan matrirsa : \")\n",
    "for i in matrix:\n",
    "    print(*i)"
   ]
  },
  {
   "cell_type": "code",
   "execution_count": 24,
   "id": "2b270e8a",
   "metadata": {},
   "outputs": [
    {
     "name": "stdout",
     "output_type": "stream",
     "text": [
      "satr = 4\n",
      "ustun = 4\n",
      "7 2 1 3\n",
      "5 3 7 7\n",
      "9 10 0 9\n",
      "7 2 9 6\n",
      "\n",
      "Almashtirilgan matrirsa : \n",
      "7 2 9 10\n",
      "5 3 7 2\n",
      "1 3 0 9\n",
      "7 7 9 6\n"
     ]
    }
   ],
   "source": [
    "# 58\n",
    "from random import randint\n",
    "m = int(input('satr = '))\n",
    "n = int(input(\"ustun = \"))\n",
    "matrix  = [[randint(0,10) for j in range(n)] for i in range(m)]\n",
    "for i in matrix:\n",
    "    print(*i)\n",
    "print()\n",
    "for j in range(n//2):\n",
    "    k = 0\n",
    "    for i in range(m//2,m):\n",
    "        matrix[i][j], matrix[k][n//2+j] =  matrix[k][n//2+j],matrix[i][j]\n",
    "        k += 1\n",
    "print(\"Almashtirilgan matrirsa : \")\n",
    "for i in matrix:\n",
    "    print(*i)"
   ]
  },
  {
   "cell_type": "code",
   "execution_count": 26,
   "id": "42374a0e",
   "metadata": {},
   "outputs": [
    {
     "name": "stdout",
     "output_type": "stream",
     "text": [
      "satr = 3\n",
      "ustun = 2\n",
      "10 7\n",
      "8 4\n",
      "4 8\n",
      "Almashtirilgan matrirsa : \n",
      "4 8\n",
      "8 4\n",
      "10 7\n"
     ]
    }
   ],
   "source": [
    "# 59\n",
    "from random import randint\n",
    "m = int(input('satr = '))\n",
    "n = int(input(\"ustun = \"))\n",
    "matrix  = [[randint(0,10) for j in range(n)] for i in range(m)]\n",
    "for i in matrix:\n",
    "    print(*i)\n",
    "k = m-1\n",
    "for i in range(m//2):\n",
    "    matrix[i], matrix[k] = matrix[k], matrix[i]\n",
    "    k-=1\n",
    "    \n",
    "    \n",
    "print(\"Almashtirilgan matrirsa : \")\n",
    "for i in matrix:\n",
    "    print(*i)"
   ]
  },
  {
   "cell_type": "code",
   "execution_count": 3,
   "id": "91fdd392",
   "metadata": {},
   "outputs": [
    {
     "name": "stdout",
     "output_type": "stream",
     "text": [
      "satr = 3\n",
      "ustun = 3\n",
      "5 2 9\n",
      "10 7 1\n",
      "0 8 9\n",
      "Almashtirilgan matrirsa : \n",
      "9 2 5\n",
      "1 7 10\n",
      "9 8 0\n"
     ]
    }
   ],
   "source": [
    "# 60\n",
    "from random import randint\n",
    "m = int(input('satr = '))\n",
    "n = int(input(\"ustun = \"))\n",
    "matrix  = [[randint(0,10) for j in range(n)] for i in range(m)]\n",
    "for i in matrix:\n",
    "    print(*i)\n",
    "    \n",
    "for j in range(n//2):\n",
    "    for i in range(m):\n",
    "        matrix[i][j], matrix[i][n-1-j] = matrix[i][n-1-j], matrix[i][j]        \n",
    "print(\"Almashtirilgan matritsa : \")\n",
    "for i in matrix:\n",
    "    print(*i)       "
   ]
  },
  {
   "cell_type": "code",
   "execution_count": 43,
   "id": "96b7296c",
   "metadata": {},
   "outputs": [
    {
     "name": "stdout",
     "output_type": "stream",
     "text": [
      "satr = 3\n",
      "ustun = 3\n",
      "5 4 8\n",
      "9 9 6\n",
      "5 0 0\n",
      "Almashtirilgan matritsa : \n",
      "8 4 5\n",
      "6 9 9\n",
      "0 0 5\n"
     ]
    }
   ],
   "source": [
    "# 60\n",
    "from random import randint\n",
    "m = int(input('satr = '))\n",
    "n = int(input(\"ustun = \"))\n",
    "matrix  = [[randint(0,10) for j in range(n)] for i in range(m)]\n",
    "for i in matrix:\n",
    "    print(*i)\n",
    "    \n",
    "for i in range(m):\n",
    "    matrix[i].reverse()\n",
    "print(\"Almashtirilgan matritsa : \")\n",
    "for i in matrix:\n",
    "    print(*i)       "
   ]
  },
  {
   "cell_type": "code",
   "execution_count": 4,
   "id": "ef8bb9bd",
   "metadata": {},
   "outputs": [
    {
     "name": "stdout",
     "output_type": "stream",
     "text": [
      "satr = 3\n",
      "ustun = 3\n",
      "5 8 5\n",
      "3 10 4\n",
      "0 5 1\n",
      "k = 2\n",
      "5 8 5\n",
      "3 10 4\n"
     ]
    }
   ],
   "source": [
    "# 61\n",
    "from random import randint\n",
    "m = int(input('satr = '))\n",
    "n = int(input(\"ustun = \"))\n",
    "matrix  = [[randint(0,10) for j in range(n)] for i in range(m)]\n",
    "for i in matrix:\n",
    "    print(*i)\n",
    "    \n",
    "k = int(input(\"k = \"))\n",
    "del matrix[k]\n",
    "\n",
    "for i in matrix:\n",
    "    print(*i)"
   ]
  },
  {
   "cell_type": "code",
   "execution_count": 6,
   "id": "8386a7f9",
   "metadata": {},
   "outputs": [
    {
     "name": "stdout",
     "output_type": "stream",
     "text": [
      "satr = 3\n",
      "ustun = 3\n",
      "7 6 2\n",
      "10 0 8\n",
      "4 10 3\n",
      "k = 0\n",
      "6 2\n",
      "0 8\n",
      "10 3\n"
     ]
    }
   ],
   "source": [
    "# 62\n",
    "from random import randint\n",
    "m = int(input('satr = '))\n",
    "n = int(input(\"ustun = \"))\n",
    "matrix  = [[randint(0,10) for j in range(n)] for i in range(m)]\n",
    "for i in matrix:\n",
    "    print(*i)\n",
    "    \n",
    "k = int(input(\"k = \"))\n",
    "\n",
    "for i in range(m):\n",
    "    del matrix[i][k]\n",
    "for i in matrix:\n",
    "    print(*i)"
   ]
  },
  {
   "cell_type": "code",
   "execution_count": 7,
   "id": "77b89606",
   "metadata": {},
   "outputs": [
    {
     "name": "stdout",
     "output_type": "stream",
     "text": [
      "satr = 4\n",
      "ustun = 4\n",
      "3 5 1 4\n",
      "5 8 4 0\n",
      "3 10 2 6\n",
      "7 8 3 0\n",
      "\n",
      "3 5 1 4\n",
      "3 10 2 6\n",
      "7 8 3 0\n"
     ]
    }
   ],
   "source": [
    "# 63\n",
    "from random import randint\n",
    "m = int(input('satr = '))\n",
    "n = int(input(\"ustun = \"))\n",
    "matrix  = [[randint(0,10) for j in range(n)] for i in range(m)]\n",
    "for i in matrix:\n",
    "    print(*i)\n",
    "print()\n",
    "flag = True    \n",
    "for i in range(m):\n",
    "    if flag:\n",
    "        index = i\n",
    "        flag = False\n",
    "        continue\n",
    "        \n",
    "    if min(matrix[index])>min(matrix[i]):\n",
    "        index = i\n",
    "        \n",
    "del matrix[index]\n",
    "   \n",
    "for i in matrix:\n",
    "    print(*i)\n",
    "    \n",
    "    "
   ]
  },
  {
   "cell_type": "code",
   "execution_count": 9,
   "id": "c7645c20",
   "metadata": {},
   "outputs": [
    {
     "name": "stdout",
     "output_type": "stream",
     "text": [
      "satr = 4\n",
      "ustun = 4\n",
      "9 7 0 1\n",
      "0 3 10 6\n",
      "4 7 9 3\n",
      "8 7 9 1\n",
      "\n",
      "9 7 1\n",
      "0 3 6\n",
      "4 7 3\n",
      "8 7 1\n"
     ]
    }
   ],
   "source": [
    "# 64\n",
    "from random import randint\n",
    "m = int(input('satr = '))\n",
    "n = int(input(\"ustun = \"))\n",
    "matrix  = [[randint(0,10) for j in range(n)] for i in range(m)]\n",
    "for i in matrix:\n",
    "    print(*i)\n",
    "print()\n",
    "flag = True\n",
    "\n",
    "\n",
    "for j in range(n):\n",
    "    for i in range(m):\n",
    "        if flag:\n",
    "            maxi = matrix[i][j]\n",
    "            index = j\n",
    "            flag = False\n",
    "            continue\n",
    "            \n",
    "        if maxi < matrix[i][j]:\n",
    "            maxi = matrix[i][j]\n",
    "            index = j\n",
    "            \n",
    "for i in range(m):\n",
    "    del matrix[i][index]\n",
    "    \n",
    "    \n",
    "for i in matrix:\n",
    "    print(*i)        "
   ]
  },
  {
   "cell_type": "code",
   "execution_count": 11,
   "id": "96e54037",
   "metadata": {},
   "outputs": [
    {
     "name": "stdout",
     "output_type": "stream",
     "text": [
      "satr = 2\n",
      "ustun = 2\n",
      "-10 1\n",
      "-6 9\n",
      "\n",
      "-10\n",
      "-6\n"
     ]
    }
   ],
   "source": [
    "# 65\n",
    "from random import randint\n",
    "m = int(input('satr = '))\n",
    "n = int(input(\"ustun = \"))\n",
    "matrix  = [[randint(-10,10) for j in range(n)] for i in range(m)]\n",
    "for i in matrix:\n",
    "    print(*i)\n",
    "print()\n",
    "\n",
    "for j in range(n):\n",
    "    for i in range(m):\n",
    "        if matrix[i][j]<0:\n",
    "            break\n",
    "    else:\n",
    "        \n",
    "        for i in range(m):\n",
    "            del matrix[i][j]\n",
    "        break\n",
    "        \n",
    "\n",
    "    \n",
    "for i in matrix:\n",
    "    print(*i)   \n"
   ]
  },
  {
   "cell_type": "code",
   "execution_count": 15,
   "id": "f9423e14",
   "metadata": {},
   "outputs": [
    {
     "name": "stdout",
     "output_type": "stream",
     "text": [
      "satr = 2\n",
      "ustun = 2\n",
      "-5 2\n",
      "-7 3\n",
      "\n",
      "2\n",
      "3\n"
     ]
    }
   ],
   "source": [
    "# 66\n",
    "from random import randint\n",
    "m = int(input('satr = '))\n",
    "n = int(input(\"ustun = \"))\n",
    "matrix  = [[randint(-10,10) for j in range(n)] for i in range(m)]\n",
    "for i in matrix:\n",
    "    print(*i)\n",
    "print()\n",
    "\n",
    "for j in range(n-1,-1,-1):\n",
    "    for i in range(m):\n",
    "        if matrix[i][j]>0:\n",
    "            break\n",
    "    else:\n",
    "        \n",
    "        for i in range(m):\n",
    "            del matrix[i][j]\n",
    "        break\n",
    "    \n",
    "for i in matrix:\n",
    "    print(*i)"
   ]
  },
  {
   "cell_type": "code",
   "execution_count": 9,
   "id": "fa57bf72",
   "metadata": {},
   "outputs": [
    {
     "name": "stdout",
     "output_type": "stream",
     "text": [
      "satr = 7\n",
      "ustun = 7\n",
      "-1 6 8 3 4 5 6\n",
      "10 -1 8 1 6 -1 1\n",
      "2 3 2 0 9 10 -1\n",
      "5 3 6 3 3 6 7\n",
      "8 8 5 1 9 -1 8\n",
      "3 3 10 1 5 5 9\n",
      "1 -1 2 1 8 0 8\n",
      "\n",
      "-1 6 5 6\n",
      "10 -1 -1 1\n",
      "2 3 10 -1\n",
      "5 3 6 7\n",
      "8 8 -1 8\n",
      "3 3 5 9\n",
      "1 -1 0 8\n"
     ]
    }
   ],
   "source": [
    "# 67\n",
    "from random import randint\n",
    "m = int(input('satr = '))\n",
    "n = int(input(\"ustun = \"))\n",
    "matrix  = [[randint(-1,10) for j in range(n)] for i in range(m)]\n",
    "for i in matrix:\n",
    "    print(*i)\n",
    "print()\n",
    "\n",
    "for j in range(n-1,-1,-1):\n",
    "    for i in range(m):\n",
    "        if matrix[i][j]<0:\n",
    "            break\n",
    "    else:\n",
    "        \n",
    "        for i in range(m):\n",
    "            del matrix[i][j]\n",
    "            \n",
    "for i in matrix:\n",
    "    print(*i)        "
   ]
  },
  {
   "cell_type": "code",
   "execution_count": 19,
   "id": "e6c01fdc",
   "metadata": {},
   "outputs": [
    {
     "name": "stdout",
     "output_type": "stream",
     "text": [
      "satr = 4\n",
      "ustun = 4\n",
      "3 -1 5 5\n",
      "1 2 9 1\n",
      "6 -1 5 1\n",
      "0 3 -1 9\n",
      "\n",
      "k = 2\n",
      "3 -1 5 5\n",
      "1 2 9 1\n",
      "0 0 0 0\n",
      "6 -1 5 1\n",
      "0 3 -1 9\n"
     ]
    }
   ],
   "source": [
    "# 68\n",
    "from random import randint\n",
    "m = int(input('satr = '))\n",
    "n = int(input(\"ustun = \"))\n",
    "matrix  = [[randint(-1,10) for j in range(n)] for i in range(m)]\n",
    "for i in matrix:\n",
    "    print(*i)\n",
    "print()\n",
    "\n",
    "k = int(input(\"k = \"))\n",
    "matrix.insert(k,[0 for i in range(n)])\n",
    "\n",
    "for i in matrix:\n",
    "    print(*i)"
   ]
  },
  {
   "cell_type": "code",
   "execution_count": 20,
   "id": "0c7fd389",
   "metadata": {},
   "outputs": [
    {
     "name": "stdout",
     "output_type": "stream",
     "text": [
      "satr = 4\n",
      "ustun = 4\n",
      "2 2 -1 -1\n",
      "2 0 8 0\n",
      "8 3 8 5\n",
      "6 9 1 5\n",
      "\n",
      "k = 2\n",
      "2 2 -1 1 -1\n",
      "2 0 8 1 0\n",
      "8 3 8 1 5\n",
      "6 9 1 1 5\n"
     ]
    }
   ],
   "source": [
    "# 69\n",
    "m = int(input('m='))\n",
    "n = int(input('n='))\n",
    "k = int(input('k='))\n",
    "matrix = [[randint(1,9) for _ in range(n)] for _ in range(m)]\n",
    "\n",
    "for i in matrix:\n",
    "    print(*i)\n",
    "print()\n",
    "\n",
    "while 0>k or k+1>=n:\n",
    "    print('k sonini 0<=k<m oraliqda kiriting!!!')\n",
    "    k = int(input('k='))\n",
    "\n",
    "\n",
    "for i in range(len(matrix)):\n",
    "    matrix[i].insert(k+1,1)\n",
    "        \n",
    "for i in matrix:\n",
    "    print(*i)"
   ]
  },
  {
   "cell_type": "code",
   "execution_count": 23,
   "id": "dc9ea24d",
   "metadata": {},
   "outputs": [
    {
     "name": "stdout",
     "output_type": "stream",
     "text": [
      "satr = 3\n",
      "ustun = 3\n",
      "4 9 3\n",
      "7 10 6\n",
      "8 9 6\n",
      "\n",
      "4 9 3\n",
      "7 10 6\n",
      "7 10 6\n",
      "8 9 6\n"
     ]
    }
   ],
   "source": [
    "# 70\n",
    "from random import randint\n",
    "m = int(input('satr = '))\n",
    "n = int(input(\"ustun = \"))\n",
    "matrix  = [[randint(-1,10) for j in range(n)] for i in range(m)]\n",
    "for i in matrix:\n",
    "    print(*i)\n",
    "print()\n",
    "flag = True\n",
    "for i in range(m):\n",
    "    if flag:\n",
    "        index = i\n",
    "        flag = False\n",
    "        continue\n",
    "        \n",
    "    if max(matrix[index])<max(matrix[i]):\n",
    "        index = i\n",
    "        \n",
    "matrix.insert(index+1, matrix[index].copy())\n",
    "for i in matrix:\n",
    "    print(*i)"
   ]
  },
  {
   "cell_type": "code",
   "execution_count": 25,
   "id": "b348a83e",
   "metadata": {},
   "outputs": [
    {
     "name": "stdout",
     "output_type": "stream",
     "text": [
      "satr = 4\n",
      "ustun = 4\n",
      "6 9 7 7\n",
      "1 0 10 2\n",
      "7 6 4 5\n",
      "5 8 8 5\n",
      "\n",
      "6 9 9 7 7\n",
      "1 0 0 10 2\n",
      "7 6 6 4 5\n",
      "5 8 8 8 5\n"
     ]
    }
   ],
   "source": [
    "# 71\n",
    "from random import randint\n",
    "m = int(input('satr = '))\n",
    "n = int(input(\"ustun = \"))\n",
    "matrix  = [[randint(-1,10) for j in range(n)] for i in range(m)]\n",
    "for i in matrix:\n",
    "    print(*i)\n",
    "print()   \n",
    "flag = True\n",
    "for j in range(n):\n",
    "    for i in range(m):\n",
    "        if flag:\n",
    "            mini = matrix[i][j]\n",
    "            index = j\n",
    "            flag = False\n",
    "            continue\n",
    "        if mini > matrix[i][j]:\n",
    "            mini = matrix[i][j]\n",
    "            index = j\n",
    "            \n",
    "for i in range(m):\n",
    "    matrix[i].insert(index+1, matrix[i][index])\n",
    "    \n",
    "for i in matrix:\n",
    "    print(*i)"
   ]
  },
  {
   "cell_type": "code",
   "execution_count": 26,
   "id": "63273fd6",
   "metadata": {},
   "outputs": [
    {
     "name": "stdout",
     "output_type": "stream",
     "text": [
      "satr = 3\n",
      "ustun = 3\n",
      "7 10 1\n",
      "10 4 7\n",
      "1 3 5\n",
      "\n",
      "1 7 10 1\n",
      "1 10 4 7\n",
      "1 1 3 5\n"
     ]
    }
   ],
   "source": [
    "# 72\n",
    "from random import randint\n",
    "m = int(input('satr = '))\n",
    "n = int(input(\"ustun = \"))\n",
    "matrix  = [[randint(-10,10) for j in range(n)] for i in range(m)]\n",
    "for i in matrix:\n",
    "    print(*i)\n",
    "print() \n",
    "\n",
    "for j in range(n):\n",
    "    for i in range(m):\n",
    "        if matrix[i][j]<0:\n",
    "            break\n",
    "            \n",
    "    else:\n",
    "        for i in range(m):\n",
    "            matrix[i].insert(j,1)\n",
    "        break\n",
    "        \n",
    "for i in matrix:\n",
    "    print(*i)"
   ]
  },
  {
   "cell_type": "code",
   "execution_count": 27,
   "id": "ac356e73",
   "metadata": {},
   "outputs": [
    {
     "name": "stdout",
     "output_type": "stream",
     "text": [
      "satr = 3\n",
      "ustun = 3\n",
      "-1 3 -8\n",
      "0 8 -8\n",
      "-9 -8 -5\n",
      "\n",
      "-1 3 -8 0\n",
      "0 8 -8 0\n",
      "-9 -8 -5 0\n"
     ]
    }
   ],
   "source": [
    "# 73\n",
    "from random import randint\n",
    "m = int(input('satr = '))\n",
    "n = int(input(\"ustun = \"))\n",
    "matrix  = [[randint(-10,10) for j in range(n)] for i in range(m)]\n",
    "for i in matrix:\n",
    "    print(*i)\n",
    "print() \n",
    "\n",
    "for j in range(n-1,-1,-1):\n",
    "    for i in range(m):\n",
    "        if matrix[i][j]>0:\n",
    "            break\n",
    "            \n",
    "    else:\n",
    "        for i in range(m):\n",
    "            matrix[i].insert(j+1,0)\n",
    "        break\n",
    "        \n",
    "for i in matrix:\n",
    "    print(*i)"
   ]
  },
  {
   "cell_type": "code",
   "execution_count": 34,
   "id": "bdf9957d",
   "metadata": {},
   "outputs": [
    {
     "name": "stdout",
     "output_type": "stream",
     "text": [
      "satr = 4\n",
      "ustun = 4\n",
      "9 6 2 5\n",
      "4 1 9 9\n",
      "10 1 0 2\n",
      "1 9 2 10\n",
      "\n",
      "9 6 2 5\n",
      "4 1 9 9\n",
      "10 1 0 2\n",
      "1 0 2 10\n"
     ]
    }
   ],
   "source": [
    "# 75\n",
    "from random import randint\n",
    "m = int(input('satr = '))\n",
    "n = int(input(\"ustun = \"))\n",
    "matrix  = [[randint(0,10) for j in range(n)] for i in range(m)]\n",
    "for i in matrix:\n",
    "    print(*i)\n",
    "print() \n",
    "\n",
    "loc_max = []\n",
    "for i in range(m):\n",
    "    for j in range(1,n-1):\n",
    "        if matrix[i][j-1]<matrix[i][j]>matrix[i][j+1]:\n",
    "            loc_max.append([i,j])\n",
    "            \n",
    "for i in loc_max:\n",
    "    matrix[i[0]][i[1]] = 0\n",
    "\n",
    "for i in matrix:\n",
    "    print(*i)"
   ]
  },
  {
   "cell_type": "code",
   "execution_count": 18,
   "id": "f2cd529d",
   "metadata": {},
   "outputs": [
    {
     "name": "stdout",
     "output_type": "stream",
     "text": [
      "satr = 4\n",
      "ustun = 4\n",
      "8 8 8 8 8 8\n",
      "8 8 6 5 1 8\n",
      "8 6 1 5 3 8\n",
      "8 4 2 1 4 8\n",
      "8 3 7 9 8 8\n",
      "8 8 8 8 8 8\n",
      "\n",
      "lokal minimum indekslari : \n",
      "[1, 4] [2, 2] [3, 3] [4, 1] \n",
      "8 8 8 8 8 8\n",
      "8 8 6 5 0 8\n",
      "8 6 0 5 3 8\n",
      "8 4 2 0 4 8\n",
      "8 0 7 9 8 8\n",
      "8 8 8 8 8 8\n"
     ]
    }
   ],
   "source": [
    "# 74\n",
    "from random import randint\n",
    "m = int(input('satr = '))\n",
    "n = int(input(\"ustun = \"))\n",
    "matrix  = [[randint(1,9) for j in range(n)] for i in range(m)]\n",
    "maxi = max(max(matrix))\n",
    "        \n",
    "for i in range(m):\n",
    "    matrix[i].insert(0,maxi)\n",
    "    matrix[i].append(maxi)\n",
    "    \n",
    "matrix.insert(0,[maxi for i in range(n+2)])\n",
    "matrix.append([maxi for i in range(n+2)])\n",
    "for i in matrix:\n",
    "    print(*i)\n",
    "print()\n",
    "\n",
    "loc_min = []\n",
    "for i in range(1, len(matrix)):\n",
    "    for j in range(1,len(matrix[0])):\n",
    "        if  matrix[i][j-1] > matrix[i][j] and matrix[i][j] < matrix[i][j+1] and matrix[i+1][j] > matrix[i][j] and matrix[i][j] < matrix[i-1][j]:\n",
    "                loc_min.append([i,j])\n",
    "                \n",
    "\n",
    "print(\"lokal minimum indekslari : \")\n",
    "for i in loc_min:\n",
    "    print(i, end=\" \")\n",
    "    matrix[i[0]][i[1]] = 0\n",
    "    \n",
    "print()\n",
    "for i in matrix:\n",
    "    \n",
    "    print(*i)"
   ]
  },
  {
   "cell_type": "code",
   "execution_count": 13,
   "id": "0019e0f4",
   "metadata": {},
   "outputs": [
    {
     "name": "stdout",
     "output_type": "stream",
     "text": [
      "satr = 4\n",
      "ustun = 4\n",
      "13 32 90 88\n",
      "31 47 17 88\n",
      "14 19 57 50\n",
      "65 28 50 86\n",
      "\n",
      "lokal minimum indekslari : \n",
      "[0, 0] [1, 2] [2, 0] \n",
      "0 32 90 88\n",
      "31 47 0 88\n",
      "0 19 57 50\n",
      "65 28 50 86\n"
     ]
    }
   ],
   "source": [
    "# 74\n",
    "from random import randint\n",
    "m = int(input('satr = '))\n",
    "n = int(input(\"ustun = \"))\n",
    "matrix  = [[randint(10,99) for j in range(n)] for i in range(m)]\n",
    "for i in matrix:\n",
    "    print(*i)\n",
    "print() \n",
    "\n",
    "loc_min = []\n",
    "for i in range(m):\n",
    "    for j in range(n):\n",
    "        # yuqori burchaklar\n",
    "        if i==0 and j==0 or j==n-1:\n",
    "            if matrix[1][j] > matrix[0][j] < matrix[0][j-1 if j == n-1 else j+1]:\n",
    "                loc_min.append([i,j])\n",
    "        # pastgi burchaklar\n",
    "        elif i==m-1 and j==0 or j ==n-1:\n",
    "            if matrix[m-2][j]>matrix[i][j]<matrix[m-1][j+1 if j!=n-1 else j-1]:\n",
    "                loc_min.append([i,j])  \n",
    "        # chap tomoni  \n",
    "        elif j == 0 and 0<i<m-1:\n",
    "            if matrix[i+1][j]>matrix[i][j]<matrix[i-1][j] and matrix[i][j] < matrix[i][j+1]:\n",
    "                loc_min.append([i,j])\n",
    "        # ong tomoni\n",
    "        elif j == n-1 and 0 < i < m-1:\n",
    "            if matrix[i+1][j] > matrix[i][j] < matrix[i-1][j] and matrix[i][j] < matrix[i][j-1]:\n",
    "                loc_min.append([i,j])\n",
    "        # tepasi        \n",
    "        elif i==0 and 0<j<n-1:\n",
    "            if matrix[i][j-1]>matrix[i][j]<matrix[i][j+1] and matrix[i+1][j]>matrix[i][j]:\n",
    "                loc_min.append([i,j])   \n",
    "         # pasti   \n",
    "        elif i==m-1 and 0<j<n-1:\n",
    "            if matrix[i][j-1]>matrix[i][j]<matrix[i][j+1] and matrix[i-1][j]>matrix[i][j]:\n",
    "                loc_min.append([i,j])\n",
    "        # o'rta qismi\n",
    "        else:\n",
    "            if matrix[i][j-1]>matrix[i][j]<matrix[i][j+1] and matrix[i-1][j]>matrix[i][j]<matrix[i+1][j]:\n",
    "                loc_min.append([i,j])\n",
    "                \n",
    "print(\"lokal minimum indekslari : \")\n",
    "for i in loc_min:\n",
    "    print(i, end=\" \")\n",
    "    matrix[i[0]][i[1]] = 0\n",
    "print()\n",
    "for i in matrix:\n",
    "    print(*i)"
   ]
  },
  {
   "cell_type": "code",
   "execution_count": 47,
   "id": "0384f450",
   "metadata": {},
   "outputs": [
    {
     "name": "stdout",
     "output_type": "stream",
     "text": [
      "satr = 4\n",
      "ustun = 2\n",
      "0 4\n",
      "4 2\n",
      "10 0\n",
      "7 2\n",
      "\n",
      "0 4\n",
      "4 2\n",
      "7 2\n",
      "10 0\n"
     ]
    }
   ],
   "source": [
    "# 76\n",
    "from random import randint\n",
    "m = int(input('satr = '))\n",
    "n = int(input(\"ustun = \"))\n",
    "matrix  = [[randint(0,10) for j in range(n)] for i in range(m)]\n",
    "for i in matrix:\n",
    "    print(*i)\n",
    "print() \n",
    "if matrix[0][0]>matrix[1][0]:\n",
    "    matrix[0][0], matrix[1][0] = matrix[1][0], matrix[0][0]\n",
    "for i in range(m):\n",
    "    for j in range(1,m):\n",
    "        if matrix[j][0]<matrix[j-1][0]:\n",
    "            matrix[j], matrix[j-1] = matrix[j-1], matrix[j]\n",
    "\n",
    "for i in matrix:\n",
    "    print(*i)"
   ]
  },
  {
   "cell_type": "code",
   "execution_count": 24,
   "id": "7ef259df",
   "metadata": {},
   "outputs": [
    {
     "name": "stdout",
     "output_type": "stream",
     "text": [
      "satr = 5\n",
      "ustun = 5\n",
      "2 6 5 8 5\n",
      "10 10 5 9 7\n",
      "6 9 8 7 5\n",
      "3 8 7 0 7\n",
      "4 8 3 9 6\n",
      "\n",
      "2 6 5 8 5\n",
      "10 10 5 9 7\n",
      "6 9 8 7 5\n",
      "3 8 7 0 7\n",
      "9 8 6 4 3\n"
     ]
    }
   ],
   "source": [
    "# 77\n",
    "from random import randint\n",
    "m = int(input('satr = '))\n",
    "n = int(input(\"ustun = \"))\n",
    "matrix  = [[randint(0,10) for j in range(n)] for i in range(m)]\n",
    "for i in matrix:\n",
    "    print(*i)\n",
    "print() \n",
    "\n",
    "matrix[m-1].sort(reverse=True)\n",
    "for i in matrix:\n",
    "    print(*i)"
   ]
  },
  {
   "cell_type": "code",
   "execution_count": null,
   "id": "9ba0069a",
   "metadata": {},
   "outputs": [],
   "source": [
    "# 78\n",
    "m = int(input(\"m = \"))\n",
    "n = int(input(\"n = \"))\n",
    "matrix = [[randint(-5,3) for i in range(n)] for j in range(m)]\n",
    "for i in matrix:\n",
    "    print(*i)\n",
    "print()\n",
    "\n",
    "for _ in range(m):\n",
    "    for i in range(m-1):\n",
    "        if min(matrix[i])<min(matrix[i+1]):\n",
    "            matrix[i],matrix[i+1] = matrix[i+1],matrix[i]\n",
    "\n",
    "for i in matrix:\n",
    "    print(*i)"
   ]
  },
  {
   "cell_type": "code",
   "execution_count": 15,
   "id": "2f47b015",
   "metadata": {},
   "outputs": [
    {
     "name": "stdout",
     "output_type": "stream",
     "text": [
      "m = 4\n",
      "n = 4\n",
      "8 3 3 1\n",
      "7 4 3 7\n",
      "3 1 9 6\n",
      "6 6 6 6\n",
      "\n",
      "3 1 8 3\n",
      "4 7 7 3\n",
      "1 6 3 9\n",
      "6 6 6 6\n"
     ]
    }
   ],
   "source": [
    "# 79\n",
    "m = int(input(\"m = \"))\n",
    "n = int(input(\"n = \"))\n",
    "matrix = [[randint(1,9) for i in range(n)] for j in range(m)]\n",
    "for i in matrix:\n",
    "    print(*i)\n",
    "print()\n",
    "\n",
    "for _ in range(n):\n",
    "    for i in range(n-1):\n",
    "        maxi1 = matrix[0][i]\n",
    "        maxi2 = matrix[0][i+1]\n",
    "        for k in range(1,m):\n",
    "            if maxi1<matrix[k][i]:\n",
    "                maxi1 = matrix[k][i]\n",
    "        for k in range(1,m):\n",
    "            if maxi2<matrix[k][i+1]:\n",
    "                maxi2 = matrix[k][i+1]\n",
    "        if maxi1>maxi2:\n",
    "            for h in range(m):\n",
    "                matrix[h][i],matrix[h][i+1] = matrix[h][i+1],matrix[h][i]\n",
    "\n",
    "for i in matrix:\n",
    "    \n",
    "    print(*i)\n",
    " \n"
   ]
  },
  {
   "cell_type": "code",
   "execution_count": 27,
   "id": "5a49eee5",
   "metadata": {},
   "outputs": [
    {
     "name": "stdout",
     "output_type": "stream",
     "text": [
      "satr = 3\n",
      "ustun = 3\n",
      "10 2 10\n",
      "10 8 2\n",
      "5 3 9\n",
      "\n",
      "S =  27\n"
     ]
    }
   ],
   "source": [
    "# 80\n",
    "from random import randint\n",
    "m = int(input('m = '))\n",
    "matrix  = [[randint(0,10) for j in range(m)] for i in range(m)]\n",
    "for i in matrix:\n",
    "    print(*i)\n",
    "print() \n",
    "\n",
    "s = 0\n",
    "for j in range(n):\n",
    "    s += matrix[j][j]\n",
    "    \n",
    "print(\"S = \", s)"
   ]
  },
  {
   "cell_type": "code",
   "execution_count": 31,
   "id": "ae1b2200",
   "metadata": {},
   "outputs": [
    {
     "name": "stdout",
     "output_type": "stream",
     "text": [
      "satr = 4\n",
      "ustun = 4\n",
      "5 6 3 3\n",
      "9 10 0 0\n",
      "0 8 4 0\n",
      "10 4 1 5\n",
      "\n",
      "O'A =  5.25\n"
     ]
    }
   ],
   "source": [
    "# 81\n",
    "from random import randint\n",
    "m = int(input('m = ')\n",
    "matrix  = [[randint(0,10) for j in range(m)] for i in range(m)]\n",
    "for i in matrix:\n",
    "    print(*i)\n",
    "print() \n",
    "\n",
    "s = 0\n",
    "for j in range(n-1,-1,-1):\n",
    "    s += matrix[j][n-1-j]\n",
    "s /= n\n",
    "print(\"O'A = \", s)"
   ]
  },
  {
   "cell_type": "code",
   "execution_count": 16,
   "id": "ceed9c8c",
   "metadata": {},
   "outputs": [
    {
     "name": "stdout",
     "output_type": "stream",
     "text": [
      "m = 4\n",
      "0 10 8 2\n",
      "0 4 7 1\n",
      "1 1 9 1\n",
      "1 2 3 6\n",
      "\n",
      "4 18\n",
      "3 9\n",
      "s = 37\n"
     ]
    }
   ],
   "source": [
    "# 82\n",
    "from random import randint\n",
    "m = int(input('m = '))\n",
    "matrix  = [[randint(0,10) for j in range(m)] for i in range(m)]\n",
    "for i in matrix:\n",
    "    print(*i)\n",
    "print() \n",
    "\n",
    "\n",
    "i = 1; s = s1 =s2 = 0\n",
    "while i<m-1:\n",
    "    j = i; k = 0\n",
    "    while j<m:\n",
    "        s1 += matrix[j][k]\n",
    "        s2 += matrix[k][j]\n",
    "        j += 1;k += 1\n",
    "    s += s1 + s2\n",
    "    print(s1,s2)\n",
    "    s1 = s2 = 0\n",
    "    i+= 1\n",
    "    \n",
    "s += matrix[m-1][0] + matrix[0][m-1]\n",
    "print(\"s =\", s)\n"
   ]
  },
  {
   "cell_type": "code",
   "execution_count": 17,
   "id": "598e642f",
   "metadata": {},
   "outputs": [
    {
     "name": "stdout",
     "output_type": "stream",
     "text": [
      "m = 4\n",
      "2 2 5 5\n",
      "4 7 4 2\n",
      "6 6 1 10\n",
      "8 0 3 1\n",
      "\n",
      "5 5 2 2\n",
      "2 4 7 4\n",
      "10 1 6 6\n",
      "1 3 0 8\n",
      "3 18\n",
      "13 6\n",
      "s = 40\n"
     ]
    }
   ],
   "source": [
    "## 83\n",
    "from random import randint\n",
    "m = int(input('m = '))\n",
    "matrix  = [[randint(0,10) for j in range(m)] for i in range(m)]\n",
    "for i in matrix:\n",
    "    print(*i)\n",
    "print() \n",
    "\n",
    "for i in range(m):\n",
    "    matrix[i].reverse()\n",
    "    print(*matrix[i])\n",
    "    \n",
    "i = 1; s = s1 =s2 = 0\n",
    "while i<m-1:\n",
    "    j = i; k = 0\n",
    "    while j<m:\n",
    "        s1 += matrix[j][k]\n",
    "        s2 += matrix[k][j]\n",
    "        j += 1;k += 1\n",
    "    s += s1 + s2\n",
    "    print(s1,s2)\n",
    "    s1 = s2 = 0\n",
    "    i+= 1\n",
    "print(\"s =\", s)\n"
   ]
  },
  {
   "cell_type": "code",
   "execution_count": 18,
   "id": "5103188e",
   "metadata": {},
   "outputs": [
    {
     "name": "stdout",
     "output_type": "stream",
     "text": [
      "m = 3\n",
      "0 6 7\n",
      "9 6 5\n",
      "4 0 6\n",
      "\n",
      "15 5\n",
      "s =  20\n"
     ]
    }
   ],
   "source": [
    "# 83\n",
    "from random import randint\n",
    "m = int(input('m = '))\n",
    "matrix  = [[randint(0,10) for j in range(m)] for i in range(m)]\n",
    "for i in matrix:\n",
    "    print(*i)\n",
    "print() \n",
    "\n",
    "i = 1; s = s1 = s2 = 0\n",
    "while i < m - 1:\n",
    "    j = i; k = 0\n",
    "    while j>=0:\n",
    "        s1 += matrix[j][k]\n",
    "        s2 += matrix[m-1-j][m-1-k]\n",
    "        j -= 1; k+= 1\n",
    "    print(s1, s2)\n",
    "    s += s1 + s2  \n",
    "    s1 = s2 = 0\n",
    "    i += 1\n",
    "s += martix[0][0] + martix[m-1][m-1]\n",
    "print(\"s = \", s)"
   ]
  },
  {
   "cell_type": "code",
   "execution_count": 4,
   "id": "b836c90d",
   "metadata": {},
   "outputs": [
    {
     "name": "stdout",
     "output_type": "stream",
     "text": [
      "m = 4\n",
      "7 4 6 8\n",
      "4 0 2 8\n",
      "2 2 0 4\n",
      "5 6 2 7\n",
      "\n",
      "8 2.6666666666666665\n",
      "10 3.3333333333333335\n",
      "8 2.6666666666666665\n",
      "14 4.666666666666667\n",
      "s = 40\n"
     ]
    }
   ],
   "source": [
    "# 84\n",
    "from random import randint\n",
    "m = int(input('m = '))\n",
    "matrix  = [[randint(0,10) for j in range(m)] for i in range(m)]\n",
    "for i in matrix:\n",
    "    print(*i)\n",
    "print() \n",
    "\n",
    "\n",
    "i = 1; s = s1 =s2 = 0\n",
    "while i<m-1:\n",
    "    j = i; k = 0\n",
    "    while j<m:\n",
    "        s1 += matrix[j][k]\n",
    "        s2 += matrix[k][j]\n",
    "        j += 1;k += 1\n",
    "    s += s1 + s2\n",
    "    print(s1,s1/(j-1))\n",
    "    print(s2,s2/(j-1))\n",
    "    s1 = s2 = 0\n",
    "    i+= 1\n",
    "\n",
    "print(\"s =\", s)\n"
   ]
  },
  {
   "cell_type": "code",
   "execution_count": 7,
   "id": "ac61c648",
   "metadata": {},
   "outputs": [
    {
     "name": "stdout",
     "output_type": "stream",
     "text": [
      "m = 4\n",
      "9 7 9 3\n",
      "8 4 5 2\n",
      "1 8 2 0\n",
      "6 0 2 5\n",
      "\n",
      "15 7.5\n",
      "2 1.0\n",
      "14 4.666666666666667\n",
      "4 1.3333333333333333\n",
      "s =  35\n"
     ]
    }
   ],
   "source": [
    "# 85\n",
    "from random import randint\n",
    "m = int(input('m = '))\n",
    "matrix  = [[randint(0,10) for j in range(m)] for i in range(m)]\n",
    "for i in matrix:\n",
    "    print(*i)\n",
    "print() \n",
    "\n",
    "i = 1; s = s1 = s2 = 0\n",
    "while i < m - 1:\n",
    "    j = i; k = 0\n",
    "    ind = []\n",
    "    while j>=0:\n",
    "        s1 += matrix[j][k]\n",
    "        s2 += matrix[m-1-j][m-1-k]\n",
    "        j -= 1; k+= 1\n",
    "    print(s1,s1/k)\n",
    "    print(s2,s2/k)\n",
    "    s += s1 + s2  \n",
    "    s1 = s2 = 0\n",
    "    i += 1\n",
    "print(\"s = \", s)"
   ]
  },
  {
   "cell_type": "code",
   "execution_count": 20,
   "id": "c3d60f0f",
   "metadata": {
    "scrolled": true
   },
   "outputs": [
    {
     "name": "stdout",
     "output_type": "stream",
     "text": [
      "m = 4\n",
      "1 2 6 9\n",
      "10 8 3 3\n",
      "0 0 8 4\n",
      "2 2 9 4\n",
      "\n",
      "min :  0\n"
     ]
    }
   ],
   "source": [
    "# 86\n",
    "from random import randint\n",
    "m = int(input('m = '))\n",
    "matrix  = [[randint(0,10) for j in range(m)] for i in range(m)]\n",
    "for i in matrix:\n",
    "    print(*i)\n",
    "print() \n",
    "\n",
    "\n",
    "i = 1; flag = True\n",
    "while i<m-1:\n",
    "    j = i; k = 0\n",
    "    while j<m:\n",
    "        if flag:\n",
    "            mini = matrix[j][k]\n",
    "            flag = False\n",
    "        if mini > matrix[j][k]:\n",
    "            mini = matrix[j][k]\n",
    "        if mini > matrix[k][j]:\n",
    "            mini = matrix[k][j]\n",
    "        j += 1;k += 1\n",
    "    i+= 1\n",
    "if mini > matrix[m-1][0]:\n",
    "    mini = matrix[m-1][0]\n",
    "if mini > matrix[0][m-1]:\n",
    "    mini = matrix[0][m-1]\n",
    "print(\"min : \", mini)"
   ]
  },
  {
   "cell_type": "code",
   "execution_count": 22,
   "id": "2fd70427",
   "metadata": {},
   "outputs": [
    {
     "name": "stdout",
     "output_type": "stream",
     "text": [
      "m = 4\n",
      "0 5 8 6\n",
      "3 7 6 5\n",
      "2 10 9 9\n",
      "5 0 8 2\n",
      "\n",
      "max :  9\n"
     ]
    }
   ],
   "source": [
    "## 87\n",
    "from random import randint\n",
    "m = int(input('m = '))\n",
    "matrix  = [[randint(0,10) for j in range(m)] for i in range(m)]\n",
    "for i in matrix:\n",
    "    print(*i)\n",
    "print() \n",
    "\n",
    "i = 1; flag = True\n",
    "while i < m - 1:\n",
    "    j = i; k = 0\n",
    "    while j>=0:\n",
    "        if flag:\n",
    "            maxi = matrix[j][k]\n",
    "            flag = False\n",
    "        if maxi < matrix[j][k]:\n",
    "            maxi = matrix[j][k]\n",
    "        if maxi < matrix[m-1-j][m-1-k]:\n",
    "            maxi = matrix[m-1-j][m-1-k]\n",
    "        j -= 1; k+= 1\n",
    "    i += 1\n",
    "    \n",
    "if matrix[0][0] > maxi:\n",
    "    maxi = matrix[0][0]\n",
    "    \n",
    "if matrix[m-1][m-1] > maxi:\n",
    "    maxi = matrix[m-1][m-1]\n",
    "    \n",
    "print(\"max : \", maxi)"
   ]
  },
  {
   "cell_type": "code",
   "execution_count": 23,
   "id": "f6279c7f",
   "metadata": {},
   "outputs": [
    {
     "name": "stdout",
     "output_type": "stream",
     "text": [
      "m = 4\n",
      "10 4 2 8\n",
      "7 2 8 4\n",
      "5 6 7 4\n",
      "9 8 8 10\n",
      "\n",
      "0 4 2 8\n",
      "0 0 8 4\n",
      "0 0 0 4\n",
      "0 0 0 0\n"
     ]
    }
   ],
   "source": [
    "# 88\n",
    "from random import randint\n",
    "m = int(input('m = '))\n",
    "matrix  = [[randint(0,10) for j in range(m)] for i in range(m)]\n",
    "for i in matrix:\n",
    "    print(*i)\n",
    "print() \n",
    "\n",
    "\n",
    "i = 0\n",
    "while i<m-1:\n",
    "    j = i; k = 0\n",
    "    while j<m:\n",
    "        matrix[j][k]  = 0\n",
    "        j += 1;k += 1\n",
    "    i+= 1\n",
    "matrix[m-1][0] = 0\n",
    "\n",
    "for i in matrix:\n",
    "    print(*i)"
   ]
  },
  {
   "cell_type": "code",
   "execution_count": 24,
   "id": "7c5031ed",
   "metadata": {},
   "outputs": [
    {
     "name": "stdout",
     "output_type": "stream",
     "text": [
      "m = 6\n",
      "8 3 1 6 6 6\n",
      "5 4 9 5 2 9\n",
      "4 0 9 2 9 4\n",
      "6 6 3 7 7 7\n",
      "10 1 4 8 7 8\n",
      "3 9 8 7 9 5\n",
      "\n",
      "0 0 0 0 0 0\n",
      "0 0 0 0 0 9\n",
      "0 0 0 0 9 4\n",
      "0 0 0 7 7 7\n",
      "0 0 4 8 7 8\n",
      "0 9 8 7 9 5\n"
     ]
    }
   ],
   "source": [
    "# 89\n",
    "from random import randint\n",
    "m = int(input('m = '))\n",
    "matrix  = [[randint(0,10) for j in range(m)] for i in range(m)]\n",
    "for i in matrix:\n",
    "    print(*i)\n",
    "print() \n",
    "\n",
    "i = 0\n",
    "while i < m :\n",
    "    j = i; k = 0\n",
    "    while j>=0:\n",
    "        matrix[j][k] = 0\n",
    "        j -= 1; k+= 1\n",
    "    i += 1\n",
    "for i in matrix:\n",
    "    print(*i)"
   ]
  },
  {
   "cell_type": "code",
   "execution_count": 24,
   "id": "66cff22a",
   "metadata": {},
   "outputs": [
    {
     "name": "stdout",
     "output_type": "stream",
     "text": [
      "m = 4\n",
      "3 8 8 4\n",
      "5 6 10 9\n",
      "5 1 2 6\n",
      "8 0 6 2\n",
      "\n",
      "3 8 8 0\n",
      "5 6 0 0\n",
      "5 0 0 0\n",
      "0 0 0 0\n"
     ]
    }
   ],
   "source": [
    "# 90\n",
    "from random import randint\n",
    "m = int(input('m = '))\n",
    "matrix  = [[randint(0,10) for j in range(m)] for i in range(m)]\n",
    "for i in matrix:\n",
    "    print(*i)\n",
    "print() \n",
    "\n",
    "i = 0\n",
    "while i < m :\n",
    "    j = i; k = 0\n",
    "    while j>=0:\n",
    "        matrix[m-1-j][m-1-k] = 0\n",
    "        j -= 1; k+= 1\n",
    "    i += 1\n",
    "for i in matrix:\n",
    "    print(*i)"
   ]
  },
  {
   "cell_type": "code",
   "execution_count": 25,
   "id": "2b239a51",
   "metadata": {},
   "outputs": [
    {
     "name": "stdout",
     "output_type": "stream",
     "text": [
      "m = 5\n",
      "9 2 4 5 6\n",
      "3 1 6 7 1\n",
      "4 1 7 6 2\n",
      "8 4 6 9 7\n",
      "7 7 2 9 6\n",
      "\n",
      "0 0 0 0 0\n",
      "3 0 0 0 0\n",
      "4 1 0 0 0\n",
      "8 4 6 0 0\n",
      "7 7 2 9 0\n"
     ]
    }
   ],
   "source": [
    "# 91\n",
    "from random import randint\n",
    "m = int(input('m = '))\n",
    "matrix  = [[randint(1,9) for j in range(m)] for i in range(m)]\n",
    "for i in matrix:\n",
    "    print(*i)\n",
    "print() \n",
    "\n",
    "\n",
    "i = 0\n",
    "while i<m-1:\n",
    "    j = i; k = 0\n",
    "    while j<m:\n",
    "        matrix[m-1-j][m-1-k]  = 0\n",
    "        j += 1;k += 1\n",
    "    i+= 1\n",
    "matrix[0][m-1] = 0\n",
    "for i in matrix:\n",
    "    print(*i)"
   ]
  },
  {
   "cell_type": "code",
   "execution_count": 26,
   "id": "0239e5c5",
   "metadata": {},
   "outputs": [
    {
     "name": "stdout",
     "output_type": "stream",
     "text": [
      "m = 5\n",
      "6 7 5 4 8\n",
      "9 9 5 9 8\n",
      "5 9 1 7 9\n",
      "8 6 5 2 2\n",
      "4 9 2 4 3\n",
      "\n",
      "0 0 0 0 0\n",
      "9 0 0 0 8\n",
      "5 9 0 7 9\n",
      "8 6 5 2 2\n",
      "4 9 2 4 3\n"
     ]
    }
   ],
   "source": [
    "# 92\n",
    "from random import randint\n",
    "m = int(input('m = '))\n",
    "matrix  = [[randint(1,9) for j in range(m)] for i in range(m)]\n",
    "for i in matrix:\n",
    "    print(*i)\n",
    "print() \n",
    "\n",
    "for i in range(m//2):\n",
    "    j = i;\n",
    "    while j <= m-1-i:\n",
    "        matrix[i][j]=0\n",
    "        j += 1\n",
    "        \n",
    "if m%2==1:\n",
    "    matrix[m//2][m//2] = 0\n",
    "for i in matrix:\n",
    "    print(*i)"
   ]
  },
  {
   "cell_type": "code",
   "execution_count": 19,
   "id": "12392d28",
   "metadata": {},
   "outputs": [
    {
     "name": "stdout",
     "output_type": "stream",
     "text": [
      "m = 5\n",
      "2 6 2 4 5\n",
      "2 1 3 7 9\n",
      "8 7 3 6 6\n",
      "3 9 3 2 1\n",
      "1 6 5 6 2\n",
      "\n",
      "0 6 2 4 0\n",
      "0 0 3 0 0\n",
      "0 0 0 0 0\n",
      "0 0 3 0 0\n",
      "0 6 5 6 0\n"
     ]
    }
   ],
   "source": [
    "# 93\n",
    "from random import randint\n",
    "m = int(input('m = '))\n",
    "matrix  = [[randint(1,9) for j in range(m)] for i in range(m)]\n",
    "for i in matrix:\n",
    "    print(*i)\n",
    "print() \n",
    "\n",
    "for i in range(m-1,m//2-1,-1):\n",
    "    j = i;\n",
    "    while j >= m-1-i:\n",
    "        matrix[j][i]=0\n",
    "        j -= 1\n",
    "\n",
    "\n",
    "        \n",
    "if m%2==1:\n",
    "    matrix[m//2][m//2] = 0\n",
    "for i in matrix:\n",
    "    print(*i)"
   ]
  },
  {
   "cell_type": "code",
   "execution_count": 58,
   "id": "2c728c6a",
   "metadata": {},
   "outputs": [
    {
     "name": "stdout",
     "output_type": "stream",
     "text": [
      "m = 5\n",
      "2 8 3 2 4\n",
      "1 8 7 5 3\n",
      "3 7 3 8 3\n",
      "1 1 4 5 6\n",
      "5 9 1 8 2\n",
      "\n",
      "0 8 3 2 4\n",
      "0 0 7 5 3\n",
      "0 0 0 8 3\n",
      "0 0 4 5 6\n",
      "0 9 1 8 2\n"
     ]
    }
   ],
   "source": [
    "# 94\n",
    "from random import randint\n",
    "m = int(input('m = '))\n",
    "matrix  = [[randint(1,9) for j in range(m)] for i in range(m)]\n",
    "for i in matrix:\n",
    "    print(*i)\n",
    "print() \n",
    "\n",
    "for i in range(m//2):\n",
    "    j = i;\n",
    "    while j <= m-1-i:\n",
    "        matrix[j][i]=0\n",
    "        j += 1\n",
    "        \n",
    "if m%2==1:\n",
    "    matrix[m//2][m//2] = 0\n",
    "for i in matrix:\n",
    "    print(*i)"
   ]
  },
  {
   "cell_type": "code",
   "execution_count": 17,
   "id": "90636870",
   "metadata": {},
   "outputs": [
    {
     "name": "stdout",
     "output_type": "stream",
     "text": [
      "m = 7\n",
      "7 2 8 5 5 7 5\n",
      "1 5 8 5 3 7 3\n",
      "6 2 1 1 5 5 3\n",
      "4 7 4 1 1 3 5\n",
      "6 9 5 7 3 8 8\n",
      "2 9 4 1 7 3 8\n",
      "6 5 9 3 1 4 7\n",
      "\n",
      "7 2 8 5 5 7 5\n",
      "1 5 8 5 3 7 3\n",
      "6 2 1 1 5 5 3\n",
      "4 7 4 0 1 3 5\n",
      "6 9 0 0 0 8 8\n",
      "2 0 0 0 0 0 8\n",
      "0 0 0 0 0 0 0\n"
     ]
    }
   ],
   "source": [
    "# 95\n",
    "from random import randint\n",
    "m = int(input('m = '))\n",
    "matrix  = [[randint(1,9) for j in range(m)] for i in range(m)]\n",
    "for i in matrix:\n",
    "    print(*i)\n",
    "print() \n",
    "\n",
    "for i in range(m-1,m//2,-1):\n",
    "    j = i\n",
    "    while j >= m-1-i:\n",
    "        matrix[i][j] = 0\n",
    "        j -= 1; \n",
    " \n",
    "\n",
    "if m%2==1:\n",
    "    matrix[m//2][m//2] = 0\n",
    "    \n",
    "for i in matrix:\n",
    "    print(*i)"
   ]
  },
  {
   "cell_type": "code",
   "execution_count": 34,
   "id": "abcc2c0d",
   "metadata": {},
   "outputs": [
    {
     "name": "stdout",
     "output_type": "stream",
     "text": [
      "m = 3\n",
      "4 10 8\n",
      "0 0 10\n",
      "3 8 10\n",
      "\n",
      "10 8 8\n",
      "10 0 0\n",
      "3 10 4\n"
     ]
    }
   ],
   "source": [
    "# 96\n",
    "from random import randint\n",
    "m = int(input('m = '))\n",
    "matrix  = [[randint(0,10) for j in range(m)] for i in range(m)]\n",
    "for i in matrix:\n",
    "    print(*i)\n",
    "print() \n",
    "\n",
    "i = 0\n",
    "while i < m-1:\n",
    "    j = i; k = 0\n",
    "    while j>=0:\n",
    "        matrix[j][k], matrix[m-1-j][m-1-k] = matrix[m-1-j][m-1-k], matrix[j][k]\n",
    "        j -= 1; k+= 1\n",
    "    i += 1\n",
    "for i in matrix:\n",
    "    print(*i)"
   ]
  },
  {
   "cell_type": "code",
   "execution_count": 35,
   "id": "ecfcb25a",
   "metadata": {},
   "outputs": [
    {
     "name": "stdout",
     "output_type": "stream",
     "text": [
      "m = 5\n",
      "5 2 2 9 1\n",
      "4 1 6 5 2\n",
      "5 4 3 5 5\n",
      "8 3 7 8 2\n",
      "2 9 6 4 2\n",
      "\n",
      "5 4 6 9 2\n",
      "2 1 7 3 8\n",
      "5 5 3 4 5\n",
      "2 5 6 8 4\n",
      "1 9 2 2 2\n"
     ]
    }
   ],
   "source": [
    "# 97\n",
    "from random import randint\n",
    "m = int(input('m = '))\n",
    "matrix  = [[randint(1,9) for j in range(m)] for i in range(m)]\n",
    "for i in matrix:\n",
    "    print(*i)\n",
    "print() \n",
    "\n",
    "\n",
    "i = 1\n",
    "while i<m:\n",
    "    j = i; k = 0\n",
    "    while j<m:\n",
    "        matrix[m-1-j][m-1-k], matrix[j][k] = matrix[j][k],matrix[m-1-j][m-1-k]\n",
    "        j += 1;k += 1\n",
    "    i+= 1\n",
    "    \n",
    "\n",
    "for i in matrix:\n",
    "    print(*i)"
   ]
  },
  {
   "cell_type": "code",
   "execution_count": 5,
   "id": "17f7cc2e",
   "metadata": {
    "scrolled": true
   },
   "outputs": [
    {
     "name": "stdout",
     "output_type": "stream",
     "text": [
      "m = 4\n",
      "2 4 7 8\n",
      "1 4 9 7\n",
      "3 8 7 1\n",
      "2 5 5 6\n",
      "\n",
      "6 5 5 2\n",
      "1 7 8 3\n",
      "7 9 4 1\n",
      "8 7 4 2\n"
     ]
    }
   ],
   "source": [
    "# 98\n",
    "from random import randint\n",
    "m = int(input('m = '))\n",
    "matrix  = [[randint(1,9) for j in range(m)] for i in range(m)]\n",
    "for i in matrix:\n",
    "    print(*i)\n",
    "print() \n",
    "\n",
    "matrix.reverse()\n",
    "for i in range(m):\n",
    "    matrix[i].reverse()\n",
    "    \n",
    "for i in matrix:\n",
    "    print(*i)        \n"
   ]
  },
  {
   "cell_type": "code",
   "execution_count": 8,
   "id": "cf0bdaf2",
   "metadata": {
    "scrolled": true
   },
   "outputs": [
    {
     "name": "stdout",
     "output_type": "stream",
     "text": [
      "m = 3\n",
      "9 6 3\n",
      "5 5 4\n",
      "6 8 3\n",
      "\n",
      "3 4 3\n",
      "6 5 8\n",
      "9 5 6\n"
     ]
    }
   ],
   "source": [
    "# 99\n",
    "from random import randint\n",
    "m = int(input('m = '))\n",
    "matrix  = [[randint(1,9) for j in range(m)] for i in range(m)]\n",
    "for i in matrix:\n",
    "    print(*i)\n",
    "print()\n",
    "\n",
    "matrix1 = []\n",
    "for i in range(m-1,-1,-1):\n",
    "    array = []\n",
    "    for j in range(m):\n",
    "        array.append(matrix[j][i])\n",
    "    matrix1.append(array)\n",
    "matrix = matrix1.copy()\n",
    "\n",
    "for i in matrix:\n",
    "    print(*i)"
   ]
  },
  {
   "cell_type": "code",
   "execution_count": 36,
   "id": "63e95c19",
   "metadata": {
    "scrolled": true
   },
   "outputs": [
    {
     "name": "stdout",
     "output_type": "stream",
     "text": [
      "m = 3\n",
      "1 2 2\n",
      "4 8 6\n",
      "8 7 7\n",
      "\n",
      "2 6 7\n",
      "2 8 7\n",
      "1 4 8\n"
     ]
    }
   ],
   "source": [
    "# 99\n",
    "from random import randint\n",
    "m = int(input('m = '))\n",
    "matrix  = [[randint(1,9) for j in range(m)] for i in range(m)]\n",
    "for i in matrix:\n",
    "    print(*i)\n",
    "print()\n",
    "\n",
    "matrix = [[matrix[i][j] for i in range(m)] for j in range(m-1,-1,-1) ]\n",
    "\n",
    "for i in matrix:\n",
    "    print(*i)"
   ]
  },
  {
   "cell_type": "code",
   "execution_count": null,
   "id": "89917f72",
   "metadata": {},
   "outputs": [],
   "source": [
    "### 100\n",
    "from random import randint\n",
    "m = int(input('m = '))\n",
    "matrix  = [[randint(1,9) for j in range(m)] for i in range(m)]\n",
    "for i in matrix:\n",
    "    print(*i)\n",
    "print() \n",
    "\n",
    "matrix1 = []\n",
    "for i in range(m):\n",
    "    array = []\n",
    "    for j in range(m-1,-1,-1):\n",
    "        array.append(matrix[j][i])\n",
    "    matrix1.append(array)\n",
    "matrix = matrix1.copy()\n",
    "\n",
    "\n",
    "for i in matrix:\n",
    "    print(*i)"
   ]
  },
  {
   "cell_type": "code",
   "execution_count": 37,
   "id": "8f57f209",
   "metadata": {
    "scrolled": true
   },
   "outputs": [
    {
     "name": "stdout",
     "output_type": "stream",
     "text": [
      "m = 3\n",
      "9 5 4\n",
      "5 7 4\n",
      "7 8 6\n",
      "\n",
      "7 5 9\n",
      "8 7 5\n",
      "6 4 4\n"
     ]
    }
   ],
   "source": [
    "# 100\n",
    "from random import randint\n",
    "m = int(input('m = '))\n",
    "matrix  = [[randint(1,9) for j in range(m)] for i in range(m)]\n",
    "for i in matrix:\n",
    "    print(*i)\n",
    "print()\n",
    "\n",
    "matrix = [[matrix[i][j] for i in range(m-1,-1,-1)] for j in range(m) ]\n",
    "\n",
    "for i in matrix:\n",
    "    print(*i)"
   ]
  },
  {
   "cell_type": "code",
   "execution_count": null,
   "id": "ab0775af",
   "metadata": {},
   "outputs": [],
   "source": []
  }
 ],
 "metadata": {
  "kernelspec": {
   "display_name": "Python 3 (ipykernel)",
   "language": "python",
   "name": "python3"
  },
  "language_info": {
   "codemirror_mode": {
    "name": "ipython",
    "version": 3
   },
   "file_extension": ".py",
   "mimetype": "text/x-python",
   "name": "python",
   "nbconvert_exporter": "python",
   "pygments_lexer": "ipython3",
   "version": "3.9.13"
  }
 },
 "nbformat": 4,
 "nbformat_minor": 5
}
