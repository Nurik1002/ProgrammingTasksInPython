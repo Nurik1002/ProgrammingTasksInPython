{
 "cells": [
  {
   "cell_type": "markdown",
   "id": "621b0870",
   "metadata": {},
   "source": [
    "<h1 align=\"center\"> String </h1> "
   ]
  },
  {
   "cell_type": "code",
   "execution_count": 22,
   "id": "3e54b5dd",
   "metadata": {},
   "outputs": [
    {
     "name": "stdout",
     "output_type": "stream",
     "text": [
      "0-\u0000\t1-\u0001\t2-\u0002\t3-\u0003\t4-\u0004\t5-\u0005\t6-\u0006\t7-\u0007\t8-\b\t9-\t\t10-\n",
      "\t11-\u000b",
      "\t12-\f",
      "\t13-\r",
      "\t14-\u000e\t15-\u000f\t16-\u0010\t17-\u0011\t18-\u0012\t19-\u0013\t20-\u0014\t21-\u0015\t22-\u0016\t23-\u0017\t24-\u0018\t25-\u0019\t26-\u001a\t27-\u001b\t28-\u001c",
      "\t29-\u001d",
      "\t30-\u001e",
      "\t31-\u001f\t32- \t33-!\t34-\"\t35-#\t36-$\t37-%\t38-&\t39-'\t40-(\t41-)\t42-*\t43-+\t44-,\t45--\t46-.\t47-/\t48-0\t49-1\t50-2\t51-3\t52-4\t53-5\t54-6\t55-7\t56-8\t57-9\t58-:\t59-;\t60-<\t61-=\t62->\t63-?\t64-@\t65-A\t66-B\t67-C\t68-D\t69-E\t70-F\t71-G\t72-H\t73-I\t74-J\t75-K\t76-L\t77-M\t78-N\t79-O\t80-P\t81-Q\t82-R\t83-S\t84-T\t85-U\t86-V\t87-W\t88-X\t89-Y\t90-Z\t91-[\t92-\\\t93-]\t94-^\t95-_\t96-`\t97-a\t98-b\t99-c\t100-d\t101-e\t102-f\t103-g\t104-h\t105-i\t106-j\t107-k\t108-l\t109-m\t110-n\t111-o\t112-p\t113-q\t114-r\t115-s\t116-t\t117-u\t118-v\t119-w\t120-x\t121-y\t122-z\t123-{\t124-|\t125-}\t126-~\t127-\t128-\t129-\t130-\t131-\t132-\t133-",
      "\t134-\t135-\t136-\t137-\t138-\t139-\t140-\t141-\t142-\t143-\t144-\t145-\t146-\t147-\t148-\t149-\t150-\t151-\t152-\t153-\t154-\t155-\t156-\t157-\t158-\t159-\t160- \t161-¡\t162-¢\t163-£\t164-¤\t165-¥\t166-¦\t167-§\t168-¨\t169-©\t170-ª\t171-«\t172-¬\t173-­\t174-®\t175-¯\t176-°\t177-±\t178-²\t179-³\t180-´\t181-µ\t182-¶\t183-·\t184-¸\t185-¹\t186-º\t187-»\t188-¼\t189-½\t190-¾\t191-¿\t192-À\t193-Á\t194-Â\t195-Ã\t196-Ä\t197-Å\t198-Æ\t199-Ç\t200-È\t201-É\t202-Ê\t203-Ë\t204-Ì\t205-Í\t206-Î\t207-Ï\t208-Ð\t209-Ñ\t210-Ò\t211-Ó\t212-Ô\t213-Õ\t214-Ö\t215-×\t216-Ø\t217-Ù\t218-Ú\t219-Û\t220-Ü\t221-Ý\t222-Þ\t223-ß\t224-à\t225-á\t226-â\t227-ã\t228-ä\t229-å\t230-æ\t231-ç\t232-è\t233-é\t234-ê\t235-ë\t236-ì\t237-í\t238-î\t239-ï\t240-ð\t241-ñ\t242-ò\t243-ó\t244-ô\t245-õ\t246-ö\t247-÷\t248-ø\t249-ù\t250-ú\t251-û\t252-ü\t253-ý\t254-þ\t255-ÿ\t256-Ā\t"
     ]
    }
   ],
   "source": [
    "for i in range(257):\n",
    "    print(i, chr(i), sep=\"-\", end=\"\\t\")"
   ]
  },
  {
   "cell_type": "code",
   "execution_count": 4,
   "id": "c891d49a",
   "metadata": {},
   "outputs": [
    {
     "name": "stdout",
     "output_type": "stream",
     "text": [
      "a = 1\n",
      "49\n"
     ]
    }
   ],
   "source": [
    "# 1\n",
    "a = input(\"a = \")\n",
    "print(ord(a))"
   ]
  },
  {
   "cell_type": "code",
   "execution_count": 6,
   "id": "25cf8e8e",
   "metadata": {},
   "outputs": [
    {
     "name": "stdout",
     "output_type": "stream",
     "text": [
      "n = 56\n",
      "8\n"
     ]
    }
   ],
   "source": [
    "# 2\n",
    "n = int(input(\"n = \"))\n",
    "print(chr(n))"
   ]
  },
  {
   "cell_type": "code",
   "execution_count": 8,
   "id": "934d59c6",
   "metadata": {},
   "outputs": [
    {
     "name": "stdout",
     "output_type": "stream",
     "text": [
      "a = N\n",
      "78\n",
      "77 : M 79 : O\n"
     ]
    }
   ],
   "source": [
    "# 3\n",
    "a = input(\"a = \")\n",
    "a = ord(a)\n",
    "print(a)\n",
    "print(a-1,\":\",chr(a-1), a+1,\":\",chr(a+1))"
   ]
  },
  {
   "cell_type": "code",
   "execution_count": 31,
   "id": "feb737cd",
   "metadata": {},
   "outputs": [
    {
     "name": "stdout",
     "output_type": "stream",
     "text": [
      "n = 26\n",
      "Z\n"
     ]
    }
   ],
   "source": [
    "# 4\n",
    "n = int(input(\"n = \"))\n",
    "print(chr(64+n))"
   ]
  },
  {
   "cell_type": "code",
   "execution_count": 19,
   "id": "3911bd78",
   "metadata": {},
   "outputs": [
    {
     "name": "stdout",
     "output_type": "stream",
     "text": [
      "z y x w v u t s r q p o n m l k j i h g f e d c b a "
     ]
    }
   ],
   "source": [
    "# 5\n",
    "n = int(input(\"1<=n<=26 son kiriting : \"))\n",
    "\n",
    "while 1<n or n>26:\n",
    "    n = int(input(\"1<=n<=26 son kiriting :\"))\n",
    "    \n",
    "for i in range(ord(\"z\"), ord(\"z\")-n,-1):\n",
    "    print(chr(i), end=\" \")"
   ]
  },
  {
   "cell_type": "code",
   "execution_count": 23,
   "id": "e98bbdbd",
   "metadata": {},
   "outputs": [
    {
     "name": "stdout",
     "output_type": "stream",
     "text": [
      "a = 3\n",
      "Digit\n"
     ]
    }
   ],
   "source": [
    "# 6\n",
    "a = input(\"a = \")\n",
    "if 48 <=  ord(a) <= 57:\n",
    "    print(\"Digit\")\n",
    "elif 65 <= ord(a) <= 90 or 97 <= ord(a) <= 122:\n",
    "    print(\"Lotin\")\n",
    "else:\n",
    "    print(0)"
   ]
  },
  {
   "cell_type": "code",
   "execution_count": 5,
   "id": "fc5e4991",
   "metadata": {},
   "outputs": [
    {
     "name": "stdout",
     "output_type": "stream",
     "text": [
      "a = Nurgeldi Yarashbayev\n",
      "N v\n"
     ]
    }
   ],
   "source": [
    "# 7\n",
    "a = input(\"a = \")\n",
    "print(a[0], a[-1])"
   ]
  },
  {
   "cell_type": "code",
   "execution_count": 25,
   "id": "a289e110",
   "metadata": {},
   "outputs": [
    {
     "name": "stdout",
     "output_type": "stream",
     "text": [
      "n = 10\n",
      "belgi = a\n",
      "aaaaaaaaaa\n"
     ]
    }
   ],
   "source": [
    "# 8\n",
    "n = int(input(\"n = \"))\n",
    "belgi = input(\"belgi = \")\n",
    "satr = belgi*n\n",
    "print(satr)\n",
    "\n"
   ]
  },
  {
   "cell_type": "code",
   "execution_count": null,
   "id": "dd328c17",
   "metadata": {},
   "outputs": [],
   "source": [
    "# 9 \n",
    "a1 = input(\"a1 = \")\n",
    "a2 = input(\"a2 = \")\n",
    "a1 += \" \" + a2\n",
    "print(a1)"
   ]
  },
  {
   "cell_type": "code",
   "execution_count": 9,
   "id": "59e1f404",
   "metadata": {},
   "outputs": [
    {
     "name": "stdout",
     "output_type": "stream",
     "text": [
      "satr = Nurgeldi\n",
      "idlegruN\n"
     ]
    }
   ],
   "source": [
    "# 10\n",
    "satr = input(\"satr = \")\n",
    "satr = satr[::-1]\n",
    "print(satr)"
   ]
  },
  {
   "cell_type": "code",
   "execution_count": 11,
   "id": "728639bb",
   "metadata": {},
   "outputs": [
    {
     "name": "stdout",
     "output_type": "stream",
     "text": [
      "a = NurgeldiYarashbayev\n",
      "N u r g e l d i Y a r a s h b a y e v \n"
     ]
    }
   ],
   "source": [
    "# 11\n",
    "a = input(\"a = \")\n",
    "a1 = \"\"\n",
    "for i in a:\n",
    "    a1 += i + \" \"\n",
    "    \n",
    "print(a1)"
   ]
  },
  {
   "cell_type": "code",
   "execution_count": 31,
   "id": "e554ec00",
   "metadata": {},
   "outputs": [
    {
     "name": "stdout",
     "output_type": "stream",
     "text": [
      "n = 8\n",
      "a = Nurgeldi\n",
      "N*u*r*g*e*l*d*i*\n"
     ]
    }
   ],
   "source": [
    "# 12\n",
    "n = int(input(\"n = \"))\n",
    "a = input(\"a = \")\n",
    "satr = \"\"\n",
    "for i in range(n):\n",
    "    satr += a[i] + \"*\"\n",
    "satr += a[n:]\n",
    "print(satr)"
   ]
  },
  {
   "cell_type": "code",
   "execution_count": 33,
   "id": "034fcb9e",
   "metadata": {},
   "outputs": [
    {
     "name": "stdout",
     "output_type": "stream",
     "text": [
      "a = 1w35453ed\n",
      "6\n"
     ]
    }
   ],
   "source": [
    "#13\n",
    "a = input(\"a = \")\n",
    "j = 0\n",
    "for i in a:\n",
    "    if 48 <=  ord(i) <= 57:\n",
    "        j+=1\n",
    "        \n",
    "print(j)"
   ]
  },
  {
   "cell_type": "code",
   "execution_count": 28,
   "id": "8e78c0e6",
   "metadata": {},
   "outputs": [
    {
     "name": "stdout",
     "output_type": "stream",
     "text": [
      "a = NurgeLDI\n",
      "4\n"
     ]
    }
   ],
   "source": [
    "# 14\n",
    "a = input(\"a = \")\n",
    "j = 0\n",
    "for i in a:\n",
    "    if 65 <= ord(i) <= 90 :\n",
    "        j+=1\n",
    "        \n",
    "print(j)"
   ]
  },
  {
   "cell_type": "code",
   "execution_count": 39,
   "id": "8bc2b1fe",
   "metadata": {},
   "outputs": [
    {
     "name": "stdout",
     "output_type": "stream",
     "text": [
      "a = cghjkjkjjhgавпролорпаЫВАПРОРПАВЧСDFGHGFD\n",
      "21\n"
     ]
    }
   ],
   "source": [
    "# 15\n",
    "a = input(\"a = \")\n",
    "j = 0\n",
    "for i in a:\n",
    "    if 97 <= ord(i) <= 122 or 1072 <= ord(i) <= 1105 :\n",
    "        j+=1\n",
    "        \n",
    "print(j)"
   ]
  },
  {
   "cell_type": "code",
   "execution_count": 48,
   "id": "59b39dfc",
   "metadata": {},
   "outputs": [
    {
     "name": "stdout",
     "output_type": "stream",
     "text": [
      "a = FGHJKJhьпаапроПАСПИ\n",
      "FGHJKJhьпаапроПАСПИ\n"
     ]
    }
   ],
   "source": [
    "# 16\n",
    "a = input(\"a = \")\n",
    "satr = \"\"\n",
    "for i in a:\n",
    "    if i.isupper() and  97 <= ord(i) <= 122:\n",
    "        satr += i.lower()\n",
    "    else:\n",
    "        satr += i\n",
    "print(satr)"
   ]
  },
  {
   "cell_type": "code",
   "execution_count": 49,
   "id": "8fad50da",
   "metadata": {},
   "outputs": [
    {
     "name": "stdout",
     "output_type": "stream",
     "text": [
      "a = HGFGHnbvbn\n",
      "hgfghNBVBN\n"
     ]
    }
   ],
   "source": [
    "# 17\n",
    "a = input(\"a = \")\n",
    "satr = \"\"\n",
    "for i in a:\n",
    "    if i.isupper():\n",
    "        satr += i.lower()\n",
    "    else:\n",
    "        satr += i\n",
    "print(satr)"
   ]
  },
  {
   "cell_type": "code",
   "execution_count": 43,
   "id": "0dfb81ad",
   "metadata": {},
   "outputs": [
    {
     "data": {
      "text/plain": [
       "False"
      ]
     },
     "execution_count": 43,
     "metadata": {},
     "output_type": "execute_result"
    }
   ],
   "source": [
    "# 18\n",
    "a = input(\"a = \")\n",
    "satr = \"\"\n",
    "for i in a:\n",
    "    if i.isupper():\n",
    "        satr += i.lower()\n",
    "    else:\n",
    "        satr += i.upper()\n",
    "print(satr)"
   ]
  },
  {
   "cell_type": "code",
   "execution_count": 17,
   "id": "a134fcc1",
   "metadata": {},
   "outputs": [
    {
     "name": "stdout",
     "output_type": "stream",
     "text": [
      "Satr = --123\n",
      "Oddiy satr\n"
     ]
    }
   ],
   "source": [
    "# 19\n",
    "satr1 = input(\"Satr = \")\n",
    "\n",
    "butun,haqiqiy = False,False\n",
    "\n",
    "x=True\n",
    "for i in satr1:\n",
    "    if x and i==\"-\":\n",
    "        x = False\n",
    "        continue\n",
    "    x = False\n",
    "    \n",
    "    if \"0\" <= i <=\"9\" or i==\".\":\n",
    "        if satr1.count(\".\")==0:\n",
    "            butun = True\n",
    "        if satr1.count(\".\")==1:\n",
    "            haqiqiy = True\n",
    "    else:\n",
    "        butun, haqiqiy = False,False\n",
    "        break\n",
    "        \n",
    "if butun:\n",
    "    print(\"Butun son\")\n",
    "elif haqiqiy:\n",
    "    print(\"Haqiqiy son\")\n",
    "else:\n",
    "    print(\"Oddiy satr\")"
   ]
  },
  {
   "cell_type": "code",
   "execution_count": 19,
   "id": "fcb95d34",
   "metadata": {},
   "outputs": [
    {
     "name": "stdout",
     "output_type": "stream",
     "text": [
      "satr = 12345\n",
      "5 4 3 2 1 "
     ]
    }
   ],
   "source": [
    "# 20\n",
    "satr = input(\"satr = \")\n",
    "for i in range(len(satr)-1,-1,-1):\n",
    "    print(int(satr[i]), end= \" \")"
   ]
  },
  {
   "cell_type": "code",
   "execution_count": 20,
   "id": "1ca2d1f1",
   "metadata": {},
   "outputs": [
    {
     "name": "stdout",
     "output_type": "stream",
     "text": [
      "satr = 23456\n",
      "2 3 4 5 6 "
     ]
    }
   ],
   "source": [
    "# 21\n",
    "satr = input(\"satr = \")\n",
    "for i in satr:\n",
    "    print(i, end=\" \")"
   ]
  },
  {
   "cell_type": "code",
   "execution_count": 6,
   "id": "bc3fe721",
   "metadata": {
    "scrolled": true
   },
   "outputs": [
    {
     "name": "stdout",
     "output_type": "stream",
     "text": [
      "satr = 5-1\n"
     ]
    },
    {
     "ename": "ValueError",
     "evalue": "invalid literal for int() with base 10: '-'",
     "output_type": "error",
     "traceback": [
      "\u001b[1;31m---------------------------------------------------------------------------\u001b[0m",
      "\u001b[1;31mValueError\u001b[0m                                Traceback (most recent call last)",
      "Input \u001b[1;32mIn [6]\u001b[0m, in \u001b[0;36m<cell line: 4>\u001b[1;34m()\u001b[0m\n\u001b[0;32m      3\u001b[0m s \u001b[38;5;241m=\u001b[39m \u001b[38;5;241m0\u001b[39m\n\u001b[0;32m      4\u001b[0m \u001b[38;5;28;01mfor\u001b[39;00m i \u001b[38;5;129;01min\u001b[39;00m satr:\n\u001b[1;32m----> 5\u001b[0m     s \u001b[38;5;241m+\u001b[39m\u001b[38;5;241m=\u001b[39m \u001b[38;5;28;43mint\u001b[39;49m\u001b[43m(\u001b[49m\u001b[43mi\u001b[49m\u001b[43m)\u001b[49m\n\u001b[0;32m      7\u001b[0m \u001b[38;5;28mprint\u001b[39m(s)\n",
      "\u001b[1;31mValueError\u001b[0m: invalid literal for int() with base 10: '-'"
     ]
    }
   ],
   "source": [
    "# 22\n",
    "satr = input(\"satr = \")\n",
    "s = 0\n",
    "for i in satr:\n",
    "    s += int(i)\n",
    "    \n",
    "print(s)"
   ]
  },
  {
   "cell_type": "code",
   "execution_count": 9,
   "id": "ddf40b5d",
   "metadata": {},
   "outputs": [
    {
     "name": "stdout",
     "output_type": "stream",
     "text": [
      "satr = 1+2-3\n",
      "0\n"
     ]
    }
   ],
   "source": [
    "# 23\n",
    "satr = input(\"satr = \")\n",
    "s = int(satr[0])\n",
    "for i in range(1,len(satr),2):\n",
    "    s += int(satr[i:i+2])\n",
    "    \n",
    "    \n",
    "print(s) "
   ]
  },
  {
   "cell_type": "code",
   "execution_count": 29,
   "id": "0edac872",
   "metadata": {},
   "outputs": [
    {
     "name": "stdout",
     "output_type": "stream",
     "text": [
      "2 lik sanoq sistemada : 11\n",
      "3\n"
     ]
    }
   ],
   "source": [
    "# 24\n",
    "satr = input(\"2 lik sanoq sistemada : \")\n",
    "while satr.count(\"1\") + satr.count(\"0\") < len(satr):\n",
    "    print(\"Kiritilgan satr 2 lik sanoq sistemasida emas!\")\n",
    "    satr = input(\"satr = \")\n",
    "s = 0\n",
    "for i in range(len(satr)):\n",
    "    s += int(satr[i]) * 2**(len(satr) - 1 - i)\n",
    "s = str(s)\n",
    "print(s)\n"
   ]
  },
  {
   "cell_type": "code",
   "execution_count": 32,
   "id": "43c933f5",
   "metadata": {},
   "outputs": [
    {
     "name": "stdout",
     "output_type": "stream",
     "text": [
      "10 lik sanoq sistemada : 17\n",
      "10001\n"
     ]
    }
   ],
   "source": [
    "# 25\n",
    "satr = input(\"10 lik sanoq sistemada : \")\n",
    "while not satr.isdigit():\n",
    "    print(\"Kiritilgan satr 10 lik sanoq  sistemasida emas!\")\n",
    "    satr = input(\"10 lik sanoq sistemada : \")\n",
    " \n",
    "x = len(satr)\n",
    "satr = int(satr); son = 0;\n",
    "i = 0\n",
    "while satr > 0:    \n",
    "    satr,b=divmod(satr,2)\n",
    "    son = son + b * 10**i\n",
    "    i += 1\n",
    "\n",
    "son = str(son)    \n",
    "print(son)"
   ]
  },
  {
   "cell_type": "code",
   "execution_count": 38,
   "id": "f7b10b66",
   "metadata": {},
   "outputs": [
    {
     "name": "stdout",
     "output_type": "stream",
     "text": [
      "n = 8\n",
      "satr = Nurik\n",
      "...Nurik\n"
     ]
    }
   ],
   "source": [
    "# 26\n",
    "n = int(input(\"n = \"))\n",
    "satr = input(\"satr = \")\n",
    "if len(satr) > n:\n",
    "    satr = satr[len(satr)-n:]\n",
    "elif len(satr) < n:\n",
    "    a = ''\n",
    "    for i in range(n-len(satr)):\n",
    "        a += '.'\n",
    "        \n",
    "    satr = a + satr\n",
    "    \n",
    "print(satr)"
   ]
  },
  {
   "cell_type": "code",
   "execution_count": 45,
   "id": "bf51cc3c",
   "metadata": {},
   "outputs": [
    {
     "name": "stdout",
     "output_type": "stream",
     "text": [
      "n1 n2 5 3\n",
      "s1 : Zafar\n",
      "s2 : Oybek\n",
      "Zafarbek\n"
     ]
    }
   ],
   "source": [
    "# 27\n",
    "n1,n2 = map(int, input(\"n1 n2 \").split())\n",
    "s1 = input(\"s1 : \")\n",
    "s2 = input(\"s2 : \")\n",
    "\n",
    "new_s = s1[0:n1] + s2[len(s2)-n2:]\n",
    "print(new_s)"
   ]
  },
  {
   "cell_type": "code",
   "execution_count": 59,
   "id": "377beae7",
   "metadata": {},
   "outputs": [
    {
     "name": "stdout",
     "output_type": "stream",
     "text": [
      "c = c\n",
      "s = abcbbncioc\n",
      "abbbnioc\n"
     ]
    }
   ],
   "source": [
    "# 28\n",
    "c = input(\"c = \")\n",
    "s = input(\"s = \")\n",
    "s1 = 0\n",
    "for i in range(len(s)):\n",
    "    if s[i] == c:\n",
    "        s = s[0:i:1] + s[i+1:]\n",
    "        s1 += 1\n",
    "    if s1 == 2:\n",
    "        break\n",
    "        \n",
    "print(s)\n"
   ]
  },
  {
   "cell_type": "code",
   "execution_count": 62,
   "id": "82c62c0e",
   "metadata": {
    "scrolled": true
   },
   "outputs": [
    {
     "name": "stdout",
     "output_type": "stream",
     "text": [
      "c = a\n",
      "s1 = bca\n",
      "s2 = ***\n",
      "bc***a\n"
     ]
    }
   ],
   "source": [
    "# 29\n",
    "c = input(\"c = \")\n",
    "s1 = input(\"s1 = \")\n",
    "s2 = input(\"s2 = \")\n",
    "i = 0\n",
    "while i < len(s1):\n",
    "    if s1[i] == c:\n",
    "        s1 = s1[0:i] + s2 +s1[i:]\n",
    "        i += len(s2)\n",
    "    i += 1\n",
    "    \n",
    "print(s1)"
   ]
  },
  {
   "cell_type": "code",
   "execution_count": null,
   "id": "b06f53b9",
   "metadata": {},
   "outputs": [],
   "source": [
    "# 30\n",
    "c = input(\"c = \")\n",
    "s1 = input(\"c1 = \")\n",
    "s2 = input(\"s2 = \")\n",
    "s1 =replace(c,c+s2)\n",
    "print(s1)"
   ]
  },
  {
   "cell_type": "code",
   "execution_count": 1,
   "id": "c7abf1cf",
   "metadata": {},
   "outputs": [
    {
     "name": "stdout",
     "output_type": "stream",
     "text": [
      "s1 = Nurgeldi Yarashbayev\n",
      "s2 = Nurgeldi\n",
      "True\n"
     ]
    }
   ],
   "source": [
    "# 31\n",
    "s1 = input(\"s1 = \")\n",
    "s2 = input(\"s2 = \")\n",
    "print(s2 in s1)"
   ]
  },
  {
   "cell_type": "code",
   "execution_count": 2,
   "id": "3e3e5b80",
   "metadata": {},
   "outputs": [
    {
     "name": "stdout",
     "output_type": "stream",
     "text": [
      "s1 = Alisher Navoiy 1441-yil 9-fevralda Amir Temurning oʻgli Shohruh Mirzo shohligi davrida Hirotda tugʻildi. Zamondoshlari uning haqida koʻpincha „Nizomiddin Mir Alisher“ deb yozadilar. 'Nizomiddin\"-din--diyonat nizomi degani boʻlib, donishmand mansab egalariga beriladigan sifat, „mir“ — amir demakdir. Uning otasi Gʻiyosiddin Muhammad (uni Gʻiyosiddin Kichkina ham der edilar) temuriylar saroyining amaldorlaridan, xonadonning ishonchli kishilaridan edi. Onasi amirzoda Shayh Abusaid Changning qizi boʻlgan, ismi maʼlum emas. Alisherning bobosi Temurning oʻgʻli Umarshayx bilan emikdosh (koʻkaldosh) boʻlgan ekan.\n",
      "s2 = Alisher\n",
      "3\n"
     ]
    }
   ],
   "source": [
    "# 32\n",
    "s1 = input(\"s1 = \")\n",
    "s2 = input(\"s2 = \")\n",
    "\n",
    "print(s1.count(s2))"
   ]
  },
  {
   "cell_type": "code",
   "execution_count": 1,
   "id": "4fbd6139",
   "metadata": {},
   "outputs": [
    {
     "name": "stdout",
     "output_type": "stream",
     "text": [
      "s1 = Nurgeldi Yarashbayev\n",
      "s2 = Nurgeldi\n",
      " Yarashbayev\n"
     ]
    }
   ],
   "source": [
    "# 33\n",
    "s1 = input(\"s1 = \")\n",
    "s2 = input(\"s2 = \")\n",
    "s1 = s1.replace(s2, \"\", 1)\n",
    "print(s1)"
   ]
  },
  {
   "cell_type": "code",
   "execution_count": 4,
   "id": "300a7027",
   "metadata": {},
   "outputs": [
    {
     "name": "stdout",
     "output_type": "stream",
     "text": [
      "s1 = Nurgeldi Yarashabayev Nurgeldii\n",
      "s2 = Nurgeldi\n",
      "Nurgeldi Yarashabayev i\n"
     ]
    }
   ],
   "source": [
    "# 34\n",
    "s1 = input(\"s1 = \")\n",
    "s2 = input(\"s2 = \")\n",
    "s1 = s1[::-1].replace(s2[::-1],\"\",1)[::-1]\n",
    "\n",
    "print(s1)"
   ]
  },
  {
   "cell_type": "code",
   "execution_count": 6,
   "id": "337e634d",
   "metadata": {},
   "outputs": [
    {
     "name": "stdout",
     "output_type": "stream",
     "text": [
      "s1 = Nurgeldi Yarashbayev Nurgeldi\n",
      "s2 = Nurgeldi\n",
      " Yarashbayev \n"
     ]
    }
   ],
   "source": [
    "# 35\n",
    "s1 = input(\"s1 = \")\n",
    "s2 = input(\"s2 = \")\n",
    "s1 = s1.replace(s2,\"\")\n",
    "print(s1)"
   ]
  },
  {
   "cell_type": "code",
   "execution_count": 6,
   "id": "d2c25701",
   "metadata": {},
   "outputs": [
    {
     "name": "stdout",
     "output_type": "stream",
     "text": [
      "s1 = salom bugun havo issiq\n",
      "s2 = havo\n",
      "s3 = juda\n",
      "salom bugun juda issiq\n"
     ]
    }
   ],
   "source": [
    "# 36\n",
    "s1 = input(\"s1 = \")\n",
    "s2 = input(\"s2 = \")\n",
    "s3 = input(\"s3 = \")\n",
    "s1 = s1.replace(s2,s3,1)\n",
    "print(s1)"
   ]
  },
  {
   "cell_type": "code",
   "execution_count": 10,
   "id": "0dc14e28",
   "metadata": {},
   "outputs": [
    {
     "name": "stdout",
     "output_type": "stream",
     "text": [
      "s1 = Nurgeldi Yarashbayav Nurgeldi\n",
      "s2 = Nurgeldi\n",
      "s3 = Amangeldi Ogli\n",
      "Nurgeldi Yarashbayav Amangeldi Ogli\n"
     ]
    }
   ],
   "source": [
    "# 37\n",
    "s1 = input(\"s1 = \")\n",
    "s2 = input(\"s2 = \")\n",
    "s3 = input(\"s3 = \")\n",
    "s1 = s1[::-1].replace(s2[::-1],s3[::-1],1)[::-1]\n",
    "print(s1)"
   ]
  },
  {
   "cell_type": "code",
   "execution_count": 11,
   "id": "73ce3ad2",
   "metadata": {},
   "outputs": [
    {
     "name": "stdout",
     "output_type": "stream",
     "text": [
      "s1 = Salom Salom Salom Salom helloo helloo helloo Salom\n",
      "s2 = Salom\n",
      "s3 = helloo\n",
      "helloo helloo helloo helloo helloo helloo helloo helloo\n"
     ]
    }
   ],
   "source": [
    "# 38\n",
    "s1 = input(\"s1 = \")\n",
    "s2 = input(\"s2 = \")\n",
    "s3 = input(\"s3 = \")\n",
    "s1 = s1.replace(s2,s3)\n",
    "print(s1)"
   ]
  },
  {
   "cell_type": "code",
   "execution_count": 15,
   "id": "ac487e97",
   "metadata": {},
   "outputs": [
    {
     "name": "stdout",
     "output_type": "stream",
     "text": [
      "satr = Nurgeldi Yarashbayav Nurgeldi\n",
      "Nurgeldi Yarashbayav Nurgeldi\n"
     ]
    }
   ],
   "source": [
    "# 39\n",
    "satr = input(\"satr = \")\n",
    "if len(satr)==2:\n",
    "    print(\"Bo'sh satr\")\n",
    "elif len(satr)>2:\n",
    "    print(satr)"
   ]
  },
  {
   "cell_type": "code",
   "execution_count": 20,
   "id": "75b71b7c",
   "metadata": {},
   "outputs": [
    {
     "name": "stdout",
     "output_type": "stream",
     "text": [
      "satr = kwhpfjk eqrpiugh qpeiurhgv er flqwarg foqiwgrqwer]]\n",
      "eqrpiugh\n",
      "qpeiurhgv\n",
      "er\n",
      "flqwarg\n",
      "foqiwgrqwer]]\n"
     ]
    }
   ],
   "source": [
    "# 40\n",
    "satr = input(\"satr = \")\n",
    "if len(satr)==2:\n",
    "    print(\"Bo'sh satr\")\n",
    "elif len(satr) > 2:\n",
    "    satr_list = satr.split()\n",
    "    for i in range(1,len(satr_list)):\n",
    "        print(satr_list[i])\n",
    "    "
   ]
  },
  {
   "cell_type": "code",
   "execution_count": 7,
   "id": "cf6aab53",
   "metadata": {},
   "outputs": [
    {
     "name": "stdout",
     "output_type": "stream",
     "text": [
      "fghjhg jhgfhj\n",
      "1\n"
     ]
    }
   ],
   "source": [
    "# 41 \n",
    "satr = input()\n",
    "satr = satr.strip()\n",
    "print(satr.count(\" \")+1)"
   ]
  },
  {
   "cell_type": "code",
   "execution_count": 14,
   "id": "bf51c3ef",
   "metadata": {},
   "outputs": [
    {
     "name": "stdout",
     "output_type": "stream",
     "text": [
      "fghjhgf ghjhgfdghjhg fdfgh\n",
      "12\n"
     ]
    }
   ],
   "source": [
    "# 46\n",
    "satr = input()\n",
    "maxi = len(satr[0])\n",
    "s_list = [len(i) for i in satr.split()]        \n",
    "print(max(s_list))"
   ]
  },
  {
   "cell_type": "code",
   "execution_count": 1,
   "id": "d962cea7",
   "metadata": {},
   "outputs": [
    {
     "name": "stdout",
     "output_type": "stream",
     "text": [
      "satr = Nuregldi Yarashbayev\n",
      "Yarashbayev Nuregldi "
     ]
    }
   ],
   "source": [
    "# 50\n",
    "satr = input(\"satr = \")\n",
    "satr_list = satr.split()\n",
    "satr_list.reverse()\n",
    "for i in satr_list:\n",
    "    print(i, end=\" \")"
   ]
  },
  {
   "cell_type": "code",
   "execution_count": 2,
   "id": "0201ed25",
   "metadata": {},
   "outputs": [
    {
     "name": "stdout",
     "output_type": "stream",
     "text": [
      "satr = Nurgeldi Yarashbayev Amangeldi ogli\n",
      "Amangeldi Nurgeldi Yarashbayev ogli\n"
     ]
    }
   ],
   "source": [
    "# 51\n",
    "satr = input(\"satr = \")\n",
    "satr_list = satr.split()\n",
    "satr_list =sorted(satr_list)\n",
    "satr = \" \".join(satr_list)\n",
    "print(satr)\n"
   ]
  },
  {
   "cell_type": "code",
   "execution_count": 4,
   "id": "2f0d1fe1",
   "metadata": {},
   "outputs": [
    {
     "name": "stdout",
     "output_type": "stream",
     "text": [
      "satr = men va san o'zbekistonda yashaymiz\n",
      "Men Va San O'zbekistonda Yashaymiz\n"
     ]
    }
   ],
   "source": [
    "# 52\n",
    "satr = input(\"satr = \")\n",
    "satr_list = satr.split()\n",
    "for i in range(len(satr_list)):\n",
    "    satr_list[i] = satr_list[i].capitalize()\n",
    "satr = \" \".join(satr_list)\n",
    "print(satr)"
   ]
  },
  {
   "cell_type": "code",
   "execution_count": 10,
   "id": "c899ff7b",
   "metadata": {},
   "outputs": [
    {
     "name": "stdout",
     "output_type": "stream",
     "text": [
      "satr = bvlsgva'rgvb;earn[awbfn;\n",
      "4\n"
     ]
    }
   ],
   "source": [
    "# 53\n",
    "import string\n",
    "satr = input(\"satr = \")\n",
    "s = 0\n",
    "for i in satr:\n",
    "    if i in string.punctuation:\n",
    "        s+=1\n",
    "print(s)"
   ]
  },
  {
   "cell_type": "code",
   "execution_count": 15,
   "id": "a48e74f2",
   "metadata": {},
   "outputs": [
    {
     "name": "stdout",
     "output_type": "stream",
     "text": [
      "satr = Nurgeldi\n",
      "N\n",
      "1\n"
     ]
    }
   ],
   "source": [
    "# 54\n",
    "satr = input(\"satr = \")\n",
    "s = 0\n",
    "for i in satr:\n",
    "    if i.isupper():\n",
    "        print(i)\n",
    "        s+=1\n",
    "print(s)"
   ]
  },
  {
   "cell_type": "code",
   "execution_count": 16,
   "id": "0d66733f",
   "metadata": {},
   "outputs": [
    {
     "name": "stdout",
     "output_type": "stream",
     "text": [
      "satr = Nurgeldi  Yarashbayev Amangeldi ogli\n",
      "Yarashbayev\n"
     ]
    }
   ],
   "source": [
    "# 55\n",
    "satr = input(\"satr = \")\n",
    "satr = satr.split()\n",
    "satr = sorted(satr, key= lambda x: len(x), reverse=True)\n",
    "print(satr[0])"
   ]
  },
  {
   "cell_type": "code",
   "execution_count": 17,
   "id": "2a861e44",
   "metadata": {},
   "outputs": [
    {
     "name": "stdout",
     "output_type": "stream",
     "text": [
      "satr = Nurgeldi Yarashbayev Amangeldi ogli\n",
      "ogli\n"
     ]
    }
   ],
   "source": [
    "# 56\n",
    "satr = input(\"satr = \")\n",
    "satr = satr.split()\n",
    "satr = sorted(satr, key= lambda x: len(x))\n",
    "print(satr[0])"
   ]
  },
  {
   "cell_type": "code",
   "execution_count": 19,
   "id": "a2690185",
   "metadata": {},
   "outputs": [
    {
     "name": "stdout",
     "output_type": "stream",
     "text": [
      "satr = Nurgeldi            Yarashbayev      Amangeldi           ogli\n",
      "Nurgeldi Yarashbayev Amangeldi ogli\n"
     ]
    }
   ],
   "source": [
    "# 57\n",
    "satr = input(\"satr = \")\n",
    "satr = \" \".join(satr.split())\n",
    "print(satr)"
   ]
  },
  {
   "cell_type": "code",
   "execution_count": 24,
   "id": "cfb95e79",
   "metadata": {},
   "outputs": [
    {
     "name": "stdout",
     "output_type": "stream",
     "text": [
      "path = C:\\Users\\nyara\\Desktop\\My Doc\\main.cpp\n",
      "main\n"
     ]
    }
   ],
   "source": [
    "# 58\n",
    "path = input(\"path = \")\n",
    "path = path.split(\"\\\\\")\n",
    "name = path[-1].split(\".\")\n",
    "name = key[0]\n",
    "print(\"name : \", name )"
   ]
  },
  {
   "cell_type": "code",
   "execution_count": 27,
   "id": "71ac9a85",
   "metadata": {},
   "outputs": [
    {
     "name": "stdout",
     "output_type": "stream",
     "text": [
      "path = C:\\Users\\nyara\\Desktop\\My Doc\\main.cpp\n",
      "name :  cpp\n"
     ]
    }
   ],
   "source": [
    "# 59\n",
    "path = input(\"path = \")\n",
    "path = path.split(\"\\\\\")\n",
    "name = path[-1].split(\".\")\n",
    "name = name[1]\n",
    "print(\"name : \", name )"
   ]
  },
  {
   "cell_type": "code",
   "execution_count": 28,
   "id": "f0dabb41",
   "metadata": {},
   "outputs": [
    {
     "name": "stdout",
     "output_type": "stream",
     "text": [
      "path = C:\\Users\\nyara\\Desktop\\My Doc\\main.cpp\n",
      "folder :  Users\n"
     ]
    }
   ],
   "source": [
    "# 60\n",
    "path = input(\"path = \")\n",
    "path = path.split(\"\\\\\")\n",
    "print(\"folder : \", path[1] )"
   ]
  },
  {
   "cell_type": "code",
   "execution_count": 29,
   "id": "f1e2383c",
   "metadata": {},
   "outputs": [
    {
     "name": "stdout",
     "output_type": "stream",
     "text": [
      "path = C:\\Users\\nyara\\Desktop\\My Doc\\main.cpp\n",
      "folder :  My Doc\n"
     ]
    }
   ],
   "source": [
    "# 61\n",
    "path = input(\"path = \")\n",
    "path = path.split(\"\\\\\")\n",
    "print(\"folder : \", path[-2] )"
   ]
  },
  {
   "cell_type": "code",
   "execution_count": 59,
   "id": "2ec88a69",
   "metadata": {},
   "outputs": [
    {
     "name": "stdout",
     "output_type": "stream",
     "text": [
      "satr = Nurgeldi\n",
      "Ovshfmej\n"
     ]
    }
   ],
   "source": [
    "# 62\n",
    "satr = input(\"satr = \")\n",
    "kod = \"\"\n",
    "for i in range(len(satr)):\n",
    "    if satr[i].isalpha():\n",
    "        if satr[i].islower():\n",
    "            if ord(satr[i])==122:\n",
    "                kod += chr(97)\n",
    "            else:\n",
    "                kod += chr(ord(satr[i])+1)\n",
    "        elif satr[i].isupper():\n",
    "            if ord(satr[i])==90:\n",
    "                kod += chr(65)\n",
    "            else:\n",
    "                kod += chr(ord(satr[i])+1)\n",
    "    else:\n",
    "        kod+=satr[i]\n",
    "print(kod)\n"
   ]
  },
  {
   "cell_type": "code",
   "execution_count": 3,
   "id": "b3a3e625",
   "metadata": {},
   "outputs": [
    {
     "name": "stdout",
     "output_type": "stream",
     "text": [
      "k = 2\n",
      "satr = Pwtignfk\n",
      "Ryvkiphm\n"
     ]
    }
   ],
   "source": [
    "# 63\n",
    "k = int(input(\"k = \"))\n",
    "while 1>k or k>10:\n",
    "    k = int(input(\"k = \"))\n",
    "satr = input(\"satr = \")\n",
    "kod = \"\"\n",
    "for i in range(len(satr)):\n",
    "    if satr[i].isalpha():\n",
    "        if satr[i].islower():\n",
    "            if ord(satr[i])==122:\n",
    "                kod += chr(97+k)\n",
    "            else:\n",
    "                kod += chr(ord(satr[i])+k)\n",
    "        elif satr[i].isupper():\n",
    "            if ord(satr[i])==90:\n",
    "                kod += chr(65+k)\n",
    "            else:\n",
    "                kod += chr(ord(satr[i])+k)\n",
    "    else:\n",
    "        kod+=satr[i]\n",
    "print(kod)"
   ]
  },
  {
   "cell_type": "code",
   "execution_count": 4,
   "id": "b3b87fc4",
   "metadata": {},
   "outputs": [
    {
     "name": "stdout",
     "output_type": "stream",
     "text": [
      "k = 2\n",
      "satr = Pwtignfk\n",
      "Nurgeldi\n"
     ]
    }
   ],
   "source": [
    "# 64\n",
    "k = int(input(\"k = \"))\n",
    "while 1>k or k>10:\n",
    "    k = int(input(\"k = \"))\n",
    "sart = input(\"satr = \")\n",
    "kod = \"\"\n",
    "for i in range(len(satr)):\n",
    "    if satr[i].isalpha():\n",
    "        if satr[i].islower():\n",
    "            if ord(satr[i])==97:\n",
    "                kod += chr(122-k)\n",
    "            else:\n",
    "                kod += chr(ord(satr[i])-k)\n",
    "                \n",
    "        elif satr[i].isupper():\n",
    "            if ord(satr[i]) == 65:\n",
    "                kod += chr(ord(satr[i])-k)\n",
    "            else:\n",
    "                kod += chr(ord(satr[i])-k)\n",
    "                \n",
    "    else:\n",
    "        kod+=satr[i]\n",
    "print(kod)"
   ]
  },
  {
   "cell_type": "code",
   "execution_count": 6,
   "id": "d34857a2",
   "metadata": {},
   "outputs": [
    {
     "name": "stdout",
     "output_type": "stream",
     "text": [
      "kodli satr = Pwtignfk\n",
      "birinchi belgi = N\n",
      "Nurgeldi\n"
     ]
    }
   ],
   "source": [
    "# 65\n",
    "satr = input(\"kodli satr = \")\n",
    "belgi = input(\"birinchi belgi = \")\n",
    "k = ord(satr[0])-ord(belgi)\n",
    "kod = \"\"\n",
    "for i in range(len(satr)):\n",
    "    if satr[i].isalpha():\n",
    "        if satr[i].islower():\n",
    "            if ord(satr[i])==97:\n",
    "                kod += chr(122-k)\n",
    "            else:\n",
    "                kod += chr(ord(satr[i])-k)\n",
    "                \n",
    "        elif satr[i].isupper():\n",
    "            if ord(satr[i]) == 65:\n",
    "                kod += chr(ord(satr[i])-k)\n",
    "            else:\n",
    "                kod += chr(ord(satr[i])-k)\n",
    "                \n",
    "    else:\n",
    "        kod+=satr[i]\n",
    "print(kod)"
   ]
  },
  {
   "cell_type": "code",
   "execution_count": 10,
   "id": "9ace1b0a",
   "metadata": {},
   "outputs": [
    {
     "name": "stdout",
     "output_type": "stream",
     "text": [
      "satr = Programma\n",
      "Pormamagr\n"
     ]
    }
   ],
   "source": [
    "# 66\n",
    "satr = input(\"satr = \")\n",
    "kod = \"\"\n",
    "for i in range(0,len(satr),2 ):\n",
    "    kod += satr[i]\n",
    "for i in range(len(satr)-2,-1,-2):\n",
    "    kod += satr[i]\n",
    "print(kod)"
   ]
  },
  {
   "cell_type": "code",
   "execution_count": 12,
   "id": "62c7f35f",
   "metadata": {
    "scrolled": true
   },
   "outputs": [
    {
     "name": "stdout",
     "output_type": "stream",
     "text": [
      "kodlangan satr = Pormamagr\n",
      "Programma\n"
     ]
    }
   ],
   "source": [
    "# 67\n",
    "satr = input(\"kodlangan satr = \")\n",
    "antikod = \"\"\n",
    "for i in range(len(satr)//2):\n",
    "    antikod += satr[i]+satr[len(satr)-1-i]\n",
    "antikod += satr[len(satr)//2]\n",
    "print(antikod)"
   ]
  },
  {
   "cell_type": "code",
   "execution_count": 4,
   "id": "6bc3617b",
   "metadata": {},
   "outputs": [
    {
     "name": "stdout",
     "output_type": "stream",
     "text": [
      "satr = 12abaz\n",
      "4\n"
     ]
    }
   ],
   "source": [
    "# 68\n",
    "satr = input(\"satr = \")\n",
    "ind1 = -1; ind2 = -1; s = 0\n",
    "for i in range(1,len(satr)):\n",
    "    if satr[i-1].isalpha():\n",
    "        ind1 = i-1\n",
    "    if satr[i].isalpha():\n",
    "        ind2 = i\n",
    "    if ind1!=-1 and ind2 != -1  and ord(satr[ind1])>ord(satr[ind2]):\n",
    "        s = i \n",
    "        break\n",
    "print(s)        "
   ]
  },
  {
   "cell_type": "code",
   "execution_count": 5,
   "id": "30bb25b5",
   "metadata": {},
   "outputs": [],
   "source": [
    "# 69"
   ]
  },
  {
   "cell_type": "code",
   "execution_count": null,
   "id": "d7841aaf",
   "metadata": {},
   "outputs": [],
   "source": [
    "# 70"
   ]
  }
 ],
 "metadata": {
  "kernelspec": {
   "display_name": "Python 3 (ipykernel)",
   "language": "python",
   "name": "python3"
  },
  "language_info": {
   "codemirror_mode": {
    "name": "ipython",
    "version": 3
   },
   "file_extension": ".py",
   "mimetype": "text/x-python",
   "name": "python",
   "nbconvert_exporter": "python",
   "pygments_lexer": "ipython3",
   "version": "3.9.12"
  }
 },
 "nbformat": 4,
 "nbformat_minor": 5
}
