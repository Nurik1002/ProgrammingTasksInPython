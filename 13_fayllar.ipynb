{
 "cells": [
  {
   "cell_type": "markdown",
   "id": "a95f6ece",
   "metadata": {},
   "source": [
    "<h1 align=\"center\">Fayllar</h1>"
   ]
  },
  {
   "cell_type": "code",
   "execution_count": 11,
   "id": "a498f006",
   "metadata": {},
   "outputs": [
    {
     "name": "stdout",
     "output_type": "stream",
     "text": [
      "k = 5\n",
      "n = 5\n"
     ]
    }
   ],
   "source": [
    "# 1\n",
    "k = int(input(\"k = \"))\n",
    "n = int(input(\"n = \"))\n",
    "file = open(\"files/text1.txt\", \"w\")\n",
    "for i in range(n):\n",
    "    file.writelines(f\"{'*'*k}\\n\")\n",
    "    \n",
    "file.close()"
   ]
  },
  {
   "cell_type": "code",
   "execution_count": 26,
   "id": "078184e3",
   "metadata": {},
   "outputs": [
    {
     "name": "stdout",
     "output_type": "stream",
     "text": [
      "n = 4\n"
     ]
    }
   ],
   "source": [
    "# 2\n",
    "n = int(input(\"n = \"))\n",
    "while not 1<=n<=27:\n",
    "    n = int(input(\"n = \"))\n",
    "    \n",
    "file = open(\"files/text2.txt\", \"w\")\n",
    "for i in range(97,n+96+1):\n",
    "    for j in range(97, i+1):\n",
    "        file.write(chr(j))\n",
    "    file.write(\"\\n\")\n",
    "    \n",
    "file.close()\n",
    "    \n"
   ]
  },
  {
   "cell_type": "code",
   "execution_count": 1,
   "id": "dfd44522",
   "metadata": {},
   "outputs": [
    {
     "name": "stdout",
     "output_type": "stream",
     "text": [
      "n = 5\n"
     ]
    }
   ],
   "source": [
    "# 3\n",
    "n = int(input(\"n = \"))\n",
    "while not 1<=n<=27:\n",
    "    n = int(input(\"n = \"))\n",
    "\n",
    "f = open(\"files/text3.txt\",\"w\")\n",
    "S = \"\"\n",
    "\n",
    "for i in range(n):\n",
    "    S += chr(65+i)   # ABCDE\n",
    "    f.write(f\"{S+'*'*(n-i-1)}\\n\")\n",
    "    \n",
    "f.close()"
   ]
  },
  {
   "cell_type": "code",
   "execution_count": 52,
   "id": "58e95557",
   "metadata": {},
   "outputs": [
    {
     "name": "stdout",
     "output_type": "stream",
     "text": [
      "satr = Nurgeldi Yarashbayev Oybek Shamuratov\n",
      "37\n"
     ]
    }
   ],
   "source": [
    "# 4\n",
    "file = open(\"files/text4.txt\", \"w\")\n",
    "satr = input(\"satr = \")\n",
    "file.write(satr)\n",
    "file.close()\n",
    "file = open(\"files/text4.txt\", \"r\")\n",
    "soni = len(file.readline())\n",
    "print(soni)"
   ]
  },
  {
   "cell_type": "code",
   "execution_count": 53,
   "id": "01dfa96d",
   "metadata": {},
   "outputs": [
    {
     "name": "stdout",
     "output_type": "stream",
     "text": [
      "Fayldagi matn =  Nurgeldi Yarashbayev\n",
      "s satr = Oybek Shamuratov\n"
     ]
    }
   ],
   "source": [
    "# 5\n",
    "file = open(\"files/text5.txt\", \"x\")\n",
    "file.write(input(\"Fayldagi matn =  \"))\n",
    "file.close()\n",
    "file = open(\"files/text5.txt\", \"a\")\n",
    "file.write(input(\"s satr = \"))\n",
    "file.close()\n",
    "\n",
    "\n"
   ]
  },
  {
   "cell_type": "code",
   "execution_count": 54,
   "id": "396b58b5",
   "metadata": {},
   "outputs": [
    {
     "name": "stdout",
     "output_type": "stream",
     "text": [
      "1 chi fayldagi matn = Nurgeldi Yarashbayev \n",
      "2 chi fayldagi matn = Oybek Shamuratov\n"
     ]
    }
   ],
   "source": [
    "# 6 \n",
    "file = open(\"files/text6_1.txt\", \"x\")\n",
    "file_2 = open(\"files/text6_2.txt\", \"x\")\n",
    "file.write(input(\"1 chi fayldagi matn = \"))\n",
    "file_2.write(input(\"2 chi fayldagi matn = \"))\n",
    "file.close(); file_2.close()\n",
    "file = open(\"files/text6_1.txt\", \"a\")\n",
    "file_2 = open(\"files/text6_2.txt\", \"r\")\n",
    "file.write(file_2.read())\n",
    "file.close(); file_2.close()"
   ]
  },
  {
   "cell_type": "code",
   "execution_count": 2,
   "id": "dc2bcbbf",
   "metadata": {},
   "outputs": [
    {
     "name": "stdout",
     "output_type": "stream",
     "text": [
      "Faylga qo'shishga satr : Familiyam Yarashbayev\n"
     ]
    }
   ],
   "source": [
    "# 7 \n",
    "file = open(\"files/text7.txt\", \"a\")\n",
    "s = input(\"Faylga qo'shishga satr : \")\n",
    "file.write(\" \")\n",
    "file.write(s)\n",
    "file.close()\n"
   ]
  },
  {
   "cell_type": "code",
   "execution_count": 18,
   "id": "14ea747b",
   "metadata": {},
   "outputs": [
    {
     "name": "stdout",
     "output_type": "stream",
     "text": [
      "Bugun 31 chi may. Bugun havo juda issiq.\n"
     ]
    }
   ],
   "source": [
    "# 8\n",
    "file1 = open(\"files/file8_1.txt\", \"r+\")\n",
    "file2 = open(\"files/file8_2.txt\", \"r\")\n",
    "s = f\"{file2.read()} {file1.read()}\"\n",
    "print(s)\n",
    "file1 = open(\"files/file8_1.txt\", \"w\")\n",
    "file1.write(s)\n",
    "file1.close()\n",
    "file2.close()"
   ]
  },
  {
   "cell_type": "code",
   "execution_count": 32,
   "id": "698998b5",
   "metadata": {},
   "outputs": [
    {
     "name": "stdout",
     "output_type": "stream",
     "text": [
      "k = 4\n"
     ]
    }
   ],
   "source": [
    "# 9\n",
    "k = int(input(\"k = \"))\n",
    "file = open(\"files/file9.txt\", \"r\")\n",
    "s = file.readlines()\n",
    "file.close()\n",
    "if len(s)>=k:\n",
    "    s.insert(k-1, \"\\n\")\n",
    "    \n",
    "file = open(\"files/file9.txt\", \"w\")\n",
    "file.writelines(s)\n",
    "file.close()"
   ]
  },
  {
   "cell_type": "code",
   "execution_count": 35,
   "id": "95a83705",
   "metadata": {},
   "outputs": [
    {
     "name": "stdout",
     "output_type": "stream",
     "text": [
      "k = 4\n"
     ]
    }
   ],
   "source": [
    "# 10\n",
    "k = int(input(\"k = \"))\n",
    "file = open(\"files/file10.txt\", \"r\")\n",
    "s = file.readlines()\n",
    "file.close()\n",
    "if len(s)>=k:\n",
    "    s.insert(k, \"\\n\")\n",
    "    \n",
    "file = open(\"files/file10.txt\", \"w\")\n",
    "file.writelines(s)\n",
    "file.close()"
   ]
  },
  {
   "cell_type": "code",
   "execution_count": 49,
   "id": "62f28f8a",
   "metadata": {},
   "outputs": [
    {
     "name": "stdout",
     "output_type": "stream",
     "text": [
      "['assalomu ', '\\n', '\\n', 'alaykum', '\\n', '\\n', '\\n', '\\n', 'yaxshimisiz']\n"
     ]
    }
   ],
   "source": [
    "# 11\n",
    "with open(\"files/file11.txt\", \"r+\") as f:\n",
    "    a = f.read()\n",
    "    a = a.split(\"\\n\")\n",
    "    i = 0\n",
    "    while i < len(a):\n",
    "        if a[i] == \"\":\n",
    "            a[i]=\"\\n\"\n",
    "            a.insert(i, \"\\n\")\n",
    "            continue\n",
    "        i += 1\n",
    "    print(a)\n",
    "    f.seek(0)\n",
    "    #f.writelines(a) "
   ]
  },
  {
   "cell_type": "code",
   "execution_count": 6,
   "id": "d42b4f4c",
   "metadata": {},
   "outputs": [
    {
     "name": "stdout",
     "output_type": "stream",
     "text": [
      "S = NUrik\n"
     ]
    }
   ],
   "source": [
    "# 12\n",
    "s = input(\"S = \")\n",
    "with open(\"files/file12.txt\", \"r+\") as f:\n",
    "    a=f.readlines()\n",
    "    for i in range(len(a)):\n",
    "        if a[i]==\"\\n\":\n",
    "            a[i] = s + \"\\n\"\n",
    "            \n",
    "    f.seek(1)\n",
    "    f.writelines(a)\n",
    "    \n",
    "    "
   ]
  },
  {
   "cell_type": "code",
   "execution_count": 7,
   "id": "595a5642",
   "metadata": {},
   "outputs": [],
   "source": [
    "# 13\n",
    "with open(\"files/file13.txt\", \"r+\") as f:\n",
    "    a = f.readlines()\n",
    "    del a[0]\n",
    "    f.seek(0)\n",
    "    f.writelines(a)"
   ]
  },
  {
   "cell_type": "code",
   "execution_count": 12,
   "id": "fa44ff14",
   "metadata": {},
   "outputs": [],
   "source": [
    "# 14\n",
    "with open(\"files/file14.txt\", \"r+\") as f:\n",
    "    a = f.readlines()\n",
    "    del a[-1]\n",
    "    a = \"\".join(a)\n",
    "    f.seek(0)\n",
    "    print(a, file=f)"
   ]
  },
  {
   "cell_type": "code",
   "execution_count": 15,
   "id": "6ca95d74",
   "metadata": {},
   "outputs": [
    {
     "name": "stdout",
     "output_type": "stream",
     "text": [
      "k = 4\n",
      "Satr1\n",
      "satr2\n",
      "satr3\n",
      "satr4\n",
      "satr7\n",
      "satr8\n",
      "\n"
     ]
    }
   ],
   "source": [
    "# 15\n",
    "k = int(input(\"k = \"))\n",
    "with open(\"files/file15.txt\", \"r+\", encoding=\"utf-8\") as f:\n",
    "    data = f.readlines()\n",
    "    if 0<=k<len(data):\n",
    "        del data[k]\n",
    "        data = \"\".join(data)\n",
    "        f.seek(0)\n",
    "        \n",
    "        print(data)\n",
    "        print(data, file=f)\n"
   ]
  },
  {
   "cell_type": "code",
   "execution_count": 17,
   "id": "7380adf7",
   "metadata": {},
   "outputs": [
    {
     "name": "stdout",
     "output_type": "stream",
     "text": [
      "['Satr1\\n', 'satr2\\n', 'satr3\\n', '\\n', 'satr4\\n', '\\n', 'satr7\\n', '\\n', '\\n', 'satr8\\n', '\\n', '\\n', 'Satr1\\n', 'satr2\\n', 'satr3\\n', 'satr4\\n', 'satr7\\n', 'satr8\\n', '\\n']\n",
      "Satr1\n",
      "satr2\n",
      "satr3\n",
      "satr4\n",
      "satr7\n",
      "satr8\n",
      "Satr1\n",
      "satr2\n",
      "satr3\n",
      "satr4\n",
      "satr7\n",
      "satr8\n",
      "\n"
     ]
    }
   ],
   "source": [
    "# 16\n",
    "with open(\"files/file16.txt\", \"r+\", encoding=\"utf-8\") as f:\n",
    "    data = f.readlines()\n",
    "    print(data)\n",
    "    i = 0\n",
    "    while i < len(data):\n",
    "        if data[i] == \"\\n\":\n",
    "            del data[i]\n",
    "            continue\n",
    "        i+=1\n",
    "    data = \"\".join(data)\n",
    "    print(data)\n",
    "    f.seek(0)\n",
    "    print(data, file=f)"
   ]
  },
  {
   "cell_type": "code",
   "execution_count": 22,
   "id": "3579bf0c",
   "metadata": {},
   "outputs": [
    {
     "name": "stdout",
     "output_type": "stream",
     "text": [
      "['Satr1\\n', 'satr2\\n', 'satr3\\n', 'satr4\\n', 'satr7\\n', 'satr8\\n', 'Satr1\\n', 'satr2\\n', 'satr3\\n', 'satr4\\n', 'satr7\\n', 'satr8'] 12\n",
      "\n",
      "['Satr10\\n', 'satr20\\n', 'satr30\\n', 'satr40\\n', 'satr70\\n', 'satr80']\n",
      "['Satr1\\n', 'Satr10\\n', 'satr2\\n', 'satr20\\n', 'satr3\\n', 'satr30\\n', 'satr4\\n', 'satr40\\n', 'satr7\\n', 'satr70\\n', 'satr8\\n', 'satr80', 'Satr1\\n', 'satr2\\n', 'satr3\\n', 'satr4\\n', 'satr7\\n', 'satr8'] 18\n"
     ]
    }
   ],
   "source": [
    "# 17\n",
    "with open(\"files/file17_1.txt\", \"r+\", encoding=\"utf-8\") as f1:\n",
    "    data1 = f1.readlines()\n",
    "    \n",
    "with open(\"files/file17.txt\", \"r+\", encoding=\"utf-8\") as f:\n",
    "    data = f.readlines()\n",
    "    if len(data) > i and len(data1) > 0:\n",
    "        i = 0; j=0\n",
    "        while i < len(data1):\n",
    "            data.insert(j+i+1,data1[i])\n",
    "            i+=1; j+=1\n",
    "    data = \"\".join(data)\n",
    "    print(data,)"
   ]
  },
  {
   "cell_type": "code",
   "execution_count": 32,
   "id": "1f6dd0a7",
   "metadata": {},
   "outputs": [
    {
     "name": "stdout",
     "output_type": "stream",
     "text": [
      "k = 5\n"
     ]
    }
   ],
   "source": [
    "# 18\n",
    "k = int(input(\"k = \"))\n",
    "\n",
    "with open(\"files/file18.txt\", \"r+\", encoding=\"utf-8\") as f:\n",
    "    data = f.readlines()\n",
    "    i = 0\n",
    "    while i < len(data):\n",
    "        if len(data[i]) <= k:\n",
    "            data[i] = \"\"\n",
    "            \n",
    "        else:\n",
    "            data[i] = data[i][k::]\n",
    "        i+=1\n",
    "    \n",
    "    if len(data)>0:\n",
    "        data = \"\".join(data)\n",
    "        f.seek(0)\n",
    "        print(data, file=f)"
   ]
  },
  {
   "cell_type": "code",
   "execution_count": 40,
   "id": "9cc3ceaf",
   "metadata": {},
   "outputs": [],
   "source": [
    "# 19\n",
    "with open(\"files/file19.txt\",\"r+\", encoding=\"utf-8\") as f:\n",
    "    data = f.read()    \n",
    "    f.seek(0)\n",
    "    print(data.swapcase(), file=f)"
   ]
  },
  {
   "cell_type": "code",
   "execution_count": 43,
   "id": "f915804b",
   "metadata": {},
   "outputs": [],
   "source": [
    "# 20\n",
    "with open(\"files/file20.txt\", \"r+\", encoding=\"utf-8\") as f:\n",
    "    data = f.readlines()\n",
    "    for i in range(len(data)):\n",
    "        satr = data[i].split()\n",
    "        data[i] = \" \".join(satr)\n",
    "        data[i] += \"\\n\"\n",
    "    data = \"\".join(data)\n",
    "    f.seek(0)\n",
    "    print(data, file=f)\n",
    "    "
   ]
  },
  {
   "cell_type": "code",
   "execution_count": 50,
   "id": "917c40f3",
   "metadata": {},
   "outputs": [],
   "source": [
    "# 21\n",
    "with open(\"files/file21.txt\", \"r+\", encoding=\"utf-8\") as f:\n",
    "    data = f.readlines()\n",
    "\n",
    "    del data[-1], data[-2], data[-3]\n",
    "    f.seek(0)\n",
    "   \n",
    "    f.writelines(data)"
   ]
  },
  {
   "cell_type": "code",
   "execution_count": 22,
   "id": "db40104f",
   "metadata": {},
   "outputs": [
    {
     "name": "stdout",
     "output_type": "stream",
     "text": [
      "k = 5\n"
     ]
    }
   ],
   "source": [
    "# 22\n",
    "k=int(input(\"k = \"))\n",
    "with open(\"files/file22.txt\", \"r+\", encoding=\"utf-8\") as f:\n",
    "    data = f.readlines()\n",
    "    f.seek(0)\n",
    "    f.writelines(list(\" \"+\"\\n\" for i in range(len(data))))\n",
    "    print(\"\".join(data[0:len(data)-k:]), file=f)\n",
    "    "
   ]
  },
  {
   "cell_type": "code",
   "execution_count": 21,
   "id": "12ce21db",
   "metadata": {},
   "outputs": [
    {
     "name": "stdout",
     "output_type": "stream",
     "text": [
      "k = 30\n",
      "a\n",
      "jahon chempionati boshlandi.\n"
     ]
    }
   ],
   "source": [
    "# 23\n",
    "k = int(input(\"k = \"))\n",
    "with open(\"files/file23.txt\", \"r+\", encoding=\"utf-8\") as f:\n",
    "    mal = f.read()\n",
    "    mal = mal[len(mal)-k:]\n",
    "print(mal)\n",
    "\n",
    "\n",
    "with open(\"files/file23_1\", \"x\", encoding=\"utf-8\") as f:\n",
    "    f.write(mal)"
   ]
  },
  {
   "cell_type": "code",
   "execution_count": 26,
   "id": "3c13d36b",
   "metadata": {},
   "outputs": [
    {
     "name": "stdout",
     "output_type": "stream",
     "text": [
      "5\n",
      "['Taekvondo bo‘yicha Osiyo chempionatida\\nUlug‘bek Rashitov\\n\\n\\n', 'oltin va Charos Qayumova kumush\\nmedalni qo‘lga kiritishdi.\\n\\n\\n', 'Rossiyalik qoʻshiqchi Yuriy Shatunov\\n48 yoshda vafot etdi.\\n\\n', 'Gustavo Petro Kolumbiya  \\nprezidenti etib saylandi.\\n', 'Budapeshtda Suv sport boʻyicha  \\njahon chempionati boshlandi..']\n"
     ]
    }
   ],
   "source": [
    "# 24\n",
    "with open(\"files/file24.txt\", \"r+\", encoding=\"utf-8\") as f:\n",
    "    data = f.read()\n",
    "    data = data.split(\"\\n    \")\n",
    "    print(len(data))\n",
    "    print(data)\n",
    "    "
   ]
  },
  {
   "cell_type": "code",
   "execution_count": 30,
   "id": "8c71d638",
   "metadata": {},
   "outputs": [
    {
     "name": "stdout",
     "output_type": "stream",
     "text": [
      "k = 8\n",
      "Portugaliya imperiyasi \n",
      " (portugalcha: Império Português), shuningdek tarixda Portugaliya mustamlakachi imperiyasi \n",
      " \n",
      " (Império Colonial Português)\n",
      " deb yuritilgan ushbu davlat\n",
      " hozirgi Portugaliyadan\n",
      " \n",
      " \n",
      " \n",
      " tashqari dunyoning katta qismlarida \n",
      " \n",
      " joylashgan bir qancha mustamlakalarni oʻz ichiga olgan.\n",
      "Portugaliya imperiyasi \n",
      " (portugalcha: Império Português), shuningdek tarixda Portugaliya mustamlakachi imperiyasi \n",
      " \n",
      " (Império Colonial Português)\n",
      " deb yuritilgan ushbu davlat\n",
      " hozirgi Portugaliyadan\n",
      " \n",
      " tashqari dunyoning katta qismlarida \n",
      " \n",
      " joylashgan bir qancha mustamlakalarni oʻz ichiga olgan.\n"
     ]
    }
   ],
   "source": [
    "# 25\n",
    "k = int(input(\"k = \"))\n",
    "with open(\"files/file25.txt\", \"r+\", encoding=\"utf-8\") as f:\n",
    "    mal = f.readlines()\n",
    "   # print(*mal)\n",
    "    if mal[k]==\"\\n\":\n",
    "        while mal[k]==\"\\n\":\n",
    "            del mal[k]\n",
    "        while mal[k-1]==\"\\n\":\n",
    "            del mal[k-1]\n",
    "            \n",
    "    #print(*mal)\n",
    "    f.seek(0)\n",
    "    f.readlines(mal)"
   ]
  },
  {
   "cell_type": "code",
   "execution_count": 28,
   "id": "6c1a39c5",
   "metadata": {},
   "outputs": [
    {
     "name": "stdout",
     "output_type": "stream",
     "text": [
      "5\n"
     ]
    }
   ],
   "source": [
    "# 26\n",
    "with open(\"files/file26.txt\", \"r+\", encoding=\"utf-8\") as f:\n",
    "    data = f.read()\n",
    "    data = data.split(\"\\n    \")\n",
    "    print(len(data))"
   ]
  },
  {
   "cell_type": "code",
   "execution_count": 34,
   "id": "184907f6",
   "metadata": {},
   "outputs": [
    {
     "name": "stdout",
     "output_type": "stream",
     "text": [
      "k = 2\n"
     ]
    }
   ],
   "source": [
    "# 27\n",
    "k = int(input(\"k = \"))\n",
    "with open(\"files/file27.txt\", \"r+\", encoding=\"utf-8\") as f:\n",
    "    data = f.read()\n",
    "    data = data.split(\"\\n    \")\n",
    "    if k<len(data):\n",
    "        del data[k]\n",
    "    data.append(\"\")\n",
    "    data = \"     \".join(data)\n",
    "    f.seek(0)\n",
    "    print(data, file=f)"
   ]
  },
  {
   "cell_type": "code",
   "execution_count": 61,
   "id": "350dca5e",
   "metadata": {},
   "outputs": [],
   "source": [
    "# 28\n",
    "with open(\"files/file23.txt\", \"r+\", encoding=\"utf-8\") as f:\n",
    "    mal = f.read()\n",
    "    mal = mal.split(\"\\n\")\n",
    "    i = 0\n",
    "    while i < len(mal):\n",
    "        mal[i]+=\"\\n\"\n",
    "        \n",
    "        if \"     \"==mal[i][0:5]:\n",
    "            mal.insert(i-2, \"\\n\")\n",
    "            i+=1\n",
    "        i+=1\n",
    "        \n",
    "    if mal[0]==\"\\n\":\n",
    "        del mal[0]\n",
    "    \n",
    "        \n",
    "    \n",
    "    mal = \"\".join(mal)\n",
    "    \n",
    "    f.seek(0)\n",
    "    f.writelines(mal)"
   ]
  },
  {
   "cell_type": "code",
   "execution_count": 42,
   "id": "fc466e56",
   "metadata": {},
   "outputs": [
    {
     "name": "stdout",
     "output_type": "stream",
     "text": [
      "chempionatida\n"
     ]
    }
   ],
   "source": [
    "# 29\n",
    "with open(\"files/file29.txt\", \"r+\", encoding=\"utf-8\") as f:\n",
    "    data = f.read()\n",
    "    data = data.split()\n",
    "    data = sorted(data, key=lambda x: len(x), reverse=True)    \n",
    "    print(data[0])"
   ]
  },
  {
   "cell_type": "code",
   "execution_count": 43,
   "id": "c6aa3e64",
   "metadata": {},
   "outputs": [
    {
     "name": "stdout",
     "output_type": "stream",
     "text": [
      "va\n"
     ]
    }
   ],
   "source": [
    "# 30\n",
    "with open(\"files/file29.txt\", \"r+\", encoding=\"utf-8\") as f:\n",
    "    data = f.read()\n",
    "    data = data.split()\n",
    "    data = sorted(data, key=lambda x: len(x))    \n",
    "    print(data[0])"
   ]
  },
  {
   "cell_type": "code",
   "execution_count": 9,
   "id": "034542cd",
   "metadata": {},
   "outputs": [],
   "source": [
    "def clear(f):\n",
    "    data = f.readlines()\n",
    "    f.seek(0); f.tell(0)\n",
    "    for i in range(len(data)):\n",
    "        f.write(\" \"*len(data[i])+\"\\n\")"
   ]
  },
  {
   "cell_type": "code",
   "execution_count": 17,
   "id": "5a4718ed",
   "metadata": {},
   "outputs": [
    {
     "name": "stdout",
     "output_type": "stream",
     "text": [
      "k = 5\n",
      "Osiyo oltin Yuriy vafot etdi. Petro sport jahon\n"
     ]
    }
   ],
   "source": [
    "# 31\n",
    "k = int(input(\"k = \"))\n",
    "with open(\"files/file23.txt\", \"r+\", encoding=\"utf-8\") as f:\n",
    "    mal = f.read()\n",
    "mal = mal.split()\n",
    "mal1 = []\n",
    "for i in range(len(mal)):    \n",
    "    if len(mal[i]) == k:\n",
    "        mal1.append(mal[i])\n",
    "mal1 = \" \".join(mal1)\n",
    "\n",
    "with open(\"files/file31_1.txt\",\"x\", encoding=\"utf-8\")as f:\n",
    "    print(mal1)\n",
    "    print(mal1, file=f)"
   ]
  },
  {
   "cell_type": "code",
   "execution_count": 75,
   "id": "d285c8f6",
   "metadata": {},
   "outputs": [],
   "source": [
    "def belgi(soz):\n",
    "    import string\n",
    "    for i in soz:\n",
    "        if i in list(string.punctuation):\n",
    "            return False\n",
    "    else:\n",
    "        return True\n",
    "    "
   ]
  },
  {
   "cell_type": "code",
   "execution_count": 76,
   "id": "9da0ffd1",
   "metadata": {},
   "outputs": [
    {
     "data": {
      "text/plain": [
       "False"
      ]
     },
     "execution_count": 76,
     "metadata": {},
     "output_type": "execute_result"
    }
   ],
   "source": [
    "belgi(\"kje'bgvldk\")"
   ]
  },
  {
   "cell_type": "code",
   "execution_count": 78,
   "id": "7fdf5cdc",
   "metadata": {},
   "outputs": [
    {
     "name": "stdout",
     "output_type": "stream",
     "text": [
      "['Cjrsakgjflaes', 'awejhbflcw;awjebf', \"acaeca'w;ejrkv\", 'cds;ajkfvbc', 'alsvb;cj', 'sa', 'ajnv;klas', 'csajkrbfkjacj', 'ajbvkajbc', \"ca'akjf;aekrfnca;kler'najnkc\", 'calkjrfba'] Cjrsakgjflaes csajkrbfkjacj calkjrfba\n"
     ]
    }
   ],
   "source": [
    "# 32\n",
    "with open(\"files/file32.txt\", \"r+\") as f:\n",
    "    data = f.read()\n",
    "data = data.split()\n",
    "data1 = []\n",
    "for i in range(len(data)):\n",
    "    if (data[i][0] == \"c\" or data[i][0] == \"C\") and belgi(data[i]):\n",
    "        data1.append(data[i])\n",
    "data1 = \" \".join(data1)\n",
    "with open(\"files/file32_1.txt\", \"x\", encoding=\"utf-8\") as f:\n",
    "    print(data1, file=f)"
   ]
  },
  {
   "cell_type": "code",
   "execution_count": 79,
   "id": "29496e19",
   "metadata": {},
   "outputs": [],
   "source": [
    "# 33\n",
    "with open(\"files/file32.txt\", \"r+\") as f:\n",
    "    data = f.read()\n",
    "data = data.split()\n",
    "data1 = []\n",
    "for i in range(len(data)):\n",
    "    if (data[i][0] == \"c\" or data[i][0] == \"C\") and belgi(data[i]):\n",
    "        data1.append(data[i])\n",
    "data1 = \" \".join(data1)\n",
    "with open(\"files/file33.txt\", \"x\", encoding=\"utf-8\") as f:\n",
    "    print(data1, file=f)"
   ]
  },
  {
   "cell_type": "code",
   "execution_count": 63,
   "id": "bfe96edf",
   "metadata": {},
   "outputs": [],
   "source": [
    "def ikki_yonga_tekislash(matn):\n",
    "    satr_list = matn.split(\"\\n\")\n",
    "    satr_list.append(\"\")\n",
    "    for i in range(len(satr_list)):\n",
    "        sozlar1 = satr_list[i].split()\n",
    "        sozlar = \"\".join(sozlar1)\n",
    "        k = 50 - len(sozlar)\n",
    "        j = len(sozlar1)-1\n",
    "        while k>0 and len(sozlar1)>0:\n",
    "            if sozlar1[j] != sozlar1[-1]:\n",
    "                sozlar1[j] += \" \"\n",
    "                k-=1\n",
    "            j+=1\n",
    "            if j > len(sozlar1)-1:\n",
    "                j = 0\n",
    "            satr_list[i] = \"\".join(sozlar1)\n",
    "    matn = \"\\n\".join(satr_list)\n",
    "    return matn\n",
    "    "
   ]
  },
  {
   "cell_type": "code",
   "execution_count": 64,
   "id": "028dbfe3",
   "metadata": {},
   "outputs": [],
   "source": [
    "def ongga_tekislash(matn):\n",
    "    satr_list = matn.split(\"\\n\")\n",
    "    satr_list.append(\"\")\n",
    "    for i in range(len(satr_list)):\n",
    "        sozlar1 = satr_list[i].split()\n",
    "        sozlar = \"\".join(sozlar1) \n",
    "        while len(satr_list[i]) >= 50:\n",
    "            satr_list[i+1] = sozlar1[-1] + \" \" + satr_list[i+1]\n",
    "            del sozlar1[-1]\n",
    "            sozlar = \"\".join(sozlar1)\n",
    "            satr_list[i] = \" \".join(sozlar1)\n",
    "        sozlar = \" \".join(sozlar1)\n",
    "        sozlar = \" \"*(50-len(sozlar)) + sozlar\n",
    "        satr_list[i] = sozlar\n",
    "    matn = \"\\n\".join(satr_list)\n",
    "    return matn"
   ]
  },
  {
   "cell_type": "code",
   "execution_count": 65,
   "id": "9052404b",
   "metadata": {},
   "outputs": [],
   "source": [
    "def ortaga_tekishlash(matn):\n",
    "    satr_list = matn.split(\"\\n\")\n",
    "    satr_list.append(\"\")\n",
    "    for i in range(len(satr_list)):\n",
    "        sozlar1 = satr_list[i].split()\n",
    "        sozlar = \"\".join(sozlar1) \n",
    "        while len(satr_list[i]) >= 50:\n",
    "            satr_list[i+1] = sozlar1[-1] + \" \" + satr_list[i+1]\n",
    "            del sozlar1[-1]\n",
    "            sozlar = \"\".join(sozlar1)\n",
    "            satr_list[i] = \" \".join(sozlar1)\n",
    "        sozlar = \" \".join(sozlar1)\n",
    "        sozlar = \" \"*((50-len(sozlar))//2) + sozlar + \" \"*((50-len(sozlar))//2)\n",
    "        if (50-len(sozlar))%2==1:\n",
    "            sozlar = \" \" + sozlar\n",
    "        satr_list[i] = sozlar\n",
    "    matn = \"\\n\".join(satr_list)\n",
    "    return matn"
   ]
  },
  {
   "cell_type": "code",
   "execution_count": 66,
   "id": "9e3216d0",
   "metadata": {},
   "outputs": [],
   "source": [
    "def chapga_tekislash(matn):\n",
    "    satr_list = matn.split(\"\\n\")\n",
    "    satr_list.append(\"\")\n",
    "    for i in range(len(satr_list)):\n",
    "        sozlar1 = satr_list[i].split()\n",
    "        sozlar = \"\".join(sozlar1) \n",
    "        while len(satr_list[i]) >= 50:\n",
    "            satr_list[i+1] = sozlar1[-1] + \" \" + satr_list[i+1]\n",
    "            del sozlar1[-1]\n",
    "            sozlar = \"\".join(sozlar1)\n",
    "            satr_list[i] = \" \".join(sozlar1)\n",
    "        sozlar = \" \".join(sozlar1)\n",
    "        satr_list[i] = sozlar\n",
    "    matn = \"\\n\".join(satr_list)\n",
    "    return matn"
   ]
  },
  {
   "cell_type": "code",
   "execution_count": 271,
   "id": "4a933601",
   "metadata": {},
   "outputs": [],
   "source": [
    "# 34\n",
    "with open(\"files/file34.txt\", \"r+\", encoding=\"utf-8\") as  f:\n",
    "    matn = f.read()\n",
    "    f.seek(0)\n",
    "    print(ongga_tekislash(matn), file=f)"
   ]
  },
  {
   "cell_type": "code",
   "execution_count": 277,
   "id": "368f7c0d",
   "metadata": {},
   "outputs": [],
   "source": [
    "# 35\n",
    "with open(\"files/file35.txt\", \"r+\", encoding=\"utf-8\") as f:\n",
    "    matn = f.read()\n",
    "    f.seek(0)\n",
    "    print(ortaga_tekishlash(matn), file=f)"
   ]
  },
  {
   "cell_type": "code",
   "execution_count": 280,
   "id": "f9c05478",
   "metadata": {},
   "outputs": [],
   "source": [
    "# 36 \n",
    "with open(\"files/file36.txt\", \"r+\", encoding=\"utf-8\") as f:\n",
    "    matn = f.read()\n",
    "    f.seek(0)\n",
    "    print(ortaga_tekishlash(matn), file=f)"
   ]
  },
  {
   "cell_type": "code",
   "execution_count": 68,
   "id": "41accf1a",
   "metadata": {},
   "outputs": [],
   "source": [
    "# 37\n",
    "with open(\"files/file37.txt\", \"r+\", encoding=\"utf-8\") as f:\n",
    "    matn = f.read()\n",
    "    f.seek(0)\n",
    "    print(ikki_yonga_tekislash(matn), file=f)"
   ]
  },
  {
   "cell_type": "code",
   "execution_count": 1,
   "id": "61b463fa",
   "metadata": {},
   "outputs": [],
   "source": [
    "matn = \"\"\"     C++  -  bu umumiy maqsadlar uchun tuzilgan, statik usulda yozilgan  dasturlash  tili.  yozilgan  dasturlash\n",
    "tili.  Protsedurali dasturlash,obyektga   yoʻnaltirilgan   dasturlash, umumiy dasturlashkabi dasturlash paradigmalarini  \n",
    "qoʻllab-quvvatlaydi,  modullik, alohida        kompilyatsiya,        istisnolardan foydalanish, ma’lumotlar abstraksiyasi,\n",
    "obyektlarning  turlari  (sinflari) deklaratsiyasi, virtual    funksiyalarni   ta’minlaydi. Standart kutubxonada   koʻp \n",
    "ishlatiladigan   konteynerlar va     algoritmlar    mavjud.    \n",
    "     C++    yuqori va   past  darajadagi  tillarning  xususiyatlarinibirlashtiradi.\n",
    "     Oldingi C tili bilan taqqoslaganda, obyektga  yoʻnaltirilgan  va  umumiy dasturlashni qoʻllab-quvvatlashga  koʻproq  \n",
    "e'tibor qaratiladi.\"\"\""
   ]
  },
  {
   "cell_type": "code",
   "execution_count": 2,
   "id": "3ddbd707",
   "metadata": {},
   "outputs": [
    {
     "name": "stdout",
     "output_type": "stream",
     "text": [
      "k = 65\n"
     ]
    }
   ],
   "source": [
    "k = int(input(\"k = \"))\n",
    "while k < 25:\n",
    "    k = int(input(\"k = \"))"
   ]
  },
  {
   "cell_type": "code",
   "execution_count": 3,
   "id": "fb6b6d18",
   "metadata": {},
   "outputs": [
    {
     "data": {
      "text/plain": [
       "['     C++  -  bu umumiy maqsadlar uchun tuzilgan, statik usulda yozilgan  dasturlash  tili.  yozilgan  dasturlash\\ntili.  Protsedurali dasturlash,obyektga   yoʻnaltirilgan   dasturlash, umumiy dasturlashkabi dasturlash paradigmalarini  \\nqoʻllab-quvvatlaydi,  modullik, alohida        kompilyatsiya,        istisnolardan foydalanish, ma’lumotlar abstraksiyasi,\\nobyektlarning  turlari  (sinflari) deklaratsiyasi, virtual    funksiyalarni   ta’minlaydi. Standart kutubxonada   koʻp \\nishlatiladigan   konteynerlar va     algoritmlar    mavjud.    ',\n",
       " ' C++    yuqori va   past  darajadagi  tillarning  xususiyatlarinibirlashtiradi.',\n",
       " \" Oldingi C tili bilan taqqoslaganda, obyektga  yoʻnaltirilgan  va  umumiy dasturlashni qoʻllab-quvvatlashga  koʻproq  \\ne'tibor qaratiladi.\"]"
      ]
     },
     "execution_count": 3,
     "metadata": {},
     "output_type": "execute_result"
    }
   ],
   "source": [
    "matn_list = matn.split(\"\\n    \")\n",
    "matn_list"
   ]
  },
  {
   "cell_type": "code",
   "execution_count": 4,
   "id": "ef375c5a",
   "metadata": {},
   "outputs": [
    {
     "ename": "IndexError",
     "evalue": "list index out of range",
     "output_type": "error",
     "traceback": [
      "\u001b[1;31m---------------------------------------------------------------------------\u001b[0m",
      "\u001b[1;31mIndexError\u001b[0m                                Traceback (most recent call last)",
      "Input \u001b[1;32mIn [4]\u001b[0m, in \u001b[0;36m<cell line: 1>\u001b[1;34m()\u001b[0m\n\u001b[0;32m      6\u001b[0m \u001b[38;5;28;01mtry\u001b[39;00m:\n\u001b[1;32m----> 7\u001b[0m     abzas[i\u001b[38;5;241m+\u001b[39m\u001b[38;5;241m1\u001b[39m] \u001b[38;5;241m=\u001b[39m \u001b[43msatr\u001b[49m\u001b[43m[\u001b[49m\u001b[38;5;241;43m-\u001b[39;49m\u001b[38;5;241;43m1\u001b[39;49m\u001b[43m]\u001b[49m \u001b[38;5;241m+\u001b[39m \u001b[38;5;124m\"\u001b[39m\u001b[38;5;124m \u001b[39m\u001b[38;5;124m\"\u001b[39m \u001b[38;5;241m+\u001b[39m abzas[i\u001b[38;5;241m+\u001b[39m\u001b[38;5;241m1\u001b[39m]\n\u001b[0;32m      8\u001b[0m \u001b[38;5;28;01mexcept\u001b[39;00m:\n",
      "\u001b[1;31mIndexError\u001b[0m: list index out of range",
      "\nDuring handling of the above exception, another exception occurred:\n",
      "\u001b[1;31mIndexError\u001b[0m                                Traceback (most recent call last)",
      "Input \u001b[1;32mIn [4]\u001b[0m, in \u001b[0;36m<cell line: 1>\u001b[1;34m()\u001b[0m\n\u001b[0;32m      8\u001b[0m \u001b[38;5;28;01mexcept\u001b[39;00m:\n\u001b[0;32m      9\u001b[0m     abzas\u001b[38;5;241m.\u001b[39mappend(\u001b[38;5;124m\"\u001b[39m\u001b[38;5;124m\"\u001b[39m)\n\u001b[1;32m---> 10\u001b[0m     abzas[i\u001b[38;5;241m+\u001b[39m\u001b[38;5;241m1\u001b[39m] \u001b[38;5;241m=\u001b[39m \u001b[43msatr\u001b[49m\u001b[43m[\u001b[49m\u001b[38;5;241;43m-\u001b[39;49m\u001b[38;5;241;43m1\u001b[39;49m\u001b[43m]\u001b[49m \u001b[38;5;241m+\u001b[39m \u001b[38;5;124m\"\u001b[39m\u001b[38;5;124m \u001b[39m\u001b[38;5;124m\"\u001b[39m \u001b[38;5;241m+\u001b[39m abzas[i\u001b[38;5;241m+\u001b[39m\u001b[38;5;241m1\u001b[39m] \n\u001b[0;32m     11\u001b[0m \u001b[38;5;28;01mdel\u001b[39;00m satr[\u001b[38;5;241m-\u001b[39m\u001b[38;5;241m1\u001b[39m]\n\u001b[0;32m     12\u001b[0m abzas[i] \u001b[38;5;241m=\u001b[39m \u001b[38;5;124m\"\u001b[39m\u001b[38;5;124m \u001b[39m\u001b[38;5;124m\"\u001b[39m\u001b[38;5;241m.\u001b[39mjoin(satr)\n",
      "\u001b[1;31mIndexError\u001b[0m: list index out of range"
     ]
    }
   ],
   "source": [
    "for j in range(len(matn_list)):\n",
    "    abzas = matn_list[j].split(\"\\n\")\n",
    "    for i in range(len(abzas)):\n",
    "        satr = abzas[i].split()\n",
    "        while len(abzas[i]) > k if i != 0 else k-5:\n",
    "            try:\n",
    "                abzas[i+1] = satr[-1] + \" \" + abzas[i+1]\n",
    "            except:\n",
    "                abzas.append(\"\")\n",
    "                abzas[i+1] = satr[-1] + \" \" + abzas[i+1] \n",
    "            del satr[-1]\n",
    "            abzas[i] = \" \".join(satr)\n",
    "    matn_list[j] = \"\\n\".join(abzas)\n",
    "    "
   ]
  },
  {
   "cell_type": "code",
   "execution_count": null,
   "id": "57297d77",
   "metadata": {},
   "outputs": [],
   "source": [
    "# 40\n"
   ]
  }
 ],
 "metadata": {
  "kernelspec": {
   "display_name": "Python 3 (ipykernel)",
   "language": "python",
   "name": "python3"
  },
  "language_info": {
   "codemirror_mode": {
    "name": "ipython",
    "version": 3
   },
   "file_extension": ".py",
   "mimetype": "text/x-python",
   "name": "python",
   "nbconvert_exporter": "python",
   "pygments_lexer": "ipython3",
   "version": "3.9.11"
  }
 },
 "nbformat": 4,
 "nbformat_minor": 5
}
