{
 "cells": [
  {
   "cell_type": "code",
   "execution_count": 180,
   "id": "adf7e6a5",
   "metadata": {},
   "outputs": [],
   "source": [
    "matn = \"\"\"     C++  -  bu umumiy maqsadlar uchun tuzilgan, statik usulda yozilgan  dasturlash  tili. Protsedurali dasturlash,obyektga   yoʻnaltirilgan   dasturlash, umumiy dasturlashkabi dasturlash paradigmalarini  \n",
    "qoʻllab-quvvatlaydi,  modullik, alohida        kompilyatsiya,        istisnolardan foydalanish, ma’lumotlar abstraksiyasi,\n",
    "obyektlarning  turlari  (sinflari) deklaratsiyasi, virtual    funksiyalarni   ta’minlaydi. Standart kutubxonada   koʻp \n",
    "ishlatiladigan   konteynerlar va     algoritmlar    mavjud.    \n",
    "     C++    yuqori va   past  darajadagi  tillarning  xususiyatlarini birlashtiradi.\n",
    "     Oldingi C tili bilan taqqoslaganda, obyektga  yoʻnaltirilgan  va  umumiy dasturlashni qoʻllab-quvvatlashga  koʻproq  \n",
    "e'tibor qaratiladi.\"\"\""
   ]
  },
  {
   "cell_type": "code",
   "execution_count": 178,
   "id": "d4d16aa1",
   "metadata": {},
   "outputs": [],
   "source": [
    "k = 60"
   ]
  },
  {
   "cell_type": "code",
   "execution_count": 179,
   "id": "5936c12e",
   "metadata": {},
   "outputs": [
    {
     "name": "stdout",
     "output_type": "stream",
     "text": [
      "          C++ - bu umumiy maqsadlar uchun tuzilgan, statik usulda\n",
      "       yozilgan dasturlash tili. Protsedurali dasturlash,obyektga\n",
      "      yoʻnaltirilgan dasturlash, umumiy dasturlashkabi dasturlash\n",
      "           paradigmalarini qoʻllab-quvvatlaydi, modullik, alohida\n",
      "            kompilyatsiya, istisnolardan foydalanish, ma’lumotlar\n",
      "                  abstraksiyasi, obyektlarning turlari (sinflari)\n",
      "      deklaratsiyasi, virtual funksiyalarni ta’minlaydi. Standart\n",
      "      kutubxonada koʻp ishlatiladigan konteynerlar va algoritmlar\n",
      "                                                          mavjud.\n",
      "                         C++ yuqori va past darajadagi tillarning\n",
      "                                   xususiyatlarini birlashtiradi.\n",
      "                     Oldingi C tili bilan taqqoslaganda, obyektga\n",
      "       yoʻnaltirilgan va umumiy dasturlashni qoʻllab-quvvatlashga\n",
      "                                      koʻproq e'tibor qaratiladi.\n",
      "\n"
     ]
    }
   ],
   "source": [
    "abzas_list = matn.split(\"\\n    \")\n",
    "for j in range(len(abzas_list)):    \n",
    "    abzas = abzas_list[j].split(\"\\n\")\n",
    "    i = 0\n",
    "    while i  < len(abzas):    \n",
    "        if i==0:\n",
    "            k -= 5\n",
    "        \n",
    "        abzas[i] = abzas[i].strip()\n",
    "        satr = abzas[i].split()      \n",
    "        \n",
    "        while len(abzas[i]) > k:\n",
    "            try:\n",
    "                abzas[i+1] = satr[-1] + \" \" + abzas[i+1]\n",
    "            except IndexError:\n",
    "                abzas.append(\"\")\n",
    "                abzas[i+1] = satr[-1] + \" \" + abzas[i+1] \n",
    "            del satr[-1]\n",
    "            abzas[i] = \" \".join(satr)      \n",
    "        if i==0:  \n",
    "            k += 5\n",
    "        abzas[i] = \" \"*(k-len(abzas[i])+5) + abzas[i]      \n",
    "            \n",
    "        i+=1\n",
    "    abzas_list[j] = \"\\n\".join(abzas)+\"\\n\"\n",
    "matn = \"\".join(abzas_list)\n",
    "print(matn)"
   ]
  },
  {
   "cell_type": "code",
   "execution_count": 173,
   "id": "656878ad",
   "metadata": {},
   "outputs": [],
   "source": [
    "for j in range(len(abzas_list)):    \n",
    "    abzas = abzas_list[j].split(\"\\n\")\n",
    "    i = 0\n",
    "    while i  < len(abzas):    \n",
    "        if i==0:\n",
    "            k -= 5\n",
    "        \n",
    "        abzas[i] = abzas[i].strip()\n",
    "        satr = abzas[i].split()      \n",
    "        \n",
    "        while len(abzas[i]) > k:\n",
    "            try:\n",
    "                abzas[i+1] = satr[-1] + \" \" + abzas[i+1]\n",
    "            except IndexError:\n",
    "                abzas.append(\"\")\n",
    "                abzas[i+1] = satr[-1] + \" \" + abzas[i+1] \n",
    "            del satr[-1]\n",
    "            abzas[i] = \" \".join(satr)      \n",
    "        if i==0:  \n",
    "            k += 5\n",
    "        abzas[i] = \" \"*(k-len(abzas[i])+5) + abzas[i]      \n",
    "            \n",
    "        i+=1\n",
    "    abzas_list[j] = \"\\n\".join(abzas)+\"\\n\"\n",
    "    "
   ]
  },
  {
   "cell_type": "code",
   "execution_count": 174,
   "id": "0586cf42",
   "metadata": {},
   "outputs": [
    {
     "name": "stdout",
     "output_type": "stream",
     "text": [
      "          C++ - bu umumiy maqsadlar uchun tuzilgan, statik usulda\n",
      "       yozilgan dasturlash tili. Protsedurali dasturlash,obyektga\n",
      "      yoʻnaltirilgan dasturlash, umumiy dasturlashkabi dasturlash\n",
      "           paradigmalarini qoʻllab-quvvatlaydi, modullik, alohida\n",
      "            kompilyatsiya, istisnolardan foydalanish, ma’lumotlar\n",
      "                  abstraksiyasi, obyektlarning turlari (sinflari)\n",
      "      deklaratsiyasi, virtual funksiyalarni ta’minlaydi. Standart\n",
      "      kutubxonada koʻp ishlatiladigan konteynerlar va algoritmlar\n",
      "                                                          mavjud.\n",
      "\n",
      "                         C++ yuqori va past darajadagi tillarning\n",
      "                                   xususiyatlarini birlashtiradi.\n",
      "\n",
      "                     Oldingi C tili bilan taqqoslaganda, obyektga\n",
      "       yoʻnaltirilgan va umumiy dasturlashni qoʻllab-quvvatlashga\n",
      "                                      koʻproq e'tibor qaratiladi.\n",
      "\n"
     ]
    }
   ],
   "source": [
    "for i in range(len(abzas_list)):\n",
    "    print(abzas_list[i])"
   ]
  },
  {
   "cell_type": "code",
   "execution_count": 175,
   "id": "63f7022d",
   "metadata": {},
   "outputs": [
    {
     "name": "stdout",
     "output_type": "stream",
     "text": [
      "          C++ - bu umumiy maqsadlar uchun tuzilgan, statik usulda\n",
      "       yozilgan dasturlash tili. Protsedurali dasturlash,obyektga\n",
      "      yoʻnaltirilgan dasturlash, umumiy dasturlashkabi dasturlash\n",
      "           paradigmalarini qoʻllab-quvvatlaydi, modullik, alohida\n",
      "            kompilyatsiya, istisnolardan foydalanish, ma’lumotlar\n",
      "                  abstraksiyasi, obyektlarning turlari (sinflari)\n",
      "      deklaratsiyasi, virtual funksiyalarni ta’minlaydi. Standart\n",
      "      kutubxonada koʻp ishlatiladigan konteynerlar va algoritmlar\n",
      "                                                          mavjud.\n",
      "                         C++ yuqori va past darajadagi tillarning\n",
      "                                   xususiyatlarini birlashtiradi.\n",
      "                     Oldingi C tili bilan taqqoslaganda, obyektga\n",
      "       yoʻnaltirilgan va umumiy dasturlashni qoʻllab-quvvatlashga\n",
      "                                      koʻproq e'tibor qaratiladi.\n",
      "\n"
     ]
    }
   ],
   "source": []
  },
  {
   "cell_type": "code",
   "execution_count": 154,
   "id": "aa131491",
   "metadata": {},
   "outputs": [
    {
     "data": {
      "text/plain": [
       "60"
      ]
     },
     "execution_count": 154,
     "metadata": {},
     "output_type": "execute_result"
    }
   ],
   "source": [
    "len(\"                                                     mavjud.\")"
   ]
  },
  {
   "cell_type": "code",
   "execution_count": 197,
   "id": "529b9e02",
   "metadata": {},
   "outputs": [],
   "source": [
    "def ongga_tekislas(matn):\n",
    "    k = 50\n",
    "    abzas_list = matn.split(\"\\n    \")\n",
    "    for j in range(len(abzas_list)):    \n",
    "        abzas = abzas_list[j].split(\"\\n\")\n",
    "        i = 0\n",
    "        while i  < len(abzas):    \n",
    "            if i==0:\n",
    "                k -= 5\n",
    "            abzas[i] = abzas[i].strip()\n",
    "            satr = abzas[i].split()      \n",
    "\n",
    "            while len(abzas[i]) > k:\n",
    "                try:\n",
    "                    abzas[i+1] = satr[-1] + \" \" + abzas[i+1]\n",
    "                except IndexError:\n",
    "                    abzas.append(\"\")\n",
    "                    abzas[i+1] = satr[-1] + \" \" + abzas[i+1] \n",
    "                del satr[-1]\n",
    "                abzas[i] = \" \".join(satr)      \n",
    "            if i==0:  \n",
    "                k += 5\n",
    "                \n",
    "            abzas[i] = \" \"*(k-len(abzas[i])) + abzas[i]      \n",
    "\n",
    "            i+=1\n",
    "        abzas_list[j] = \"\\n\".join(abzas)+\"\\n\"\n",
    "    matn = \"\\n\".join(abzas_list)\n",
    "    return matn"
   ]
  },
  {
   "cell_type": "code",
   "execution_count": 198,
   "id": "6cb09f51",
   "metadata": {},
   "outputs": [
    {
     "name": "stdout",
     "output_type": "stream",
     "text": [
      "         C++ - bu umumiy maqsadlar uchun tuzilgan,\n",
      "           statik usulda yozilgan dasturlash tili.\n",
      "   Protsedurali dasturlash,obyektga yoʻnaltirilgan\n",
      "      dasturlash, umumiy dasturlashkabi dasturlash\n",
      "    paradigmalarini qoʻllab-quvvatlaydi, modullik,\n",
      " alohida kompilyatsiya, istisnolardan foydalanish,\n",
      "  ma’lumotlar abstraksiyasi, obyektlarning turlari\n",
      "  (sinflari) deklaratsiyasi, virtual funksiyalarni\n",
      "            ta’minlaydi. Standart kutubxonada koʻp\n",
      "ishlatiladigan konteynerlar va algoritmlar mavjud.\n",
      "\n",
      "          C++ yuqori va past darajadagi tillarning\n",
      "                    xususiyatlarini birlashtiradi.\n",
      "\n",
      "      Oldingi C tili bilan taqqoslaganda, obyektga\n",
      "             yoʻnaltirilgan va umumiy dasturlashni\n",
      "  qoʻllab-quvvatlashga koʻproq e'tibor qaratiladi.\n",
      "\n"
     ]
    }
   ],
   "source": [
    "print(ongga_tekislas(matn))"
   ]
  },
  {
   "cell_type": "code",
   "execution_count": 199,
   "id": "6d5358cc",
   "metadata": {},
   "outputs": [
    {
     "data": {
      "text/plain": [
       "50"
      ]
     },
     "execution_count": 199,
     "metadata": {},
     "output_type": "execute_result"
    }
   ],
   "source": [
    "len(\"  qoʻllab-quvvatlashga koʻproq e'tibor qaratiladi.\")"
   ]
  },
  {
   "cell_type": "code",
   "execution_count": null,
   "id": "ee9c4055",
   "metadata": {},
   "outputs": [],
   "source": []
  }
 ],
 "metadata": {
  "kernelspec": {
   "display_name": "Python 3 (ipykernel)",
   "language": "python",
   "name": "python3"
  },
  "language_info": {
   "codemirror_mode": {
    "name": "ipython",
    "version": 3
   },
   "file_extension": ".py",
   "mimetype": "text/x-python",
   "name": "python",
   "nbconvert_exporter": "python",
   "pygments_lexer": "ipython3",
   "version": "3.9.12"
  }
 },
 "nbformat": 4,
 "nbformat_minor": 5
}
